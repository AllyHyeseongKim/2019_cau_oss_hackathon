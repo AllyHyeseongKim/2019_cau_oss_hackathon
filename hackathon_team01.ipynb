{
  "nbformat": 4,
  "nbformat_minor": 0,
  "metadata": {
    "colab": {
      "name": "해커톤이라쓰고대회라읽는혜성이의케라스맛",
      "version": "0.3.2",
      "provenance": [],
      "collapsed_sections": [],
      "include_colab_link": true
    },
    "kernelspec": {
      "name": "python3",
      "display_name": "Python 3"
    },
    "accelerator": "GPU"
  },
  "cells": [
    {
      "cell_type": "markdown",
      "metadata": {
        "id": "view-in-github",
        "colab_type": "text"
      },
      "source": [
        "<a href=\"https://colab.research.google.com/github/AllyHyeseongKim/2019_cau_oss_hackathon/blob/master/%ED%95%B4%EC%BB%A4%ED%86%A4%EC%9D%B4%EB%9D%BC%EC%93%B0%EA%B3%A0%EB%8C%80%ED%9A%8C%EB%9D%BC%EC%9D%BD%EB%8A%94%ED%98%9C%EC%84%B1%EC%9D%B4%EC%9D%98%EC%BC%80%EB%9D%BC%EC%8A%A4%EB%A7%9B.ipynb\" target=\"_parent\"><img src=\"https://colab.research.google.com/assets/colab-badge.svg\" alt=\"Open In Colab\"/></a>"
      ]
    },
    {
      "cell_type": "markdown",
      "metadata": {
        "id": "1AosAX9DXOlc",
        "colab_type": "text"
      },
      "source": [
        "# **0. 해커톤 진행 주의사항**\n",
        "\n",
        "**1)  개발 관련 주의사항**\n",
        "*   [1. 초기 환경 설정]은 절대 수정하지 말 것\n",
        " *  단, 사용할 데이터셋에 따라 is_mnist만 수정\n",
        "*   모든 구현은 [2. 데이터 전처리]와 [3. 모델 생성]에서만 진행\n",
        " *  데이터 전처리 후 트레이닝, 데이터 셋은 x_train_after, x_test_after 변수명을 유지해주세요.\n",
        " *  데이터셋이 달라져도 같은 모델 구조를 유지하여야함.\n",
        "*   [4. 모델 저장]과 [5. 모델 로드 및 평가]에서 team_name 변수 변경 (예.`team_name = 'team01'`)\n",
        " *  트레이닝 중간에 checkpoint를 활용하여 모델을 저장한 경우에도 파일 이름 양식 통일 필수\n",
        " *  team_name을 제외한 다른 부분은 수정하지 말 것\n",
        "*   Colab 사용중 실수로 데이터 손실이 발생할 수도 있으니 중간 결과값을 github에 업로드 \n",
        " *    \"런타임->모든 런타임 재설정\"은 절대 누르지 말 것 (저장한 모델 데이터가 모두 삭제됨)\n",
        "*   효율적인 구현 및 테스팅을 위해 GPU 가속 기능 활성화\n",
        " *    \"런타임 -> 런타임 유형변경 -> 하드웨어 가속기 -> GPU 설정\"\n",
        "*   주석을 최대한 자세히 작성\n",
        "*   Keras API 관련하여 [Keras Documentation](https://keras.io/) 참조\n",
        "\n",
        "**2) 제출 관련 주의사항**\n",
        "*  제출물\n",
        " *  소스코드 (hackathon_teamXX.ipynb)\n",
        " *  모델 구조 파일 (model_structure_teamXX.json)\n",
        " *  모델 weight 파일 (model_weight_teamXX.h5)\n",
        " *  컴파일된 모델 파일 (model_entire_teamXX.h5)\n",
        "* 제출 기한: **오후 6시**\n",
        "* 제출 방법: [GitHub README](https://github.com/cauosshackathonta/2019_cau_oss_hackathon/) 참조\n",
        "\n",
        " \n",
        "**3) 평가 관련 주의사항**\n",
        "*  모델 성능 = 테스트 데이터 셋 분류 정확도\n",
        " *  model.evaluate(x_test, y_test)\n",
        "*  제출된 모델들의 테스트 데이터 셋 분류 정확도를 기준으로 수상작 결정\n",
        "*  수상 후보들에 대해서는 소스코드를 기반으로 모델 재검증 \n",
        " \n",
        "**4) 수상 실격 사유**\n",
        "*  유사한 소스코드 or 알고리즘이 적발될 경우\n",
        "*  소스코드와 제출된 모델이 상이한 경우\n",
        "*  두 개의 데이터셋에 대해 다른 모델 구조를 사용한 경우\n",
        "*  개발 관련 주의사항을 지키지 않은 경우\n",
        " *  예: [초기 환경 설정]을 수정한 경우\n",
        "*  데이터 셋을 변조한 경우\n",
        " *  예. 테스트 데이터 셋을 트레이닝 데이터 셋에 포함하여 모델 생성 \n",
        "*  주석이 소스코드와 맞지 않거나 미비할 경우\n",
        "\n",
        "\n",
        "\n",
        "\n"
      ]
    },
    {
      "cell_type": "markdown",
      "metadata": {
        "id": "67lwEXhUqys1",
        "colab_type": "text"
      },
      "source": [
        "# **1. 초기 환경 설정**\n",
        "\n"
      ]
    },
    {
      "cell_type": "code",
      "metadata": {
        "id": "Ms5PBBJ1qSC6",
        "colab_type": "code",
        "colab": {}
      },
      "source": [
        "from __future__ import absolute_import, division, print_function, unicode_literals, unicode_literals\n",
        "\n",
        "# tensorflow와 tf.keras 및 관련 라이브러리 임포트\n",
        "import tensorflow as tf\n",
        "from tensorflow import keras\n",
        "from keras.utils import np_utils\n",
        "\n",
        "import numpy as np\n",
        "\n",
        "is_mnist = True;\n",
        "\n",
        "# 데이터셋 로드\n",
        "# x_train, y_train: 트레이닝 데이터 및 레이블\n",
        "# x_test, y_test: 테스트 데이터 및 레이블\n",
        "if is_mnist:\n",
        "  data_type = 'mnist'\n",
        "  (x_train, y_train), (x_test, y_test) = keras.datasets.fashion_mnist.load_data() # fashion MNIST 데이터셋인 경우,\n",
        "else:\n",
        "  data_type = 'cifar10'\n",
        "  (x_train, y_train), (x_test, y_test) = keras.datasets.cifar10.load_data() # cifar10 데이터셋인 경우,\n",
        "\n",
        "\n",
        "# 분류를 위해 클래스 벡터를 바이너리 매트릭스로 변환\n",
        "y_train = np_utils.to_categorical(y_train)\n",
        "y_test = np_utils.to_categorical(y_test)\n",
        "\n",
        "# 총 클래스 개수\n",
        "num_classes = y_test.shape[1]\n",
        "\n",
        "# 인풋 데이터 타입\n",
        "input_shape = x_test.shape[1:]"
      ],
      "execution_count": 0,
      "outputs": []
    },
    {
      "cell_type": "markdown",
      "metadata": {
        "id": "p9c2KLDBIhNQ",
        "colab_type": "text"
      },
      "source": [
        "# **2. 데이터 전처리**\n"
      ]
    },
    {
      "cell_type": "code",
      "metadata": {
        "id": "zJNgjaHvIhSS",
        "colab_type": "code",
        "colab": {}
      },
      "source": [
        "# 데이터 전처리 (예: normalization)\n",
        "x_train_after = x_train / 255.0\n",
        "x_test_after = x_test / 255.0\n",
        "\n",
        "if is_mnist:\n",
        "  x_train_after = x_train_after.reshape(x_train_after.shape[0], 28, 28, 1)\n",
        "  x_test_after = x_test_after.reshape(x_test_after.shape[0], 28, 28, 1)\n",
        "  input_shape = x_test_after.shape[1:]"
      ],
      "execution_count": 0,
      "outputs": []
    },
    {
      "cell_type": "markdown",
      "metadata": {
        "id": "A-YjppJpXBO9",
        "colab_type": "text"
      },
      "source": [
        "# **3. 모델 생성**\n",
        "\n"
      ]
    },
    {
      "cell_type": "code",
      "metadata": {
        "id": "DZP4eRmRqgRp",
        "colab_type": "code",
        "outputId": "11333253-a877-4e68-870f-bf0ccf0caa8f",
        "colab": {
          "base_uri": "https://localhost:8080/",
          "height": 1000
        }
      },
      "source": [
        "#혜성\n",
        "#from keras.preprocessing.image import ImageDataGenerator\n",
        "\n",
        "model = keras.Sequential()\n",
        "model.add(keras.layers.Conv2D(32, (3, 3), padding='same', activation='relu', input_shape=input_shape))\n",
        "model.add(keras.layers.Conv2D(32, (3, 3), padding='same', activation='relu'))\n",
        "model.add(keras.layers.MaxPooling2D(pool_size=(2, 2)))\n",
        "model.add(keras.layers.Dropout(0.25))\n",
        "\n",
        "model.add(keras.layers.Conv2D(64, (3, 3), padding='same', activation='relu'))\n",
        "model.add(keras.layers.Conv2D(64, (3, 3), padding='same', activation='relu'))\n",
        "model.add(keras.layers.MaxPooling2D(pool_size=(2, 2)))\n",
        "model.add(keras.layers.Dropout(0.25))\n",
        "\n",
        "model.add(keras.layers.Flatten())\n",
        "model.add(keras.layers.Dense(256, activation='relu'))\n",
        "model.add(keras.layers.Dropout(0.5))\n",
        "model.add(keras.layers.Dense(10, activation='softmax'))\n",
        "\n",
        "# model.add(keras.layers.Flatten(input_shape=input_shape))\n",
        "# model.add(Conv2D(2, kernel_size = (3, 3), padding = 'same', activation = 'relu')\n",
        "# model.add(MaxPooling2D(pool_size = (2, 2)))\n",
        "\n",
        "# model.add(Conv2D(3, kernel_size = (2, 2), padding = 'same', activation = 'relu'))\n",
        "# model.add(MaxPooling2D(pool_size = (2, 2)))\n",
        "# model.add(keras.layers.Flatten())\n",
        "# model.add(keras.layers.Dense(8, activation = 'relu'))\n",
        "# model.add(keras.layers.Dense(num_classes, activation = 'softmax'))\n",
        "\n",
        "\n",
        "\n",
        "# model = keras.Sequential()\n",
        "# model.add(Conv2D(32, kernel_size = (3, 3), activation = 'relu', input_shape = input_shape)\n",
        "# model.add(MaxPooling2D(pool_size = (2, 2)))\n",
        "# model.add(keras.layers.Flatten())\n",
        "# model.add(keras.layers.Dense(128, activation = 'relu'))\n",
        "# model.add(keras.layers.Dense(num_classes, activation = 'softmax'))\n",
        "\n",
        "\n",
        "\n",
        "\n",
        "# # 순차 모델 생성 (가장 기본구조)\n",
        "# model = keras.Sequential()\n",
        "\n",
        "# # Flatten layer: 28 x 28 x 1 image를 784개의 1D vector input으로 변환\n",
        "# model.add(keras.layers.Flatten(input_shape=input_shape))\n",
        "\n",
        "# # 1st hidden layer: fully-connected layer\n",
        "# # (# of inputs = 784, # of outputs = 512, actication fuction = relu)\n",
        "# model.add(keras.layers.Dense(512, activation=tf.nn.relu))\n",
        "\n",
        "# # 2nd hidden layer: fully-connected layer \n",
        "# # (# of inputs = 512, # of outputs = 256, actication fuction = relu)\n",
        "# model.add(keras.layers.Dense(256, activation=tf.nn.relu))\n",
        "\n",
        "# # 3rd hidden layer: fully-connected layer \n",
        "# # (# of inputs = 256, # of outputs = 64, actication fuction = relu)\n",
        "# model.add(keras.layers.Dense(64, activation=tf.nn.relu))\n",
        "\n",
        "# # Output layer: fully-connected layer \n",
        "# # (# of inputs = 64, # of outputs = 10, actication fuction = softmax)\n",
        "# model.add(keras.layers.Dense(num_classes, activation=tf.nn.softmax))\n",
        "\n",
        "\n",
        "# 모델 컴파일\n",
        "# optimizer: 모델을 업데이트 하는 방식\n",
        "# loss: 모델의 정확도를 판단하는 방식\n",
        "# metrics: 트레이닝 및 테스팅 성능 모니터링을 위한 평가지표\n",
        "from tensorflow.keras.callbacks import ModelCheckpoint, LearningRateScheduler\n",
        "from tensorflow.keras import optimizers\n",
        "\n",
        "def lr_scheduler(epoch, lr):\n",
        "    decay_rate = 0.1\n",
        "    decay_step = 90\n",
        "    if epoch % decay_step == 0 and epoch:\n",
        "        return lr * decay_rate\n",
        "    return lr\n",
        "\n",
        "save_path = '/content/'\n",
        "team_name = 'team01'\n",
        "\n",
        "adam = optimizers.Adam(lr=0.001, decay=1e-6)\n",
        "model_path = save_path + 'checkpoint' + data_type + '_' + team_name + '.h5'\n",
        "\n",
        "cb_checkpoint = ModelCheckpoint(filepath=model_path, monitor='accuracy', verbose=1, save_best_only=True)\n",
        "\n",
        "callbacks=[\n",
        "    cb_checkpoint, \n",
        "    LearningRateScheduler(lr_scheduler, verbose=1)\n",
        "]\n",
        "\n",
        "\n",
        "model.compile(loss='categorical_crossentropy', optimizer=adam, metrics=['accuracy'])\n",
        "\n",
        "# 모델 트레이닝\n",
        "# batch_size: 전체 데이터셋 중 몇개씩 학습시킬 것인지\n",
        "# epoch: 학습에 전체 데이터셋이 총 몇번 이용될 것인지\n",
        "# shuffle: 학습전에 트레이닝 데이터셋을 랜덤하게 섞을 것인지\n",
        "# validation_data: 중간 성능 검증에 사용할 data set\n",
        "model.fit(x_train_after, y_train, batch_size = 128, epochs = 100, shuffle=True, validation_data=[x_test_after, y_test], callbacks=callbacks)"
      ],
      "execution_count": 20,
      "outputs": [
        {
          "output_type": "stream",
          "text": [
            "Train on 60000 samples, validate on 10000 samples\n",
            "\n",
            "Epoch 00001: LearningRateScheduler reducing learning rate to 0.0010000000474974513.\n",
            "Epoch 1/100\n",
            "59776/60000 [============================>.] - ETA: 0s - loss: 0.5331 - acc: 0.8063"
          ],
          "name": "stdout"
        },
        {
          "output_type": "stream",
          "text": [
            "W0824 05:54:31.682554 140464170198912 callbacks.py:989] Can save best model only with accuracy available, skipping.\n"
          ],
          "name": "stderr"
        },
        {
          "output_type": "stream",
          "text": [
            "60000/60000 [==============================] - 6s 96us/sample - loss: 0.5323 - acc: 0.8066 - val_loss: 0.3285 - val_acc: 0.8785\n",
            "\n",
            "Epoch 00002: LearningRateScheduler reducing learning rate to 0.0010000000474974513.\n",
            "Epoch 2/100\n",
            "59648/60000 [============================>.] - ETA: 0s - loss: 0.3297 - acc: 0.8801"
          ],
          "name": "stdout"
        },
        {
          "output_type": "stream",
          "text": [
            "W0824 05:54:36.922643 140464170198912 callbacks.py:989] Can save best model only with accuracy available, skipping.\n"
          ],
          "name": "stderr"
        },
        {
          "output_type": "stream",
          "text": [
            "60000/60000 [==============================] - 5s 87us/sample - loss: 0.3300 - acc: 0.8800 - val_loss: 0.2762 - val_acc: 0.8992\n",
            "\n",
            "Epoch 00003: LearningRateScheduler reducing learning rate to 0.0010000000474974513.\n",
            "Epoch 3/100\n",
            "59776/60000 [============================>.] - ETA: 0s - loss: 0.2813 - acc: 0.8982"
          ],
          "name": "stdout"
        },
        {
          "output_type": "stream",
          "text": [
            "W0824 05:54:42.150991 140464170198912 callbacks.py:989] Can save best model only with accuracy available, skipping.\n"
          ],
          "name": "stderr"
        },
        {
          "output_type": "stream",
          "text": [
            "60000/60000 [==============================] - 5s 87us/sample - loss: 0.2811 - acc: 0.8982 - val_loss: 0.2545 - val_acc: 0.9064\n",
            "\n",
            "Epoch 00004: LearningRateScheduler reducing learning rate to 0.0010000000474974513.\n",
            "Epoch 4/100\n",
            "59648/60000 [============================>.] - ETA: 0s - loss: 0.2522 - acc: 0.9072"
          ],
          "name": "stdout"
        },
        {
          "output_type": "stream",
          "text": [
            "W0824 05:54:47.452512 140464170198912 callbacks.py:989] Can save best model only with accuracy available, skipping.\n"
          ],
          "name": "stderr"
        },
        {
          "output_type": "stream",
          "text": [
            "60000/60000 [==============================] - 5s 88us/sample - loss: 0.2520 - acc: 0.9072 - val_loss: 0.2327 - val_acc: 0.9152\n",
            "\n",
            "Epoch 00005: LearningRateScheduler reducing learning rate to 0.0010000000474974513.\n",
            "Epoch 5/100\n",
            "59648/60000 [============================>.] - ETA: 0s - loss: 0.2299 - acc: 0.9160"
          ],
          "name": "stdout"
        },
        {
          "output_type": "stream",
          "text": [
            "W0824 05:54:52.732192 140464170198912 callbacks.py:989] Can save best model only with accuracy available, skipping.\n"
          ],
          "name": "stderr"
        },
        {
          "output_type": "stream",
          "text": [
            "60000/60000 [==============================] - 5s 88us/sample - loss: 0.2300 - acc: 0.9160 - val_loss: 0.2159 - val_acc: 0.9212\n",
            "\n",
            "Epoch 00006: LearningRateScheduler reducing learning rate to 0.0010000000474974513.\n",
            "Epoch 6/100\n",
            "59776/60000 [============================>.] - ETA: 0s - loss: 0.2146 - acc: 0.9219"
          ],
          "name": "stdout"
        },
        {
          "output_type": "stream",
          "text": [
            "W0824 05:54:58.001724 140464170198912 callbacks.py:989] Can save best model only with accuracy available, skipping.\n"
          ],
          "name": "stderr"
        },
        {
          "output_type": "stream",
          "text": [
            "60000/60000 [==============================] - 5s 88us/sample - loss: 0.2146 - acc: 0.9219 - val_loss: 0.2135 - val_acc: 0.9217\n",
            "\n",
            "Epoch 00007: LearningRateScheduler reducing learning rate to 0.0010000000474974513.\n",
            "Epoch 7/100\n",
            "59648/60000 [============================>.] - ETA: 0s - loss: 0.2038 - acc: 0.9255"
          ],
          "name": "stdout"
        },
        {
          "output_type": "stream",
          "text": [
            "W0824 05:55:03.293674 140464170198912 callbacks.py:989] Can save best model only with accuracy available, skipping.\n"
          ],
          "name": "stderr"
        },
        {
          "output_type": "stream",
          "text": [
            "60000/60000 [==============================] - 5s 88us/sample - loss: 0.2039 - acc: 0.9255 - val_loss: 0.2071 - val_acc: 0.9224\n",
            "\n",
            "Epoch 00008: LearningRateScheduler reducing learning rate to 0.0010000000474974513.\n",
            "Epoch 8/100\n",
            "59520/60000 [============================>.] - ETA: 0s - loss: 0.1899 - acc: 0.9300"
          ],
          "name": "stdout"
        },
        {
          "output_type": "stream",
          "text": [
            "W0824 05:55:08.569648 140464170198912 callbacks.py:989] Can save best model only with accuracy available, skipping.\n"
          ],
          "name": "stderr"
        },
        {
          "output_type": "stream",
          "text": [
            "60000/60000 [==============================] - 5s 88us/sample - loss: 0.1896 - acc: 0.9301 - val_loss: 0.2109 - val_acc: 0.9236\n",
            "\n",
            "Epoch 00009: LearningRateScheduler reducing learning rate to 0.0010000000474974513.\n",
            "Epoch 9/100\n",
            "59648/60000 [============================>.] - ETA: 0s - loss: 0.1842 - acc: 0.9324"
          ],
          "name": "stdout"
        },
        {
          "output_type": "stream",
          "text": [
            "W0824 05:55:13.821081 140464170198912 callbacks.py:989] Can save best model only with accuracy available, skipping.\n"
          ],
          "name": "stderr"
        },
        {
          "output_type": "stream",
          "text": [
            "60000/60000 [==============================] - 5s 87us/sample - loss: 0.1841 - acc: 0.9324 - val_loss: 0.1965 - val_acc: 0.9287\n",
            "\n",
            "Epoch 00010: LearningRateScheduler reducing learning rate to 0.0010000000474974513.\n",
            "Epoch 10/100\n",
            "59648/60000 [============================>.] - ETA: 0s - loss: 0.1727 - acc: 0.9351"
          ],
          "name": "stdout"
        },
        {
          "output_type": "stream",
          "text": [
            "W0824 05:55:19.069056 140464170198912 callbacks.py:989] Can save best model only with accuracy available, skipping.\n"
          ],
          "name": "stderr"
        },
        {
          "output_type": "stream",
          "text": [
            "60000/60000 [==============================] - 5s 87us/sample - loss: 0.1728 - acc: 0.9351 - val_loss: 0.2106 - val_acc: 0.9242\n",
            "\n",
            "Epoch 00011: LearningRateScheduler reducing learning rate to 0.0010000000474974513.\n",
            "Epoch 11/100\n",
            "59648/60000 [============================>.] - ETA: 0s - loss: 0.1639 - acc: 0.9393"
          ],
          "name": "stdout"
        },
        {
          "output_type": "stream",
          "text": [
            "W0824 05:55:24.277808 140464170198912 callbacks.py:989] Can save best model only with accuracy available, skipping.\n"
          ],
          "name": "stderr"
        },
        {
          "output_type": "stream",
          "text": [
            "60000/60000 [==============================] - 5s 87us/sample - loss: 0.1642 - acc: 0.9392 - val_loss: 0.1890 - val_acc: 0.9327\n",
            "\n",
            "Epoch 00012: LearningRateScheduler reducing learning rate to 0.0010000000474974513.\n",
            "Epoch 12/100\n",
            "59648/60000 [============================>.] - ETA: 0s - loss: 0.1590 - acc: 0.9410"
          ],
          "name": "stdout"
        },
        {
          "output_type": "stream",
          "text": [
            "W0824 05:55:29.504082 140464170198912 callbacks.py:989] Can save best model only with accuracy available, skipping.\n"
          ],
          "name": "stderr"
        },
        {
          "output_type": "stream",
          "text": [
            "60000/60000 [==============================] - 5s 87us/sample - loss: 0.1592 - acc: 0.9409 - val_loss: 0.2010 - val_acc: 0.9335\n",
            "\n",
            "Epoch 00013: LearningRateScheduler reducing learning rate to 0.0010000000474974513.\n",
            "Epoch 13/100\n",
            "59648/60000 [============================>.] - ETA: 0s - loss: 0.1536 - acc: 0.9429"
          ],
          "name": "stdout"
        },
        {
          "output_type": "stream",
          "text": [
            "W0824 05:55:34.707513 140464170198912 callbacks.py:989] Can save best model only with accuracy available, skipping.\n"
          ],
          "name": "stderr"
        },
        {
          "output_type": "stream",
          "text": [
            "60000/60000 [==============================] - 5s 87us/sample - loss: 0.1537 - acc: 0.9429 - val_loss: 0.1981 - val_acc: 0.9316\n",
            "\n",
            "Epoch 00014: LearningRateScheduler reducing learning rate to 0.0010000000474974513.\n",
            "Epoch 14/100\n",
            "59648/60000 [============================>.] - ETA: 0s - loss: 0.1445 - acc: 0.9461"
          ],
          "name": "stdout"
        },
        {
          "output_type": "stream",
          "text": [
            "W0824 05:55:39.928222 140464170198912 callbacks.py:989] Can save best model only with accuracy available, skipping.\n"
          ],
          "name": "stderr"
        },
        {
          "output_type": "stream",
          "text": [
            "60000/60000 [==============================] - 5s 87us/sample - loss: 0.1446 - acc: 0.9461 - val_loss: 0.1882 - val_acc: 0.9355\n",
            "\n",
            "Epoch 00015: LearningRateScheduler reducing learning rate to 0.0010000000474974513.\n",
            "Epoch 15/100\n",
            "59648/60000 [============================>.] - ETA: 0s - loss: 0.1400 - acc: 0.9469"
          ],
          "name": "stdout"
        },
        {
          "output_type": "stream",
          "text": [
            "W0824 05:55:45.125345 140464170198912 callbacks.py:989] Can save best model only with accuracy available, skipping.\n"
          ],
          "name": "stderr"
        },
        {
          "output_type": "stream",
          "text": [
            "60000/60000 [==============================] - 5s 87us/sample - loss: 0.1400 - acc: 0.9470 - val_loss: 0.1909 - val_acc: 0.9339\n",
            "\n",
            "Epoch 00016: LearningRateScheduler reducing learning rate to 0.0010000000474974513.\n",
            "Epoch 16/100\n",
            "59648/60000 [============================>.] - ETA: 0s - loss: 0.1370 - acc: 0.9485"
          ],
          "name": "stdout"
        },
        {
          "output_type": "stream",
          "text": [
            "W0824 05:55:50.360931 140464170198912 callbacks.py:989] Can save best model only with accuracy available, skipping.\n"
          ],
          "name": "stderr"
        },
        {
          "output_type": "stream",
          "text": [
            "60000/60000 [==============================] - 5s 87us/sample - loss: 0.1373 - acc: 0.9484 - val_loss: 0.1942 - val_acc: 0.9350\n",
            "\n",
            "Epoch 00017: LearningRateScheduler reducing learning rate to 0.0010000000474974513.\n",
            "Epoch 17/100\n",
            "59648/60000 [============================>.] - ETA: 0s - loss: 0.1327 - acc: 0.9494"
          ],
          "name": "stdout"
        },
        {
          "output_type": "stream",
          "text": [
            "W0824 05:55:55.570454 140464170198912 callbacks.py:989] Can save best model only with accuracy available, skipping.\n"
          ],
          "name": "stderr"
        },
        {
          "output_type": "stream",
          "text": [
            "60000/60000 [==============================] - 5s 87us/sample - loss: 0.1327 - acc: 0.9494 - val_loss: 0.1987 - val_acc: 0.9324\n",
            "\n",
            "Epoch 00018: LearningRateScheduler reducing learning rate to 0.0010000000474974513.\n",
            "Epoch 18/100\n",
            "59648/60000 [============================>.] - ETA: 0s - loss: 0.1264 - acc: 0.9520"
          ],
          "name": "stdout"
        },
        {
          "output_type": "stream",
          "text": [
            "W0824 05:56:00.785500 140464170198912 callbacks.py:989] Can save best model only with accuracy available, skipping.\n"
          ],
          "name": "stderr"
        },
        {
          "output_type": "stream",
          "text": [
            "60000/60000 [==============================] - 5s 87us/sample - loss: 0.1264 - acc: 0.9521 - val_loss: 0.1969 - val_acc: 0.9356\n",
            "\n",
            "Epoch 00019: LearningRateScheduler reducing learning rate to 0.0010000000474974513.\n",
            "Epoch 19/100\n",
            "59648/60000 [============================>.] - ETA: 0s - loss: 0.1253 - acc: 0.9527"
          ],
          "name": "stdout"
        },
        {
          "output_type": "stream",
          "text": [
            "W0824 05:56:06.007909 140464170198912 callbacks.py:989] Can save best model only with accuracy available, skipping.\n"
          ],
          "name": "stderr"
        },
        {
          "output_type": "stream",
          "text": [
            "60000/60000 [==============================] - 5s 87us/sample - loss: 0.1253 - acc: 0.9527 - val_loss: 0.1927 - val_acc: 0.9351\n",
            "\n",
            "Epoch 00020: LearningRateScheduler reducing learning rate to 0.0010000000474974513.\n",
            "Epoch 20/100\n",
            "59648/60000 [============================>.] - ETA: 0s - loss: 0.1191 - acc: 0.9552"
          ],
          "name": "stdout"
        },
        {
          "output_type": "stream",
          "text": [
            "W0824 05:56:11.258325 140464170198912 callbacks.py:989] Can save best model only with accuracy available, skipping.\n"
          ],
          "name": "stderr"
        },
        {
          "output_type": "stream",
          "text": [
            "60000/60000 [==============================] - 5s 87us/sample - loss: 0.1191 - acc: 0.9552 - val_loss: 0.2159 - val_acc: 0.9316\n",
            "\n",
            "Epoch 00021: LearningRateScheduler reducing learning rate to 0.0010000000474974513.\n",
            "Epoch 21/100\n",
            "59648/60000 [============================>.] - ETA: 0s - loss: 0.1142 - acc: 0.9572"
          ],
          "name": "stdout"
        },
        {
          "output_type": "stream",
          "text": [
            "W0824 05:56:16.472694 140464170198912 callbacks.py:989] Can save best model only with accuracy available, skipping.\n"
          ],
          "name": "stderr"
        },
        {
          "output_type": "stream",
          "text": [
            "60000/60000 [==============================] - 5s 87us/sample - loss: 0.1142 - acc: 0.9572 - val_loss: 0.2048 - val_acc: 0.9357\n",
            "\n",
            "Epoch 00022: LearningRateScheduler reducing learning rate to 0.0010000000474974513.\n",
            "Epoch 22/100\n",
            "59776/60000 [============================>.] - ETA: 0s - loss: 0.1145 - acc: 0.9567"
          ],
          "name": "stdout"
        },
        {
          "output_type": "stream",
          "text": [
            "W0824 05:56:21.715027 140464170198912 callbacks.py:989] Can save best model only with accuracy available, skipping.\n"
          ],
          "name": "stderr"
        },
        {
          "output_type": "stream",
          "text": [
            "60000/60000 [==============================] - 5s 87us/sample - loss: 0.1146 - acc: 0.9567 - val_loss: 0.1979 - val_acc: 0.9367\n",
            "\n",
            "Epoch 00023: LearningRateScheduler reducing learning rate to 0.0010000000474974513.\n",
            "Epoch 23/100\n",
            "59648/60000 [============================>.] - ETA: 0s - loss: 0.1089 - acc: 0.9597"
          ],
          "name": "stdout"
        },
        {
          "output_type": "stream",
          "text": [
            "W0824 05:56:26.985719 140464170198912 callbacks.py:989] Can save best model only with accuracy available, skipping.\n"
          ],
          "name": "stderr"
        },
        {
          "output_type": "stream",
          "text": [
            "60000/60000 [==============================] - 5s 88us/sample - loss: 0.1090 - acc: 0.9597 - val_loss: 0.2088 - val_acc: 0.9328\n",
            "\n",
            "Epoch 00024: LearningRateScheduler reducing learning rate to 0.0010000000474974513.\n",
            "Epoch 24/100\n",
            "59648/60000 [============================>.] - ETA: 0s - loss: 0.1072 - acc: 0.9590"
          ],
          "name": "stdout"
        },
        {
          "output_type": "stream",
          "text": [
            "W0824 05:56:32.233428 140464170198912 callbacks.py:989] Can save best model only with accuracy available, skipping.\n"
          ],
          "name": "stderr"
        },
        {
          "output_type": "stream",
          "text": [
            "60000/60000 [==============================] - 5s 87us/sample - loss: 0.1071 - acc: 0.9590 - val_loss: 0.2103 - val_acc: 0.9383\n",
            "\n",
            "Epoch 00025: LearningRateScheduler reducing learning rate to 0.0010000000474974513.\n",
            "Epoch 25/100\n",
            "59648/60000 [============================>.] - ETA: 0s - loss: 0.1030 - acc: 0.9607"
          ],
          "name": "stdout"
        },
        {
          "output_type": "stream",
          "text": [
            "W0824 05:56:37.446090 140464170198912 callbacks.py:989] Can save best model only with accuracy available, skipping.\n"
          ],
          "name": "stderr"
        },
        {
          "output_type": "stream",
          "text": [
            "60000/60000 [==============================] - 5s 87us/sample - loss: 0.1029 - acc: 0.9607 - val_loss: 0.2042 - val_acc: 0.9336\n",
            "\n",
            "Epoch 00026: LearningRateScheduler reducing learning rate to 0.0010000000474974513.\n",
            "Epoch 26/100\n",
            "59648/60000 [============================>.] - ETA: 0s - loss: 0.1056 - acc: 0.9608"
          ],
          "name": "stdout"
        },
        {
          "output_type": "stream",
          "text": [
            "W0824 05:56:42.664591 140464170198912 callbacks.py:989] Can save best model only with accuracy available, skipping.\n"
          ],
          "name": "stderr"
        },
        {
          "output_type": "stream",
          "text": [
            "60000/60000 [==============================] - 5s 87us/sample - loss: 0.1056 - acc: 0.9608 - val_loss: 0.2104 - val_acc: 0.9363\n",
            "\n",
            "Epoch 00027: LearningRateScheduler reducing learning rate to 0.0010000000474974513.\n",
            "Epoch 27/100\n",
            "59648/60000 [============================>.] - ETA: 0s - loss: 0.1004 - acc: 0.9623"
          ],
          "name": "stdout"
        },
        {
          "output_type": "stream",
          "text": [
            "W0824 05:56:47.903769 140464170198912 callbacks.py:989] Can save best model only with accuracy available, skipping.\n"
          ],
          "name": "stderr"
        },
        {
          "output_type": "stream",
          "text": [
            "60000/60000 [==============================] - 5s 87us/sample - loss: 0.1003 - acc: 0.9623 - val_loss: 0.2062 - val_acc: 0.9385\n",
            "\n",
            "Epoch 00028: LearningRateScheduler reducing learning rate to 0.0010000000474974513.\n",
            "Epoch 28/100\n",
            "59648/60000 [============================>.] - ETA: 0s - loss: 0.0959 - acc: 0.9633"
          ],
          "name": "stdout"
        },
        {
          "output_type": "stream",
          "text": [
            "W0824 05:56:53.143883 140464170198912 callbacks.py:989] Can save best model only with accuracy available, skipping.\n"
          ],
          "name": "stderr"
        },
        {
          "output_type": "stream",
          "text": [
            "60000/60000 [==============================] - 5s 87us/sample - loss: 0.0958 - acc: 0.9634 - val_loss: 0.2237 - val_acc: 0.9374\n",
            "\n",
            "Epoch 00029: LearningRateScheduler reducing learning rate to 0.0010000000474974513.\n",
            "Epoch 29/100\n",
            "59648/60000 [============================>.] - ETA: 0s - loss: 0.0976 - acc: 0.9639"
          ],
          "name": "stdout"
        },
        {
          "output_type": "stream",
          "text": [
            "W0824 05:56:58.382374 140464170198912 callbacks.py:989] Can save best model only with accuracy available, skipping.\n"
          ],
          "name": "stderr"
        },
        {
          "output_type": "stream",
          "text": [
            "60000/60000 [==============================] - 5s 87us/sample - loss: 0.0976 - acc: 0.9639 - val_loss: 0.2139 - val_acc: 0.9361\n",
            "\n",
            "Epoch 00030: LearningRateScheduler reducing learning rate to 0.0010000000474974513.\n",
            "Epoch 30/100\n",
            "59648/60000 [============================>.] - ETA: 0s - loss: 0.0955 - acc: 0.9637"
          ],
          "name": "stdout"
        },
        {
          "output_type": "stream",
          "text": [
            "W0824 05:57:03.606971 140464170198912 callbacks.py:989] Can save best model only with accuracy available, skipping.\n"
          ],
          "name": "stderr"
        },
        {
          "output_type": "stream",
          "text": [
            "60000/60000 [==============================] - 5s 87us/sample - loss: 0.0953 - acc: 0.9638 - val_loss: 0.2232 - val_acc: 0.9368\n",
            "\n",
            "Epoch 00031: LearningRateScheduler reducing learning rate to 0.0010000000474974513.\n",
            "Epoch 31/100\n",
            "59648/60000 [============================>.] - ETA: 0s - loss: 0.0896 - acc: 0.9668"
          ],
          "name": "stdout"
        },
        {
          "output_type": "stream",
          "text": [
            "W0824 05:57:08.829458 140464170198912 callbacks.py:989] Can save best model only with accuracy available, skipping.\n"
          ],
          "name": "stderr"
        },
        {
          "output_type": "stream",
          "text": [
            "60000/60000 [==============================] - 5s 87us/sample - loss: 0.0894 - acc: 0.9668 - val_loss: 0.2091 - val_acc: 0.9387\n",
            "\n",
            "Epoch 00032: LearningRateScheduler reducing learning rate to 0.0010000000474974513.\n",
            "Epoch 32/100\n",
            "59648/60000 [============================>.] - ETA: 0s - loss: 0.0897 - acc: 0.9661"
          ],
          "name": "stdout"
        },
        {
          "output_type": "stream",
          "text": [
            "W0824 05:57:14.050185 140464170198912 callbacks.py:989] Can save best model only with accuracy available, skipping.\n"
          ],
          "name": "stderr"
        },
        {
          "output_type": "stream",
          "text": [
            "60000/60000 [==============================] - 5s 87us/sample - loss: 0.0899 - acc: 0.9660 - val_loss: 0.2178 - val_acc: 0.9378\n",
            "\n",
            "Epoch 00033: LearningRateScheduler reducing learning rate to 0.0010000000474974513.\n",
            "Epoch 33/100\n",
            "59648/60000 [============================>.] - ETA: 0s - loss: 0.0904 - acc: 0.9655"
          ],
          "name": "stdout"
        },
        {
          "output_type": "stream",
          "text": [
            "W0824 05:57:19.285133 140464170198912 callbacks.py:989] Can save best model only with accuracy available, skipping.\n"
          ],
          "name": "stderr"
        },
        {
          "output_type": "stream",
          "text": [
            "60000/60000 [==============================] - 5s 87us/sample - loss: 0.0906 - acc: 0.9655 - val_loss: 0.2267 - val_acc: 0.9372\n",
            "\n",
            "Epoch 00034: LearningRateScheduler reducing learning rate to 0.0010000000474974513.\n",
            "Epoch 34/100\n",
            "59648/60000 [============================>.] - ETA: 0s - loss: 0.0881 - acc: 0.9669"
          ],
          "name": "stdout"
        },
        {
          "output_type": "stream",
          "text": [
            "W0824 05:57:24.516492 140464170198912 callbacks.py:989] Can save best model only with accuracy available, skipping.\n"
          ],
          "name": "stderr"
        },
        {
          "output_type": "stream",
          "text": [
            "60000/60000 [==============================] - 5s 87us/sample - loss: 0.0881 - acc: 0.9669 - val_loss: 0.2217 - val_acc: 0.9393\n",
            "\n",
            "Epoch 00035: LearningRateScheduler reducing learning rate to 0.0010000000474974513.\n",
            "Epoch 35/100\n",
            "59648/60000 [============================>.] - ETA: 0s - loss: 0.0849 - acc: 0.9684"
          ],
          "name": "stdout"
        },
        {
          "output_type": "stream",
          "text": [
            "W0824 05:57:29.731863 140464170198912 callbacks.py:989] Can save best model only with accuracy available, skipping.\n"
          ],
          "name": "stderr"
        },
        {
          "output_type": "stream",
          "text": [
            "60000/60000 [==============================] - 5s 87us/sample - loss: 0.0848 - acc: 0.9684 - val_loss: 0.2241 - val_acc: 0.9368\n",
            "\n",
            "Epoch 00036: LearningRateScheduler reducing learning rate to 0.0010000000474974513.\n",
            "Epoch 36/100\n",
            "59776/60000 [============================>.] - ETA: 0s - loss: 0.0842 - acc: 0.9677"
          ],
          "name": "stdout"
        },
        {
          "output_type": "stream",
          "text": [
            "W0824 05:57:34.962199 140464170198912 callbacks.py:989] Can save best model only with accuracy available, skipping.\n"
          ],
          "name": "stderr"
        },
        {
          "output_type": "stream",
          "text": [
            "60000/60000 [==============================] - 5s 87us/sample - loss: 0.0843 - acc: 0.9677 - val_loss: 0.2228 - val_acc: 0.9386\n",
            "\n",
            "Epoch 00037: LearningRateScheduler reducing learning rate to 0.0010000000474974513.\n",
            "Epoch 37/100\n",
            "59648/60000 [============================>.] - ETA: 0s - loss: 0.0827 - acc: 0.9685"
          ],
          "name": "stdout"
        },
        {
          "output_type": "stream",
          "text": [
            "W0824 05:57:40.164386 140464170198912 callbacks.py:989] Can save best model only with accuracy available, skipping.\n"
          ],
          "name": "stderr"
        },
        {
          "output_type": "stream",
          "text": [
            "60000/60000 [==============================] - 5s 87us/sample - loss: 0.0830 - acc: 0.9683 - val_loss: 0.2321 - val_acc: 0.9342\n",
            "\n",
            "Epoch 00038: LearningRateScheduler reducing learning rate to 0.0010000000474974513.\n",
            "Epoch 38/100\n",
            "59648/60000 [============================>.] - ETA: 0s - loss: 0.0809 - acc: 0.9695"
          ],
          "name": "stdout"
        },
        {
          "output_type": "stream",
          "text": [
            "W0824 05:57:45.417147 140464170198912 callbacks.py:989] Can save best model only with accuracy available, skipping.\n"
          ],
          "name": "stderr"
        },
        {
          "output_type": "stream",
          "text": [
            "60000/60000 [==============================] - 5s 87us/sample - loss: 0.0808 - acc: 0.9695 - val_loss: 0.2241 - val_acc: 0.9401\n",
            "\n",
            "Epoch 00039: LearningRateScheduler reducing learning rate to 0.0010000000474974513.\n",
            "Epoch 39/100\n",
            "59648/60000 [============================>.] - ETA: 0s - loss: 0.0781 - acc: 0.9704"
          ],
          "name": "stdout"
        },
        {
          "output_type": "stream",
          "text": [
            "W0824 05:57:50.665600 140464170198912 callbacks.py:989] Can save best model only with accuracy available, skipping.\n"
          ],
          "name": "stderr"
        },
        {
          "output_type": "stream",
          "text": [
            "60000/60000 [==============================] - 5s 87us/sample - loss: 0.0779 - acc: 0.9705 - val_loss: 0.2546 - val_acc: 0.9376\n",
            "\n",
            "Epoch 00040: LearningRateScheduler reducing learning rate to 0.0010000000474974513.\n",
            "Epoch 40/100\n",
            "59648/60000 [============================>.] - ETA: 0s - loss: 0.0795 - acc: 0.9702"
          ],
          "name": "stdout"
        },
        {
          "output_type": "stream",
          "text": [
            "W0824 05:57:55.885312 140464170198912 callbacks.py:989] Can save best model only with accuracy available, skipping.\n"
          ],
          "name": "stderr"
        },
        {
          "output_type": "stream",
          "text": [
            "60000/60000 [==============================] - 5s 87us/sample - loss: 0.0799 - acc: 0.9700 - val_loss: 0.2340 - val_acc: 0.9375\n",
            "\n",
            "Epoch 00041: LearningRateScheduler reducing learning rate to 0.0010000000474974513.\n",
            "Epoch 41/100\n",
            "59648/60000 [============================>.] - ETA: 0s - loss: 0.0752 - acc: 0.9715"
          ],
          "name": "stdout"
        },
        {
          "output_type": "stream",
          "text": [
            "W0824 05:58:01.116017 140464170198912 callbacks.py:989] Can save best model only with accuracy available, skipping.\n"
          ],
          "name": "stderr"
        },
        {
          "output_type": "stream",
          "text": [
            "60000/60000 [==============================] - 5s 87us/sample - loss: 0.0752 - acc: 0.9715 - val_loss: 0.2242 - val_acc: 0.9405\n",
            "\n",
            "Epoch 00042: LearningRateScheduler reducing learning rate to 0.0010000000474974513.\n",
            "Epoch 42/100\n",
            "59648/60000 [============================>.] - ETA: 0s - loss: 0.0762 - acc: 0.9712"
          ],
          "name": "stdout"
        },
        {
          "output_type": "stream",
          "text": [
            "W0824 05:58:06.352879 140464170198912 callbacks.py:989] Can save best model only with accuracy available, skipping.\n"
          ],
          "name": "stderr"
        },
        {
          "output_type": "stream",
          "text": [
            "60000/60000 [==============================] - 5s 87us/sample - loss: 0.0761 - acc: 0.9713 - val_loss: 0.2510 - val_acc: 0.9384\n",
            "\n",
            "Epoch 00043: LearningRateScheduler reducing learning rate to 0.0010000000474974513.\n",
            "Epoch 43/100\n",
            "59648/60000 [============================>.] - ETA: 0s - loss: 0.0772 - acc: 0.9709"
          ],
          "name": "stdout"
        },
        {
          "output_type": "stream",
          "text": [
            "W0824 05:58:11.570119 140464170198912 callbacks.py:989] Can save best model only with accuracy available, skipping.\n"
          ],
          "name": "stderr"
        },
        {
          "output_type": "stream",
          "text": [
            "60000/60000 [==============================] - 5s 87us/sample - loss: 0.0771 - acc: 0.9710 - val_loss: 0.2353 - val_acc: 0.9408\n",
            "\n",
            "Epoch 00044: LearningRateScheduler reducing learning rate to 0.0010000000474974513.\n",
            "Epoch 44/100\n",
            "59648/60000 [============================>.] - ETA: 0s - loss: 0.0785 - acc: 0.9711"
          ],
          "name": "stdout"
        },
        {
          "output_type": "stream",
          "text": [
            "W0824 05:58:16.788161 140464170198912 callbacks.py:989] Can save best model only with accuracy available, skipping.\n"
          ],
          "name": "stderr"
        },
        {
          "output_type": "stream",
          "text": [
            "60000/60000 [==============================] - 5s 87us/sample - loss: 0.0784 - acc: 0.9712 - val_loss: 0.2393 - val_acc: 0.9383\n",
            "\n",
            "Epoch 00045: LearningRateScheduler reducing learning rate to 0.0010000000474974513.\n",
            "Epoch 45/100\n",
            "59648/60000 [============================>.] - ETA: 0s - loss: 0.0756 - acc: 0.9713"
          ],
          "name": "stdout"
        },
        {
          "output_type": "stream",
          "text": [
            "W0824 05:58:22.001966 140464170198912 callbacks.py:989] Can save best model only with accuracy available, skipping.\n"
          ],
          "name": "stderr"
        },
        {
          "output_type": "stream",
          "text": [
            "60000/60000 [==============================] - 5s 87us/sample - loss: 0.0756 - acc: 0.9713 - val_loss: 0.2405 - val_acc: 0.9388\n",
            "\n",
            "Epoch 00046: LearningRateScheduler reducing learning rate to 0.0010000000474974513.\n",
            "Epoch 46/100\n",
            "59648/60000 [============================>.] - ETA: 0s - loss: 0.0746 - acc: 0.9719"
          ],
          "name": "stdout"
        },
        {
          "output_type": "stream",
          "text": [
            "W0824 05:58:27.238090 140464170198912 callbacks.py:989] Can save best model only with accuracy available, skipping.\n"
          ],
          "name": "stderr"
        },
        {
          "output_type": "stream",
          "text": [
            "60000/60000 [==============================] - 5s 87us/sample - loss: 0.0745 - acc: 0.9719 - val_loss: 0.2302 - val_acc: 0.9381\n",
            "\n",
            "Epoch 00047: LearningRateScheduler reducing learning rate to 0.0010000000474974513.\n",
            "Epoch 47/100\n",
            "59648/60000 [============================>.] - ETA: 0s - loss: 0.0718 - acc: 0.9733"
          ],
          "name": "stdout"
        },
        {
          "output_type": "stream",
          "text": [
            "W0824 05:58:32.459695 140464170198912 callbacks.py:989] Can save best model only with accuracy available, skipping.\n"
          ],
          "name": "stderr"
        },
        {
          "output_type": "stream",
          "text": [
            "60000/60000 [==============================] - 5s 87us/sample - loss: 0.0718 - acc: 0.9733 - val_loss: 0.2562 - val_acc: 0.9384\n",
            "\n",
            "Epoch 00048: LearningRateScheduler reducing learning rate to 0.0010000000474974513.\n",
            "Epoch 48/100\n",
            "59648/60000 [============================>.] - ETA: 0s - loss: 0.0692 - acc: 0.9741"
          ],
          "name": "stdout"
        },
        {
          "output_type": "stream",
          "text": [
            "W0824 05:58:37.682043 140464170198912 callbacks.py:989] Can save best model only with accuracy available, skipping.\n"
          ],
          "name": "stderr"
        },
        {
          "output_type": "stream",
          "text": [
            "60000/60000 [==============================] - 5s 87us/sample - loss: 0.0691 - acc: 0.9741 - val_loss: 0.2602 - val_acc: 0.9386\n",
            "\n",
            "Epoch 00049: LearningRateScheduler reducing learning rate to 0.0010000000474974513.\n",
            "Epoch 49/100\n",
            "59776/60000 [============================>.] - ETA: 0s - loss: 0.0700 - acc: 0.9734"
          ],
          "name": "stdout"
        },
        {
          "output_type": "stream",
          "text": [
            "W0824 05:58:42.885286 140464170198912 callbacks.py:989] Can save best model only with accuracy available, skipping.\n"
          ],
          "name": "stderr"
        },
        {
          "output_type": "stream",
          "text": [
            "60000/60000 [==============================] - 5s 87us/sample - loss: 0.0700 - acc: 0.9734 - val_loss: 0.2471 - val_acc: 0.9409\n",
            "\n",
            "Epoch 00050: LearningRateScheduler reducing learning rate to 0.0010000000474974513.\n",
            "Epoch 50/100\n",
            "59648/60000 [============================>.] - ETA: 0s - loss: 0.0673 - acc: 0.9752"
          ],
          "name": "stdout"
        },
        {
          "output_type": "stream",
          "text": [
            "W0824 05:58:48.103158 140464170198912 callbacks.py:989] Can save best model only with accuracy available, skipping.\n"
          ],
          "name": "stderr"
        },
        {
          "output_type": "stream",
          "text": [
            "60000/60000 [==============================] - 5s 87us/sample - loss: 0.0674 - acc: 0.9751 - val_loss: 0.2505 - val_acc: 0.9365\n",
            "\n",
            "Epoch 00051: LearningRateScheduler reducing learning rate to 0.0010000000474974513.\n",
            "Epoch 51/100\n",
            "59648/60000 [============================>.] - ETA: 0s - loss: 0.0693 - acc: 0.9739"
          ],
          "name": "stdout"
        },
        {
          "output_type": "stream",
          "text": [
            "W0824 05:58:53.326763 140464170198912 callbacks.py:989] Can save best model only with accuracy available, skipping.\n"
          ],
          "name": "stderr"
        },
        {
          "output_type": "stream",
          "text": [
            "60000/60000 [==============================] - 5s 87us/sample - loss: 0.0692 - acc: 0.9740 - val_loss: 0.2556 - val_acc: 0.9402\n",
            "\n",
            "Epoch 00052: LearningRateScheduler reducing learning rate to 0.0010000000474974513.\n",
            "Epoch 52/100\n",
            "59648/60000 [============================>.] - ETA: 0s - loss: 0.0685 - acc: 0.9746"
          ],
          "name": "stdout"
        },
        {
          "output_type": "stream",
          "text": [
            "W0824 05:58:58.564690 140464170198912 callbacks.py:989] Can save best model only with accuracy available, skipping.\n"
          ],
          "name": "stderr"
        },
        {
          "output_type": "stream",
          "text": [
            "60000/60000 [==============================] - 5s 87us/sample - loss: 0.0687 - acc: 0.9745 - val_loss: 0.2710 - val_acc: 0.9385\n",
            "\n",
            "Epoch 00053: LearningRateScheduler reducing learning rate to 0.0010000000474974513.\n",
            "Epoch 53/100\n",
            "59648/60000 [============================>.] - ETA: 0s - loss: 0.0663 - acc: 0.9752"
          ],
          "name": "stdout"
        },
        {
          "output_type": "stream",
          "text": [
            "W0824 05:59:03.811812 140464170198912 callbacks.py:989] Can save best model only with accuracy available, skipping.\n"
          ],
          "name": "stderr"
        },
        {
          "output_type": "stream",
          "text": [
            "60000/60000 [==============================] - 5s 87us/sample - loss: 0.0663 - acc: 0.9751 - val_loss: 0.2487 - val_acc: 0.9396\n",
            "\n",
            "Epoch 00054: LearningRateScheduler reducing learning rate to 0.0010000000474974513.\n",
            "Epoch 54/100\n",
            "59648/60000 [============================>.] - ETA: 0s - loss: 0.0669 - acc: 0.9747"
          ],
          "name": "stdout"
        },
        {
          "output_type": "stream",
          "text": [
            "W0824 05:59:09.058784 140464170198912 callbacks.py:989] Can save best model only with accuracy available, skipping.\n"
          ],
          "name": "stderr"
        },
        {
          "output_type": "stream",
          "text": [
            "60000/60000 [==============================] - 5s 87us/sample - loss: 0.0668 - acc: 0.9747 - val_loss: 0.2589 - val_acc: 0.9371\n",
            "\n",
            "Epoch 00055: LearningRateScheduler reducing learning rate to 0.0010000000474974513.\n",
            "Epoch 55/100\n",
            "59520/60000 [============================>.] - ETA: 0s - loss: 0.0669 - acc: 0.9749"
          ],
          "name": "stdout"
        },
        {
          "output_type": "stream",
          "text": [
            "W0824 05:59:14.347822 140464170198912 callbacks.py:989] Can save best model only with accuracy available, skipping.\n"
          ],
          "name": "stderr"
        },
        {
          "output_type": "stream",
          "text": [
            "60000/60000 [==============================] - 5s 88us/sample - loss: 0.0670 - acc: 0.9749 - val_loss: 0.2595 - val_acc: 0.9381\n",
            "\n",
            "Epoch 00056: LearningRateScheduler reducing learning rate to 0.0010000000474974513.\n",
            "Epoch 56/100\n",
            "59648/60000 [============================>.] - ETA: 0s - loss: 0.0634 - acc: 0.9763"
          ],
          "name": "stdout"
        },
        {
          "output_type": "stream",
          "text": [
            "W0824 05:59:19.645267 140464170198912 callbacks.py:989] Can save best model only with accuracy available, skipping.\n"
          ],
          "name": "stderr"
        },
        {
          "output_type": "stream",
          "text": [
            "60000/60000 [==============================] - 5s 88us/sample - loss: 0.0635 - acc: 0.9763 - val_loss: 0.2573 - val_acc: 0.9408\n",
            "\n",
            "Epoch 00057: LearningRateScheduler reducing learning rate to 0.0010000000474974513.\n",
            "Epoch 57/100\n",
            "59776/60000 [============================>.] - ETA: 0s - loss: 0.0649 - acc: 0.9759"
          ],
          "name": "stdout"
        },
        {
          "output_type": "stream",
          "text": [
            "W0824 05:59:24.855864 140464170198912 callbacks.py:989] Can save best model only with accuracy available, skipping.\n"
          ],
          "name": "stderr"
        },
        {
          "output_type": "stream",
          "text": [
            "60000/60000 [==============================] - 5s 87us/sample - loss: 0.0649 - acc: 0.9760 - val_loss: 0.2737 - val_acc: 0.9404\n",
            "\n",
            "Epoch 00058: LearningRateScheduler reducing learning rate to 0.0010000000474974513.\n",
            "Epoch 58/100\n",
            "59648/60000 [============================>.] - ETA: 0s - loss: 0.0650 - acc: 0.9748"
          ],
          "name": "stdout"
        },
        {
          "output_type": "stream",
          "text": [
            "W0824 05:59:30.100178 140464170198912 callbacks.py:989] Can save best model only with accuracy available, skipping.\n"
          ],
          "name": "stderr"
        },
        {
          "output_type": "stream",
          "text": [
            "60000/60000 [==============================] - 5s 87us/sample - loss: 0.0649 - acc: 0.9749 - val_loss: 0.2664 - val_acc: 0.9363\n",
            "\n",
            "Epoch 00059: LearningRateScheduler reducing learning rate to 0.0010000000474974513.\n",
            "Epoch 59/100\n",
            "59648/60000 [============================>.] - ETA: 0s - loss: 0.0636 - acc: 0.9771"
          ],
          "name": "stdout"
        },
        {
          "output_type": "stream",
          "text": [
            "W0824 05:59:35.293296 140464170198912 callbacks.py:989] Can save best model only with accuracy available, skipping.\n"
          ],
          "name": "stderr"
        },
        {
          "output_type": "stream",
          "text": [
            "60000/60000 [==============================] - 5s 86us/sample - loss: 0.0634 - acc: 0.9772 - val_loss: 0.2606 - val_acc: 0.9382\n",
            "\n",
            "Epoch 00060: LearningRateScheduler reducing learning rate to 0.0010000000474974513.\n",
            "Epoch 60/100\n",
            "59776/60000 [============================>.] - ETA: 0s - loss: 0.0631 - acc: 0.9771"
          ],
          "name": "stdout"
        },
        {
          "output_type": "stream",
          "text": [
            "W0824 05:59:40.479726 140464170198912 callbacks.py:989] Can save best model only with accuracy available, skipping.\n"
          ],
          "name": "stderr"
        },
        {
          "output_type": "stream",
          "text": [
            "60000/60000 [==============================] - 5s 86us/sample - loss: 0.0630 - acc: 0.9771 - val_loss: 0.2851 - val_acc: 0.9383\n",
            "\n",
            "Epoch 00061: LearningRateScheduler reducing learning rate to 0.0010000000474974513.\n",
            "Epoch 61/100\n",
            "59776/60000 [============================>.] - ETA: 0s - loss: 0.0631 - acc: 0.9766"
          ],
          "name": "stdout"
        },
        {
          "output_type": "stream",
          "text": [
            "W0824 05:59:45.695979 140464170198912 callbacks.py:989] Can save best model only with accuracy available, skipping.\n"
          ],
          "name": "stderr"
        },
        {
          "output_type": "stream",
          "text": [
            "60000/60000 [==============================] - 5s 87us/sample - loss: 0.0631 - acc: 0.9765 - val_loss: 0.2947 - val_acc: 0.9382\n",
            "\n",
            "Epoch 00062: LearningRateScheduler reducing learning rate to 0.0010000000474974513.\n",
            "Epoch 62/100\n",
            "59648/60000 [============================>.] - ETA: 0s - loss: 0.0643 - acc: 0.9766"
          ],
          "name": "stdout"
        },
        {
          "output_type": "stream",
          "text": [
            "W0824 05:59:50.930405 140464170198912 callbacks.py:989] Can save best model only with accuracy available, skipping.\n"
          ],
          "name": "stderr"
        },
        {
          "output_type": "stream",
          "text": [
            "60000/60000 [==============================] - 5s 87us/sample - loss: 0.0643 - acc: 0.9766 - val_loss: 0.2589 - val_acc: 0.9380\n",
            "\n",
            "Epoch 00063: LearningRateScheduler reducing learning rate to 0.0010000000474974513.\n",
            "Epoch 63/100\n",
            "59648/60000 [============================>.] - ETA: 0s - loss: 0.0607 - acc: 0.9770"
          ],
          "name": "stdout"
        },
        {
          "output_type": "stream",
          "text": [
            "W0824 05:59:56.199575 140464170198912 callbacks.py:989] Can save best model only with accuracy available, skipping.\n"
          ],
          "name": "stderr"
        },
        {
          "output_type": "stream",
          "text": [
            "60000/60000 [==============================] - 5s 88us/sample - loss: 0.0607 - acc: 0.9770 - val_loss: 0.2708 - val_acc: 0.9391\n",
            "\n",
            "Epoch 00064: LearningRateScheduler reducing learning rate to 0.0010000000474974513.\n",
            "Epoch 64/100\n",
            "59648/60000 [============================>.] - ETA: 0s - loss: 0.0623 - acc: 0.9767"
          ],
          "name": "stdout"
        },
        {
          "output_type": "stream",
          "text": [
            "W0824 06:00:01.419974 140464170198912 callbacks.py:989] Can save best model only with accuracy available, skipping.\n"
          ],
          "name": "stderr"
        },
        {
          "output_type": "stream",
          "text": [
            "60000/60000 [==============================] - 5s 87us/sample - loss: 0.0622 - acc: 0.9768 - val_loss: 0.2573 - val_acc: 0.9426\n",
            "\n",
            "Epoch 00065: LearningRateScheduler reducing learning rate to 0.0010000000474974513.\n",
            "Epoch 65/100\n",
            "59520/60000 [============================>.] - ETA: 0s - loss: 0.0630 - acc: 0.9773"
          ],
          "name": "stdout"
        },
        {
          "output_type": "stream",
          "text": [
            "W0824 06:00:06.628171 140464170198912 callbacks.py:989] Can save best model only with accuracy available, skipping.\n"
          ],
          "name": "stderr"
        },
        {
          "output_type": "stream",
          "text": [
            "60000/60000 [==============================] - 5s 87us/sample - loss: 0.0630 - acc: 0.9773 - val_loss: 0.2505 - val_acc: 0.9400\n",
            "\n",
            "Epoch 00066: LearningRateScheduler reducing learning rate to 0.0010000000474974513.\n",
            "Epoch 66/100\n",
            "59648/60000 [============================>.] - ETA: 0s - loss: 0.0617 - acc: 0.9773"
          ],
          "name": "stdout"
        },
        {
          "output_type": "stream",
          "text": [
            "W0824 06:00:11.852072 140464170198912 callbacks.py:989] Can save best model only with accuracy available, skipping.\n"
          ],
          "name": "stderr"
        },
        {
          "output_type": "stream",
          "text": [
            "60000/60000 [==============================] - 5s 87us/sample - loss: 0.0618 - acc: 0.9772 - val_loss: 0.2664 - val_acc: 0.9391\n",
            "\n",
            "Epoch 00067: LearningRateScheduler reducing learning rate to 0.0010000000474974513.\n",
            "Epoch 67/100\n",
            "59648/60000 [============================>.] - ETA: 0s - loss: 0.0601 - acc: 0.9775"
          ],
          "name": "stdout"
        },
        {
          "output_type": "stream",
          "text": [
            "W0824 06:00:17.072823 140464170198912 callbacks.py:989] Can save best model only with accuracy available, skipping.\n"
          ],
          "name": "stderr"
        },
        {
          "output_type": "stream",
          "text": [
            "60000/60000 [==============================] - 5s 87us/sample - loss: 0.0603 - acc: 0.9774 - val_loss: 0.2831 - val_acc: 0.9375\n",
            "\n",
            "Epoch 00068: LearningRateScheduler reducing learning rate to 0.0010000000474974513.\n",
            "Epoch 68/100\n",
            "59648/60000 [============================>.] - ETA: 0s - loss: 0.0622 - acc: 0.9764"
          ],
          "name": "stdout"
        },
        {
          "output_type": "stream",
          "text": [
            "W0824 06:00:22.324374 140464170198912 callbacks.py:989] Can save best model only with accuracy available, skipping.\n"
          ],
          "name": "stderr"
        },
        {
          "output_type": "stream",
          "text": [
            "60000/60000 [==============================] - 5s 87us/sample - loss: 0.0624 - acc: 0.9764 - val_loss: 0.2765 - val_acc: 0.9356\n",
            "\n",
            "Epoch 00069: LearningRateScheduler reducing learning rate to 0.0010000000474974513.\n",
            "Epoch 69/100\n",
            "59648/60000 [============================>.] - ETA: 0s - loss: 0.0611 - acc: 0.9785"
          ],
          "name": "stdout"
        },
        {
          "output_type": "stream",
          "text": [
            "W0824 06:00:27.575698 140464170198912 callbacks.py:989] Can save best model only with accuracy available, skipping.\n"
          ],
          "name": "stderr"
        },
        {
          "output_type": "stream",
          "text": [
            "60000/60000 [==============================] - 5s 87us/sample - loss: 0.0612 - acc: 0.9785 - val_loss: 0.2611 - val_acc: 0.9391\n",
            "\n",
            "Epoch 00070: LearningRateScheduler reducing learning rate to 0.0010000000474974513.\n",
            "Epoch 70/100\n",
            "59648/60000 [============================>.] - ETA: 0s - loss: 0.0601 - acc: 0.9778"
          ],
          "name": "stdout"
        },
        {
          "output_type": "stream",
          "text": [
            "W0824 06:00:32.816586 140464170198912 callbacks.py:989] Can save best model only with accuracy available, skipping.\n"
          ],
          "name": "stderr"
        },
        {
          "output_type": "stream",
          "text": [
            "60000/60000 [==============================] - 5s 87us/sample - loss: 0.0599 - acc: 0.9779 - val_loss: 0.2710 - val_acc: 0.9391\n",
            "\n",
            "Epoch 00071: LearningRateScheduler reducing learning rate to 0.0010000000474974513.\n",
            "Epoch 71/100\n",
            "59648/60000 [============================>.] - ETA: 0s - loss: 0.0624 - acc: 0.9768"
          ],
          "name": "stdout"
        },
        {
          "output_type": "stream",
          "text": [
            "W0824 06:00:38.028893 140464170198912 callbacks.py:989] Can save best model only with accuracy available, skipping.\n"
          ],
          "name": "stderr"
        },
        {
          "output_type": "stream",
          "text": [
            "60000/60000 [==============================] - 5s 87us/sample - loss: 0.0623 - acc: 0.9768 - val_loss: 0.2716 - val_acc: 0.9369\n",
            "\n",
            "Epoch 00072: LearningRateScheduler reducing learning rate to 0.0010000000474974513.\n",
            "Epoch 72/100\n",
            "59648/60000 [============================>.] - ETA: 0s - loss: 0.0587 - acc: 0.9784"
          ],
          "name": "stdout"
        },
        {
          "output_type": "stream",
          "text": [
            "W0824 06:00:43.242571 140464170198912 callbacks.py:989] Can save best model only with accuracy available, skipping.\n"
          ],
          "name": "stderr"
        },
        {
          "output_type": "stream",
          "text": [
            "60000/60000 [==============================] - 5s 87us/sample - loss: 0.0587 - acc: 0.9784 - val_loss: 0.2724 - val_acc: 0.9402\n",
            "\n",
            "Epoch 00073: LearningRateScheduler reducing learning rate to 0.0010000000474974513.\n",
            "Epoch 73/100\n",
            "59520/60000 [============================>.] - ETA: 0s - loss: 0.0574 - acc: 0.9798"
          ],
          "name": "stdout"
        },
        {
          "output_type": "stream",
          "text": [
            "W0824 06:00:48.460223 140464170198912 callbacks.py:989] Can save best model only with accuracy available, skipping.\n"
          ],
          "name": "stderr"
        },
        {
          "output_type": "stream",
          "text": [
            "60000/60000 [==============================] - 5s 87us/sample - loss: 0.0572 - acc: 0.9798 - val_loss: 0.2810 - val_acc: 0.9397\n",
            "\n",
            "Epoch 00074: LearningRateScheduler reducing learning rate to 0.0010000000474974513.\n",
            "Epoch 74/100\n",
            "59648/60000 [============================>.] - ETA: 0s - loss: 0.0600 - acc: 0.9779"
          ],
          "name": "stdout"
        },
        {
          "output_type": "stream",
          "text": [
            "W0824 06:00:53.683750 140464170198912 callbacks.py:989] Can save best model only with accuracy available, skipping.\n"
          ],
          "name": "stderr"
        },
        {
          "output_type": "stream",
          "text": [
            "60000/60000 [==============================] - 5s 87us/sample - loss: 0.0600 - acc: 0.9779 - val_loss: 0.2810 - val_acc: 0.9398\n",
            "\n",
            "Epoch 00075: LearningRateScheduler reducing learning rate to 0.0010000000474974513.\n",
            "Epoch 75/100\n",
            "59648/60000 [============================>.] - ETA: 0s - loss: 0.0569 - acc: 0.9787"
          ],
          "name": "stdout"
        },
        {
          "output_type": "stream",
          "text": [
            "W0824 06:00:58.904935 140464170198912 callbacks.py:989] Can save best model only with accuracy available, skipping.\n"
          ],
          "name": "stderr"
        },
        {
          "output_type": "stream",
          "text": [
            "60000/60000 [==============================] - 5s 87us/sample - loss: 0.0570 - acc: 0.9787 - val_loss: 0.2793 - val_acc: 0.9413\n",
            "\n",
            "Epoch 00076: LearningRateScheduler reducing learning rate to 0.0010000000474974513.\n",
            "Epoch 76/100\n",
            "59648/60000 [============================>.] - ETA: 0s - loss: 0.0576 - acc: 0.9788"
          ],
          "name": "stdout"
        },
        {
          "output_type": "stream",
          "text": [
            "W0824 06:01:04.110787 140464170198912 callbacks.py:989] Can save best model only with accuracy available, skipping.\n"
          ],
          "name": "stderr"
        },
        {
          "output_type": "stream",
          "text": [
            "60000/60000 [==============================] - 5s 87us/sample - loss: 0.0575 - acc: 0.9789 - val_loss: 0.2789 - val_acc: 0.9400\n",
            "\n",
            "Epoch 00077: LearningRateScheduler reducing learning rate to 0.0010000000474974513.\n",
            "Epoch 77/100\n",
            "59648/60000 [============================>.] - ETA: 0s - loss: 0.0590 - acc: 0.9787"
          ],
          "name": "stdout"
        },
        {
          "output_type": "stream",
          "text": [
            "W0824 06:01:09.333179 140464170198912 callbacks.py:989] Can save best model only with accuracy available, skipping.\n"
          ],
          "name": "stderr"
        },
        {
          "output_type": "stream",
          "text": [
            "60000/60000 [==============================] - 5s 87us/sample - loss: 0.0589 - acc: 0.9787 - val_loss: 0.2674 - val_acc: 0.9391\n",
            "\n",
            "Epoch 00078: LearningRateScheduler reducing learning rate to 0.0010000000474974513.\n",
            "Epoch 78/100\n",
            "59648/60000 [============================>.] - ETA: 0s - loss: 0.0564 - acc: 0.9793"
          ],
          "name": "stdout"
        },
        {
          "output_type": "stream",
          "text": [
            "W0824 06:01:14.569997 140464170198912 callbacks.py:989] Can save best model only with accuracy available, skipping.\n"
          ],
          "name": "stderr"
        },
        {
          "output_type": "stream",
          "text": [
            "60000/60000 [==============================] - 5s 87us/sample - loss: 0.0564 - acc: 0.9792 - val_loss: 0.2686 - val_acc: 0.9397\n",
            "\n",
            "Epoch 00079: LearningRateScheduler reducing learning rate to 0.0010000000474974513.\n",
            "Epoch 79/100\n",
            "59648/60000 [============================>.] - ETA: 0s - loss: 0.0559 - acc: 0.9792"
          ],
          "name": "stdout"
        },
        {
          "output_type": "stream",
          "text": [
            "W0824 06:01:19.791292 140464170198912 callbacks.py:989] Can save best model only with accuracy available, skipping.\n"
          ],
          "name": "stderr"
        },
        {
          "output_type": "stream",
          "text": [
            "60000/60000 [==============================] - 5s 87us/sample - loss: 0.0558 - acc: 0.9792 - val_loss: 0.2881 - val_acc: 0.9417\n",
            "\n",
            "Epoch 00080: LearningRateScheduler reducing learning rate to 0.0010000000474974513.\n",
            "Epoch 80/100\n",
            "59520/60000 [============================>.] - ETA: 0s - loss: 0.0559 - acc: 0.9796"
          ],
          "name": "stdout"
        },
        {
          "output_type": "stream",
          "text": [
            "W0824 06:01:25.009116 140464170198912 callbacks.py:989] Can save best model only with accuracy available, skipping.\n"
          ],
          "name": "stderr"
        },
        {
          "output_type": "stream",
          "text": [
            "60000/60000 [==============================] - 5s 87us/sample - loss: 0.0559 - acc: 0.9796 - val_loss: 0.2836 - val_acc: 0.9371\n",
            "\n",
            "Epoch 00081: LearningRateScheduler reducing learning rate to 0.0010000000474974513.\n",
            "Epoch 81/100\n",
            "59648/60000 [============================>.] - ETA: 0s - loss: 0.0557 - acc: 0.9793"
          ],
          "name": "stdout"
        },
        {
          "output_type": "stream",
          "text": [
            "W0824 06:01:30.218234 140464170198912 callbacks.py:989] Can save best model only with accuracy available, skipping.\n"
          ],
          "name": "stderr"
        },
        {
          "output_type": "stream",
          "text": [
            "60000/60000 [==============================] - 5s 87us/sample - loss: 0.0556 - acc: 0.9793 - val_loss: 0.2678 - val_acc: 0.9392\n",
            "\n",
            "Epoch 00082: LearningRateScheduler reducing learning rate to 0.0010000000474974513.\n",
            "Epoch 82/100\n",
            "59648/60000 [============================>.] - ETA: 0s - loss: 0.0547 - acc: 0.9803"
          ],
          "name": "stdout"
        },
        {
          "output_type": "stream",
          "text": [
            "W0824 06:01:35.439677 140464170198912 callbacks.py:989] Can save best model only with accuracy available, skipping.\n"
          ],
          "name": "stderr"
        },
        {
          "output_type": "stream",
          "text": [
            "60000/60000 [==============================] - 5s 87us/sample - loss: 0.0548 - acc: 0.9802 - val_loss: 0.2629 - val_acc: 0.9397\n",
            "\n",
            "Epoch 00083: LearningRateScheduler reducing learning rate to 0.0010000000474974513.\n",
            "Epoch 83/100\n",
            "59648/60000 [============================>.] - ETA: 0s - loss: 0.0600 - acc: 0.9785"
          ],
          "name": "stdout"
        },
        {
          "output_type": "stream",
          "text": [
            "W0824 06:01:40.652814 140464170198912 callbacks.py:989] Can save best model only with accuracy available, skipping.\n"
          ],
          "name": "stderr"
        },
        {
          "output_type": "stream",
          "text": [
            "60000/60000 [==============================] - 5s 87us/sample - loss: 0.0602 - acc: 0.9784 - val_loss: 0.2788 - val_acc: 0.9399\n",
            "\n",
            "Epoch 00084: LearningRateScheduler reducing learning rate to 0.0010000000474974513.\n",
            "Epoch 84/100\n",
            "59648/60000 [============================>.] - ETA: 0s - loss: 0.0536 - acc: 0.9807"
          ],
          "name": "stdout"
        },
        {
          "output_type": "stream",
          "text": [
            "W0824 06:01:45.890341 140464170198912 callbacks.py:989] Can save best model only with accuracy available, skipping.\n"
          ],
          "name": "stderr"
        },
        {
          "output_type": "stream",
          "text": [
            "60000/60000 [==============================] - 5s 87us/sample - loss: 0.0536 - acc: 0.9807 - val_loss: 0.2830 - val_acc: 0.9391\n",
            "\n",
            "Epoch 00085: LearningRateScheduler reducing learning rate to 0.0010000000474974513.\n",
            "Epoch 85/100\n",
            "59648/60000 [============================>.] - ETA: 0s - loss: 0.0554 - acc: 0.9799"
          ],
          "name": "stdout"
        },
        {
          "output_type": "stream",
          "text": [
            "W0824 06:01:51.115459 140464170198912 callbacks.py:989] Can save best model only with accuracy available, skipping.\n"
          ],
          "name": "stderr"
        },
        {
          "output_type": "stream",
          "text": [
            "60000/60000 [==============================] - 5s 87us/sample - loss: 0.0556 - acc: 0.9799 - val_loss: 0.2824 - val_acc: 0.9409\n",
            "\n",
            "Epoch 00086: LearningRateScheduler reducing learning rate to 0.0010000000474974513.\n",
            "Epoch 86/100\n",
            "59520/60000 [============================>.] - ETA: 0s - loss: 0.0570 - acc: 0.9790"
          ],
          "name": "stdout"
        },
        {
          "output_type": "stream",
          "text": [
            "W0824 06:01:56.309806 140464170198912 callbacks.py:989] Can save best model only with accuracy available, skipping.\n"
          ],
          "name": "stderr"
        },
        {
          "output_type": "stream",
          "text": [
            "60000/60000 [==============================] - 5s 86us/sample - loss: 0.0567 - acc: 0.9790 - val_loss: 0.2612 - val_acc: 0.9398\n",
            "\n",
            "Epoch 00087: LearningRateScheduler reducing learning rate to 0.0010000000474974513.\n",
            "Epoch 87/100\n",
            "59648/60000 [============================>.] - ETA: 0s - loss: 0.0533 - acc: 0.9810"
          ],
          "name": "stdout"
        },
        {
          "output_type": "stream",
          "text": [
            "W0824 06:02:01.507476 140464170198912 callbacks.py:989] Can save best model only with accuracy available, skipping.\n"
          ],
          "name": "stderr"
        },
        {
          "output_type": "stream",
          "text": [
            "60000/60000 [==============================] - 5s 87us/sample - loss: 0.0537 - acc: 0.9810 - val_loss: 0.2986 - val_acc: 0.9368\n",
            "\n",
            "Epoch 00088: LearningRateScheduler reducing learning rate to 0.0010000000474974513.\n",
            "Epoch 88/100\n",
            "59648/60000 [============================>.] - ETA: 0s - loss: 0.0525 - acc: 0.9806"
          ],
          "name": "stdout"
        },
        {
          "output_type": "stream",
          "text": [
            "W0824 06:02:06.709804 140464170198912 callbacks.py:989] Can save best model only with accuracy available, skipping.\n"
          ],
          "name": "stderr"
        },
        {
          "output_type": "stream",
          "text": [
            "60000/60000 [==============================] - 5s 87us/sample - loss: 0.0526 - acc: 0.9806 - val_loss: 0.2886 - val_acc: 0.9396\n",
            "\n",
            "Epoch 00089: LearningRateScheduler reducing learning rate to 0.0010000000474974513.\n",
            "Epoch 89/100\n",
            "59520/60000 [============================>.] - ETA: 0s - loss: 0.0528 - acc: 0.9808"
          ],
          "name": "stdout"
        },
        {
          "output_type": "stream",
          "text": [
            "W0824 06:02:11.923903 140464170198912 callbacks.py:989] Can save best model only with accuracy available, skipping.\n"
          ],
          "name": "stderr"
        },
        {
          "output_type": "stream",
          "text": [
            "60000/60000 [==============================] - 5s 87us/sample - loss: 0.0530 - acc: 0.9807 - val_loss: 0.2802 - val_acc: 0.9400\n",
            "\n",
            "Epoch 00090: LearningRateScheduler reducing learning rate to 0.0010000000474974513.\n",
            "Epoch 90/100\n",
            "59648/60000 [============================>.] - ETA: 0s - loss: 0.0510 - acc: 0.9810"
          ],
          "name": "stdout"
        },
        {
          "output_type": "stream",
          "text": [
            "W0824 06:02:17.140816 140464170198912 callbacks.py:989] Can save best model only with accuracy available, skipping.\n"
          ],
          "name": "stderr"
        },
        {
          "output_type": "stream",
          "text": [
            "60000/60000 [==============================] - 5s 87us/sample - loss: 0.0511 - acc: 0.9810 - val_loss: 0.2892 - val_acc: 0.9411\n",
            "\n",
            "Epoch 00091: LearningRateScheduler reducing learning rate to 0.00010000000474974513.\n",
            "Epoch 91/100\n",
            "59648/60000 [============================>.] - ETA: 0s - loss: 0.0423 - acc: 0.9846"
          ],
          "name": "stdout"
        },
        {
          "output_type": "stream",
          "text": [
            "W0824 06:02:22.325075 140464170198912 callbacks.py:989] Can save best model only with accuracy available, skipping.\n"
          ],
          "name": "stderr"
        },
        {
          "output_type": "stream",
          "text": [
            "60000/60000 [==============================] - 5s 86us/sample - loss: 0.0422 - acc: 0.9846 - val_loss: 0.2856 - val_acc: 0.9401\n",
            "\n",
            "Epoch 00092: LearningRateScheduler reducing learning rate to 0.00010000000474974513.\n",
            "Epoch 92/100\n",
            "59776/60000 [============================>.] - ETA: 0s - loss: 0.0389 - acc: 0.9860"
          ],
          "name": "stdout"
        },
        {
          "output_type": "stream",
          "text": [
            "W0824 06:02:27.540838 140464170198912 callbacks.py:989] Can save best model only with accuracy available, skipping.\n"
          ],
          "name": "stderr"
        },
        {
          "output_type": "stream",
          "text": [
            "60000/60000 [==============================] - 5s 87us/sample - loss: 0.0390 - acc: 0.9860 - val_loss: 0.2855 - val_acc: 0.9426\n",
            "\n",
            "Epoch 00093: LearningRateScheduler reducing learning rate to 0.00010000000474974513.\n",
            "Epoch 93/100\n",
            "59648/60000 [============================>.] - ETA: 0s - loss: 0.0347 - acc: 0.9866"
          ],
          "name": "stdout"
        },
        {
          "output_type": "stream",
          "text": [
            "W0824 06:02:32.758209 140464170198912 callbacks.py:989] Can save best model only with accuracy available, skipping.\n"
          ],
          "name": "stderr"
        },
        {
          "output_type": "stream",
          "text": [
            "60000/60000 [==============================] - 5s 87us/sample - loss: 0.0346 - acc: 0.9866 - val_loss: 0.2879 - val_acc: 0.9426\n",
            "\n",
            "Epoch 00094: LearningRateScheduler reducing learning rate to 0.00010000000474974513.\n",
            "Epoch 94/100\n",
            "59648/60000 [============================>.] - ETA: 0s - loss: 0.0350 - acc: 0.9874"
          ],
          "name": "stdout"
        },
        {
          "output_type": "stream",
          "text": [
            "W0824 06:02:37.955000 140464170198912 callbacks.py:989] Can save best model only with accuracy available, skipping.\n"
          ],
          "name": "stderr"
        },
        {
          "output_type": "stream",
          "text": [
            "60000/60000 [==============================] - 5s 87us/sample - loss: 0.0349 - acc: 0.9874 - val_loss: 0.2956 - val_acc: 0.9438\n",
            "\n",
            "Epoch 00095: LearningRateScheduler reducing learning rate to 0.00010000000474974513.\n",
            "Epoch 95/100\n",
            "59648/60000 [============================>.] - ETA: 0s - loss: 0.0297 - acc: 0.9885"
          ],
          "name": "stdout"
        },
        {
          "output_type": "stream",
          "text": [
            "W0824 06:02:43.159326 140464170198912 callbacks.py:989] Can save best model only with accuracy available, skipping.\n"
          ],
          "name": "stderr"
        },
        {
          "output_type": "stream",
          "text": [
            "60000/60000 [==============================] - 5s 87us/sample - loss: 0.0298 - acc: 0.9884 - val_loss: 0.2976 - val_acc: 0.9415\n",
            "\n",
            "Epoch 00096: LearningRateScheduler reducing learning rate to 0.00010000000474974513.\n",
            "Epoch 96/100\n",
            "59648/60000 [============================>.] - ETA: 0s - loss: 0.0317 - acc: 0.9887"
          ],
          "name": "stdout"
        },
        {
          "output_type": "stream",
          "text": [
            "W0824 06:02:48.358083 140464170198912 callbacks.py:989] Can save best model only with accuracy available, skipping.\n"
          ],
          "name": "stderr"
        },
        {
          "output_type": "stream",
          "text": [
            "60000/60000 [==============================] - 5s 87us/sample - loss: 0.0316 - acc: 0.9887 - val_loss: 0.3026 - val_acc: 0.9429\n",
            "\n",
            "Epoch 00097: LearningRateScheduler reducing learning rate to 0.00010000000474974513.\n",
            "Epoch 97/100\n",
            "59648/60000 [============================>.] - ETA: 0s - loss: 0.0300 - acc: 0.9893"
          ],
          "name": "stdout"
        },
        {
          "output_type": "stream",
          "text": [
            "W0824 06:02:53.563791 140464170198912 callbacks.py:989] Can save best model only with accuracy available, skipping.\n"
          ],
          "name": "stderr"
        },
        {
          "output_type": "stream",
          "text": [
            "60000/60000 [==============================] - 5s 87us/sample - loss: 0.0300 - acc: 0.9894 - val_loss: 0.3038 - val_acc: 0.9427\n",
            "\n",
            "Epoch 00098: LearningRateScheduler reducing learning rate to 0.00010000000474974513.\n",
            "Epoch 98/100\n",
            "59520/60000 [============================>.] - ETA: 0s - loss: 0.0302 - acc: 0.9888"
          ],
          "name": "stdout"
        },
        {
          "output_type": "stream",
          "text": [
            "W0824 06:02:58.754047 140464170198912 callbacks.py:989] Can save best model only with accuracy available, skipping.\n"
          ],
          "name": "stderr"
        },
        {
          "output_type": "stream",
          "text": [
            "60000/60000 [==============================] - 5s 86us/sample - loss: 0.0303 - acc: 0.9888 - val_loss: 0.3048 - val_acc: 0.9426\n",
            "\n",
            "Epoch 00099: LearningRateScheduler reducing learning rate to 0.00010000000474974513.\n",
            "Epoch 99/100\n",
            "59648/60000 [============================>.] - ETA: 0s - loss: 0.0280 - acc: 0.9892"
          ],
          "name": "stdout"
        },
        {
          "output_type": "stream",
          "text": [
            "W0824 06:03:03.983944 140464170198912 callbacks.py:989] Can save best model only with accuracy available, skipping.\n"
          ],
          "name": "stderr"
        },
        {
          "output_type": "stream",
          "text": [
            "60000/60000 [==============================] - 5s 87us/sample - loss: 0.0280 - acc: 0.9892 - val_loss: 0.3062 - val_acc: 0.9426\n",
            "\n",
            "Epoch 00100: LearningRateScheduler reducing learning rate to 0.00010000000474974513.\n",
            "Epoch 100/100\n",
            "59648/60000 [============================>.] - ETA: 0s - loss: 0.0292 - acc: 0.9889"
          ],
          "name": "stdout"
        },
        {
          "output_type": "stream",
          "text": [
            "W0824 06:03:09.187105 140464170198912 callbacks.py:989] Can save best model only with accuracy available, skipping.\n"
          ],
          "name": "stderr"
        },
        {
          "output_type": "stream",
          "text": [
            "\b\b\b\b\b\b\b\b\b\b\b\b\b\b\b\b\b\b\b\b\b\b\b\b\b\b\b\b\b\b\b\b\b\b\b\b\b\b\b\b\b\b\b\b\b\b\b\b\b\b\b\b\b\b\b\b\b\b\b\b\b\b\b\b\b\b\b\b\b\b\b\b\b\b\b\b\b\b\b\b\b\b\b\r60000/60000 [==============================] - 5s 87us/sample - loss: 0.0292 - acc: 0.9888 - val_loss: 0.3100 - val_acc: 0.9429\n"
          ],
          "name": "stdout"
        },
        {
          "output_type": "execute_result",
          "data": {
            "text/plain": [
              "<tensorflow.python.keras.callbacks.History at 0x7fbfb6a89e10>"
            ]
          },
          "metadata": {
            "tags": []
          },
          "execution_count": 20
        }
      ]
    },
    {
      "cell_type": "markdown",
      "metadata": {
        "id": "QR9WUYXxqtfR",
        "colab_type": "text"
      },
      "source": [
        "# **4. 모델 저장**"
      ]
    },
    {
      "cell_type": "code",
      "metadata": {
        "id": "Wi9yznz4qvzK",
        "colab_type": "code",
        "colab": {}
      },
      "source": [
        "save_path = '/content/'\n",
        "team_name = 'team01'\n",
        "\n",
        "# 모델의 weight 값만 저장합니다.\n",
        "model.save_weights(save_path + 'model_weight_' + data_type + '_' + team_name + '.h5')\n",
        "\n",
        "# 모델의 구조만을 저장합니다.\n",
        "model_json = model.to_json()\n",
        "with open(save_path + 'model_structure_' + data_type + '_' + team_name + '.json', 'w') as json_file : \n",
        "    json_file.write(model_json)\n",
        "\n",
        "# 트레이닝된 전체 모델을 저장합니다.\n",
        "model.save(save_path +  'model_entire_' + data_type + '_' + team_name + '.h5')"
      ],
      "execution_count": 0,
      "outputs": []
    },
    {
      "cell_type": "markdown",
      "metadata": {
        "id": "1B2BoRDZ7cFl",
        "colab_type": "text"
      },
      "source": [
        "# **5. 모델 로드 및 평가**"
      ]
    },
    {
      "cell_type": "code",
      "metadata": {
        "id": "SDBwxVUx7knQ",
        "colab_type": "code",
        "outputId": "74b470f2-b820-4ad2-aad9-68367e8ce02b",
        "colab": {
          "base_uri": "https://localhost:8080/",
          "height": 156
        }
      },
      "source": [
        "save_path = '/content/'\n",
        "team_name = 'team01'\n",
        "\n",
        "model = keras.models.load_model(save_path + 'model_entire_' + data_type + '_' + team_name + '.h5')\n",
        "model.evaluate(x_test_after, y_test)"
      ],
      "execution_count": 22,
      "outputs": [
        {
          "output_type": "stream",
          "text": [
            "W0824 06:04:08.191327 140464170198912 deprecation.py:506] From /usr/local/lib/python3.6/dist-packages/tensorflow/python/ops/init_ops.py:97: calling GlorotUniform.__init__ (from tensorflow.python.ops.init_ops) with dtype is deprecated and will be removed in a future version.\n",
            "Instructions for updating:\n",
            "Call initializer instance with the dtype argument instead of passing it to the constructor\n",
            "W0824 06:04:08.194221 140464170198912 deprecation.py:506] From /usr/local/lib/python3.6/dist-packages/tensorflow/python/ops/init_ops.py:97: calling Zeros.__init__ (from tensorflow.python.ops.init_ops) with dtype is deprecated and will be removed in a future version.\n",
            "Instructions for updating:\n",
            "Call initializer instance with the dtype argument instead of passing it to the constructor\n"
          ],
          "name": "stderr"
        },
        {
          "output_type": "stream",
          "text": [
            "10000/10000 [==============================] - 1s 99us/sample - loss: 0.3100 - acc: 0.9429\n"
          ],
          "name": "stdout"
        },
        {
          "output_type": "execute_result",
          "data": {
            "text/plain": [
              "[0.3100125632381299, 0.9429]"
            ]
          },
          "metadata": {
            "tags": []
          },
          "execution_count": 22
        }
      ]
    }
  ]
}
