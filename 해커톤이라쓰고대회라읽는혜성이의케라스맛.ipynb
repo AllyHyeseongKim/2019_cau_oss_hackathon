{
  "nbformat": 4,
  "nbformat_minor": 0,
  "metadata": {
    "colab": {
      "name": "해커톤이라쓰고대회라읽는혜성이의케라스맛",
      "version": "0.3.2",
      "provenance": [],
      "collapsed_sections": [],
      "include_colab_link": true
    },
    "kernelspec": {
      "name": "python3",
      "display_name": "Python 3"
    },
    "accelerator": "GPU"
  },
  "cells": [
    {
      "cell_type": "markdown",
      "metadata": {
        "id": "view-in-github",
        "colab_type": "text"
      },
      "source": [
        "<a href=\"https://colab.research.google.com/github/AllyHyeseongKim/2019_cau_oss_hackathon/blob/master/%ED%95%B4%EC%BB%A4%ED%86%A4%EC%9D%B4%EB%9D%BC%EC%93%B0%EA%B3%A0%EB%8C%80%ED%9A%8C%EB%9D%BC%EC%9D%BD%EB%8A%94%ED%98%9C%EC%84%B1%EC%9D%B4%EC%9D%98%EC%BC%80%EB%9D%BC%EC%8A%A4%EB%A7%9B.ipynb\" target=\"_parent\"><img src=\"https://colab.research.google.com/assets/colab-badge.svg\" alt=\"Open In Colab\"/></a>"
      ]
    },
    {
      "cell_type": "markdown",
      "metadata": {
        "id": "1AosAX9DXOlc",
        "colab_type": "text"
      },
      "source": [
        "# **0. 해커톤 진행 주의사항**\n",
        "\n",
        "**1)  개발 관련 주의사항**\n",
        "*   [1. 초기 환경 설정]은 절대 수정하지 말 것\n",
        " *  단, 사용할 데이터셋에 따라 is_mnist만 수정\n",
        "*   모든 구현은 [2. 데이터 전처리]와 [3. 모델 생성]에서만 진행\n",
        " *  데이터 전처리 후 트레이닝, 데이터 셋은 x_train_after, x_test_after 변수명을 유지해주세요.\n",
        " *  데이터셋이 달라져도 같은 모델 구조를 유지하여야함.\n",
        "*   [4. 모델 저장]과 [5. 모델 로드 및 평가]에서 team_name 변수 변경 (예.`team_name = 'team01'`)\n",
        " *  트레이닝 중간에 checkpoint를 활용하여 모델을 저장한 경우에도 파일 이름 양식 통일 필수\n",
        " *  team_name을 제외한 다른 부분은 수정하지 말 것\n",
        "*   Colab 사용중 실수로 데이터 손실이 발생할 수도 있으니 중간 결과값을 github에 업로드 \n",
        " *    \"런타임->모든 런타임 재설정\"은 절대 누르지 말 것 (저장한 모델 데이터가 모두 삭제됨)\n",
        "*   효율적인 구현 및 테스팅을 위해 GPU 가속 기능 활성화\n",
        " *    \"런타임 -> 런타임 유형변경 -> 하드웨어 가속기 -> GPU 설정\"\n",
        "*   주석을 최대한 자세히 작성\n",
        "*   Keras API 관련하여 [Keras Documentation](https://keras.io/) 참조\n",
        "\n",
        "**2) 제출 관련 주의사항**\n",
        "*  제출물\n",
        " *  소스코드 (hackathon_teamXX.ipynb)\n",
        " *  모델 구조 파일 (model_structure_teamXX.json)\n",
        " *  모델 weight 파일 (model_weight_teamXX.h5)\n",
        " *  컴파일된 모델 파일 (model_entire_teamXX.h5)\n",
        "* 제출 기한: **오후 6시**\n",
        "* 제출 방법: [GitHub README](https://github.com/cauosshackathonta/2019_cau_oss_hackathon/) 참조\n",
        "\n",
        " \n",
        "**3) 평가 관련 주의사항**\n",
        "*  모델 성능 = 테스트 데이터 셋 분류 정확도\n",
        " *  model.evaluate(x_test, y_test)\n",
        "*  제출된 모델들의 테스트 데이터 셋 분류 정확도를 기준으로 수상작 결정\n",
        "*  수상 후보들에 대해서는 소스코드를 기반으로 모델 재검증 \n",
        " \n",
        "**4) 수상 실격 사유**\n",
        "*  유사한 소스코드 or 알고리즘이 적발될 경우\n",
        "*  소스코드와 제출된 모델이 상이한 경우\n",
        "*  두 개의 데이터셋에 대해 다른 모델 구조를 사용한 경우\n",
        "*  개발 관련 주의사항을 지키지 않은 경우\n",
        " *  예: [초기 환경 설정]을 수정한 경우\n",
        "*  데이터 셋을 변조한 경우\n",
        " *  예. 테스트 데이터 셋을 트레이닝 데이터 셋에 포함하여 모델 생성 \n",
        "*  주석이 소스코드와 맞지 않거나 미비할 경우\n",
        "\n",
        "\n",
        "\n",
        "\n"
      ]
    },
    {
      "cell_type": "markdown",
      "metadata": {
        "id": "67lwEXhUqys1",
        "colab_type": "text"
      },
      "source": [
        "# **1. 초기 환경 설정**\n",
        "\n"
      ]
    },
    {
      "cell_type": "code",
      "metadata": {
        "id": "Ms5PBBJ1qSC6",
        "colab_type": "code",
        "colab": {}
      },
      "source": [
        "from __future__ import absolute_import, division, print_function, unicode_literals, unicode_literals\n",
        "\n",
        "# tensorflow와 tf.keras 및 관련 라이브러리 임포트\n",
        "import tensorflow as tf\n",
        "from tensorflow import keras\n",
        "from keras.utils import np_utils\n",
        "\n",
        "import numpy as np\n",
        "\n",
        "is_mnist = False;\n",
        "\n",
        "# 데이터셋 로드\n",
        "# x_train, y_train: 트레이닝 데이터 및 레이블\n",
        "# x_test, y_test: 테스트 데이터 및 레이블\n",
        "if is_mnist:\n",
        "  data_type = 'mnist'\n",
        "  (x_train, y_train), (x_test, y_test) = keras.datasets.fashion_mnist.load_data() # fashion MNIST 데이터셋인 경우,\n",
        "else:\n",
        "  data_type = 'cifar10'\n",
        "  (x_train, y_train), (x_test, y_test) = keras.datasets.cifar10.load_data() # cifar10 데이터셋인 경우,\n",
        "\n",
        "\n",
        "# 분류를 위해 클래스 벡터를 바이너리 매트릭스로 변환\n",
        "y_train = np_utils.to_categorical(y_train)\n",
        "y_test = np_utils.to_categorical(y_test)\n",
        "\n",
        "# 총 클래스 개수\n",
        "num_classes = y_test.shape[1]\n",
        "\n",
        "# 인풋 데이터 타입\n",
        "input_shape = x_test.shape[1:]"
      ],
      "execution_count": 0,
      "outputs": []
    },
    {
      "cell_type": "markdown",
      "metadata": {
        "id": "p9c2KLDBIhNQ",
        "colab_type": "text"
      },
      "source": [
        "# **2. 데이터 전처리**\n"
      ]
    },
    {
      "cell_type": "code",
      "metadata": {
        "id": "zJNgjaHvIhSS",
        "colab_type": "code",
        "colab": {}
      },
      "source": [
        "# 데이터 전처리 (예: normalization)\n",
        "x_train_after = x_train / 255.0\n",
        "x_test_after = x_test / 255.0\n",
        "\n",
        "if is_mnist:\n",
        "  x_train_after = x_train_after.reshape(x_train_after.shape[0], 28, 28, 1)\n",
        "  x_test_after = x_test_after.reshape(x_test_after.shape[0], 28, 28, 1)\n",
        "  input_shape = x_test_after.shape[1:]"
      ],
      "execution_count": 0,
      "outputs": []
    },
    {
      "cell_type": "markdown",
      "metadata": {
        "id": "A-YjppJpXBO9",
        "colab_type": "text"
      },
      "source": [
        "# **3. 모델 생성**\n",
        "\n"
      ]
    },
    {
      "cell_type": "code",
      "metadata": {
        "id": "DZP4eRmRqgRp",
        "colab_type": "code",
        "outputId": "a1b9334f-7c9d-4ca9-bfad-e43eadc8dee7",
        "colab": {
          "base_uri": "https://localhost:8080/",
          "height": 1000
        }
      },
      "source": [
        "#혜성\n",
        "#from keras.preprocessing.image import ImageDataGenerator\n",
        "\n",
        "model = keras.Sequential()\n",
        "model.add(keras.layers.Conv2D(32, (3, 3), activation='relu', input_shape=input_shape))\n",
        "model.add(keras.layers.Conv2D(32, (3, 3), activation='relu'))\n",
        "model.add(keras.layers.MaxPooling2D(pool_size=(2, 2)))\n",
        "model.add(keras.layers.Dropout(0.25))\n",
        "\n",
        "model.add(keras.layers.Conv2D(64, (3, 3), activation='relu'))\n",
        "model.add(keras.layers.Conv2D(64, (3, 3), activation='relu'))\n",
        "model.add(keras.layers.MaxPooling2D(pool_size=(2, 2)))\n",
        "model.add(keras.layers.Dropout(0.25))\n",
        "\n",
        "\n",
        "model.add(keras.layers.Flatten())\n",
        "model.add(keras.layers.Dense(256, activation='relu'))\n",
        "model.add(keras.layers.Dropout(0.5))\n",
        "model.add(keras.layers.Dense(10, activation='softmax'))\n",
        "\n",
        "# model.add(keras.layers.Flatten(input_shape=input_shape))\n",
        "# model.add(Conv2D(2, kernel_size = (3, 3), padding = 'same', activation = 'relu')\n",
        "# model.add(MaxPooling2D(pool_size = (2, 2)))\n",
        "\n",
        "# model.add(Conv2D(3, kernel_size = (2, 2), padding = 'same', activation = 'relu'))\n",
        "# model.add(MaxPooling2D(pool_size = (2, 2)))\n",
        "# model.add(keras.layers.Flatten())\n",
        "# model.add(keras.layers.Dense(8, activation = 'relu'))\n",
        "# model.add(keras.layers.Dense(num_classes, activation = 'softmax'))\n",
        "\n",
        "\n",
        "\n",
        "# model = keras.Sequential()\n",
        "# model.add(Conv2D(32, kernel_size = (3, 3), activation = 'relu', input_shape = input_shape)\n",
        "# model.add(MaxPooling2D(pool_size = (2, 2)))\n",
        "# model.add(keras.layers.Flatten())\n",
        "# model.add(keras.layers.Dense(128, activation = 'relu'))\n",
        "# model.add(keras.layers.Dense(num_classes, activation = 'softmax'))\n",
        "\n",
        "\n",
        "\n",
        "\n",
        "# # 순차 모델 생성 (가장 기본구조)\n",
        "# model = keras.Sequential()\n",
        "\n",
        "# # Flatten layer: 28 x 28 x 1 image를 784개의 1D vector input으로 변환\n",
        "# model.add(keras.layers.Flatten(input_shape=input_shape))\n",
        "\n",
        "# # 1st hidden layer: fully-connected layer\n",
        "# # (# of inputs = 784, # of outputs = 512, actication fuction = relu)\n",
        "# model.add(keras.layers.Dense(512, activation=tf.nn.relu))\n",
        "\n",
        "# # 2nd hidden layer: fully-connected layer \n",
        "# # (# of inputs = 512, # of outputs = 256, actication fuction = relu)\n",
        "# model.add(keras.layers.Dense(256, activation=tf.nn.relu))\n",
        "\n",
        "# # 3rd hidden layer: fully-connected layer \n",
        "# # (# of inputs = 256, # of outputs = 64, actication fuction = relu)\n",
        "# model.add(keras.layers.Dense(64, activation=tf.nn.relu))\n",
        "\n",
        "# # Output layer: fully-connected layer \n",
        "# # (# of inputs = 64, # of outputs = 10, actication fuction = softmax)\n",
        "# model.add(keras.layers.Dense(num_classes, activation=tf.nn.softmax))\n",
        "\n",
        "\n",
        "# 모델 컴파일\n",
        "# optimizer: 모델을 업데이트 하는 방식\n",
        "# loss: 모델의 정확도를 판단하는 방식\n",
        "# metrics: 트레이닝 및 테스팅 성능 모니터링을 위한 평가지표\n",
        "model.compile(loss='categorical_crossentropy', optimizer='adam', metrics=['accuracy'])\n",
        "\n",
        "# 모델 트레이닝\n",
        "# batch_size: 전체 데이터셋 중 몇개씩 학습시킬 것인지\n",
        "# epoch: 학습에 전체 데이터셋이 총 몇번 이용될 것인지\n",
        "# shuffle: 학습전에 트레이닝 데이터셋을 랜덤하게 섞을 것인지\n",
        "# validation_data: 중간 성능 검증에 사용할 data set\n",
        "model.fit(x_train_after, y_train, batch_size = 128, epochs = 30, shuffle=True, validation_data=[x_test_after, y_test])"
      ],
      "execution_count": 96,
      "outputs": [
        {
          "output_type": "stream",
          "text": [
            "Train on 50000 samples, validate on 10000 samples\n",
            "Epoch 1/30\n",
            "50000/50000 [==============================] - 6s 114us/sample - loss: 1.6781 - acc: 0.3792 - val_loss: 1.3272 - val_acc: 0.5155\n",
            "Epoch 2/30\n",
            "50000/50000 [==============================] - 5s 98us/sample - loss: 1.2904 - acc: 0.5350 - val_loss: 1.1233 - val_acc: 0.5989\n",
            "Epoch 3/30\n",
            "50000/50000 [==============================] - 5s 98us/sample - loss: 1.1362 - acc: 0.5959 - val_loss: 0.9806 - val_acc: 0.6566\n",
            "Epoch 4/30\n",
            "50000/50000 [==============================] - 5s 98us/sample - loss: 1.0278 - acc: 0.6388 - val_loss: 0.9056 - val_acc: 0.6854\n",
            "Epoch 5/30\n",
            "50000/50000 [==============================] - 5s 98us/sample - loss: 0.9472 - acc: 0.6662 - val_loss: 0.8760 - val_acc: 0.6908\n",
            "Epoch 6/30\n",
            "50000/50000 [==============================] - 5s 98us/sample - loss: 0.8962 - acc: 0.6840 - val_loss: 0.8265 - val_acc: 0.7109\n",
            "Epoch 7/30\n",
            "50000/50000 [==============================] - 5s 97us/sample - loss: 0.8486 - acc: 0.7014 - val_loss: 0.7671 - val_acc: 0.7303\n",
            "Epoch 8/30\n",
            "50000/50000 [==============================] - 5s 98us/sample - loss: 0.8119 - acc: 0.7160 - val_loss: 0.7525 - val_acc: 0.7370\n",
            "Epoch 9/30\n",
            "50000/50000 [==============================] - 5s 98us/sample - loss: 0.7724 - acc: 0.7293 - val_loss: 0.7246 - val_acc: 0.7481\n",
            "Epoch 10/30\n",
            "50000/50000 [==============================] - 5s 100us/sample - loss: 0.7463 - acc: 0.7379 - val_loss: 0.7032 - val_acc: 0.7563\n",
            "Epoch 11/30\n",
            "50000/50000 [==============================] - 5s 100us/sample - loss: 0.7207 - acc: 0.7472 - val_loss: 0.7046 - val_acc: 0.7537\n",
            "Epoch 12/30\n",
            "50000/50000 [==============================] - 5s 101us/sample - loss: 0.6963 - acc: 0.7537 - val_loss: 0.6741 - val_acc: 0.7684\n",
            "Epoch 13/30\n",
            "50000/50000 [==============================] - 5s 98us/sample - loss: 0.6827 - acc: 0.7599 - val_loss: 0.6971 - val_acc: 0.7581\n",
            "Epoch 14/30\n",
            "50000/50000 [==============================] - 5s 97us/sample - loss: 0.6549 - acc: 0.7694 - val_loss: 0.6529 - val_acc: 0.7765\n",
            "Epoch 15/30\n",
            "50000/50000 [==============================] - 5s 98us/sample - loss: 0.6369 - acc: 0.7755 - val_loss: 0.6673 - val_acc: 0.7739\n",
            "Epoch 16/30\n",
            "50000/50000 [==============================] - 5s 98us/sample - loss: 0.6223 - acc: 0.7821 - val_loss: 0.6758 - val_acc: 0.7654\n",
            "Epoch 17/30\n",
            "50000/50000 [==============================] - 5s 98us/sample - loss: 0.6100 - acc: 0.7846 - val_loss: 0.6371 - val_acc: 0.7820\n",
            "Epoch 18/30\n",
            "50000/50000 [==============================] - 5s 97us/sample - loss: 0.5946 - acc: 0.7882 - val_loss: 0.6452 - val_acc: 0.7808\n",
            "Epoch 19/30\n",
            "50000/50000 [==============================] - 5s 98us/sample - loss: 0.5835 - acc: 0.7922 - val_loss: 0.6467 - val_acc: 0.7770\n",
            "Epoch 20/30\n",
            "50000/50000 [==============================] - 5s 97us/sample - loss: 0.5673 - acc: 0.7983 - val_loss: 0.6335 - val_acc: 0.7861\n",
            "Epoch 21/30\n",
            "50000/50000 [==============================] - 5s 98us/sample - loss: 0.5664 - acc: 0.7986 - val_loss: 0.6242 - val_acc: 0.7889\n",
            "Epoch 22/30\n",
            "50000/50000 [==============================] - 5s 98us/sample - loss: 0.5495 - acc: 0.8063 - val_loss: 0.6074 - val_acc: 0.7915\n",
            "Epoch 23/30\n",
            "50000/50000 [==============================] - 5s 98us/sample - loss: 0.5390 - acc: 0.8092 - val_loss: 0.6174 - val_acc: 0.7904\n",
            "Epoch 24/30\n",
            "50000/50000 [==============================] - 5s 98us/sample - loss: 0.5371 - acc: 0.8091 - val_loss: 0.6413 - val_acc: 0.7854\n",
            "Epoch 25/30\n",
            "50000/50000 [==============================] - 5s 98us/sample - loss: 0.5128 - acc: 0.8186 - val_loss: 0.6297 - val_acc: 0.7897\n",
            "Epoch 26/30\n",
            "50000/50000 [==============================] - 5s 98us/sample - loss: 0.5145 - acc: 0.8186 - val_loss: 0.6340 - val_acc: 0.7890\n",
            "Epoch 27/30\n",
            "50000/50000 [==============================] - 5s 97us/sample - loss: 0.5063 - acc: 0.8191 - val_loss: 0.6348 - val_acc: 0.7879\n",
            "Epoch 28/30\n",
            "50000/50000 [==============================] - 5s 97us/sample - loss: 0.4967 - acc: 0.8223 - val_loss: 0.6275 - val_acc: 0.7899\n",
            "Epoch 29/30\n",
            "50000/50000 [==============================] - 5s 97us/sample - loss: 0.4956 - acc: 0.8256 - val_loss: 0.6073 - val_acc: 0.7976\n",
            "Epoch 30/30\n",
            "50000/50000 [==============================] - 5s 97us/sample - loss: 0.4925 - acc: 0.8235 - val_loss: 0.6262 - val_acc: 0.7903\n"
          ],
          "name": "stdout"
        },
        {
          "output_type": "execute_result",
          "data": {
            "text/plain": [
              "<tensorflow.python.keras.callbacks.History at 0x7fb82ec25860>"
            ]
          },
          "metadata": {
            "tags": []
          },
          "execution_count": 96
        }
      ]
    },
    {
      "cell_type": "markdown",
      "metadata": {
        "id": "QR9WUYXxqtfR",
        "colab_type": "text"
      },
      "source": [
        "# **4. 모델 저장**"
      ]
    },
    {
      "cell_type": "code",
      "metadata": {
        "id": "Wi9yznz4qvzK",
        "colab_type": "code",
        "colab": {}
      },
      "source": [
        "save_path = '/content/'\n",
        "team_name = 'team01'\n",
        "\n",
        "# 모델의 weight 값만 저장합니다.\n",
        "model.save_weights(save_path + 'model_weight_' + data_type + '_' + team_name + '.h5')\n",
        "\n",
        "# 모델의 구조만을 저장합니다.\n",
        "model_json = model.to_json()\n",
        "with open(save_path + 'model_structure_' + data_type + '_' + team_name + '.json', 'w') as json_file : \n",
        "    json_file.write(model_json)\n",
        "\n",
        "# 트레이닝된 전체 모델을 저장합니다.\n",
        "model.save(save_path +  'model_entire_' + data_type + '_' + team_name + '.h5')"
      ],
      "execution_count": 0,
      "outputs": []
    },
    {
      "cell_type": "markdown",
      "metadata": {
        "id": "1B2BoRDZ7cFl",
        "colab_type": "text"
      },
      "source": [
        "# **5. 모델 로드 및 평가**"
      ]
    },
    {
      "cell_type": "code",
      "metadata": {
        "id": "SDBwxVUx7knQ",
        "colab_type": "code",
        "colab": {
          "base_uri": "https://localhost:8080/",
          "height": 51
        },
        "outputId": "6f702839-0c81-43a8-8e0e-17f78f975141"
      },
      "source": [
        "save_path = '/content/'\n",
        "team_name = 'team01'\n",
        "\n",
        "model = keras.models.load_model(save_path + 'model_entire_' + data_type + '_' + team_name + '.h5')\n",
        "model.evaluate(x_test_after, y_test)"
      ],
      "execution_count": 87,
      "outputs": [
        {
          "output_type": "stream",
          "text": [
            "10000/10000 [==============================] - 1s 115us/sample - loss: 0.6216 - acc: 0.7976\n"
          ],
          "name": "stdout"
        },
        {
          "output_type": "execute_result",
          "data": {
            "text/plain": [
              "[0.6215783918380737, 0.7976]"
            ]
          },
          "metadata": {
            "tags": []
          },
          "execution_count": 87
        }
      ]
    },
    {
      "cell_type": "code",
      "metadata": {
        "id": "oSgqEQ13mgG2",
        "colab_type": "code",
        "colab": {}
      },
      "source": [
        ""
      ],
      "execution_count": 0,
      "outputs": []
    }
  ]
}