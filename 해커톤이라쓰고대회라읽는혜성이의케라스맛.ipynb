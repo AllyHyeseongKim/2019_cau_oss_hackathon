{
  "nbformat": 4,
  "nbformat_minor": 0,
  "metadata": {
    "colab": {
      "name": "해커톤이라쓰고대회라읽는혜성이의케라스맛",
      "version": "0.3.2",
      "provenance": [],
      "collapsed_sections": [],
      "include_colab_link": true
    },
    "kernelspec": {
      "name": "python3",
      "display_name": "Python 3"
    },
    "accelerator": "GPU"
  },
  "cells": [
    {
      "cell_type": "markdown",
      "metadata": {
        "id": "view-in-github",
        "colab_type": "text"
      },
      "source": [
        "<a href=\"https://colab.research.google.com/github/AllyHyeseongKim/2019_cau_oss_hackathon/blob/master/%ED%95%B4%EC%BB%A4%ED%86%A4%EC%9D%B4%EB%9D%BC%EC%93%B0%EA%B3%A0%EB%8C%80%ED%9A%8C%EB%9D%BC%EC%9D%BD%EB%8A%94%ED%98%9C%EC%84%B1%EC%9D%B4%EC%9D%98%EC%BC%80%EB%9D%BC%EC%8A%A4%EB%A7%9B.ipynb\" target=\"_parent\"><img src=\"https://colab.research.google.com/assets/colab-badge.svg\" alt=\"Open In Colab\"/></a>"
      ]
    },
    {
      "cell_type": "markdown",
      "metadata": {
        "id": "1AosAX9DXOlc",
        "colab_type": "text"
      },
      "source": [
        "# **0. 해커톤 진행 주의사항**\n",
        "\n",
        "**1)  개발 관련 주의사항**\n",
        "*   [1. 초기 환경 설정]은 절대 수정하지 말 것\n",
        " *  단, 사용할 데이터셋에 따라 is_mnist만 수정\n",
        "*   모든 구현은 [2. 데이터 전처리]와 [3. 모델 생성]에서만 진행\n",
        " *  데이터 전처리 후 트레이닝, 데이터 셋은 x_train_after, x_test_after 변수명을 유지해주세요.\n",
        " *  데이터셋이 달라져도 같은 모델 구조를 유지하여야함.\n",
        "*   [4. 모델 저장]과 [5. 모델 로드 및 평가]에서 team_name 변수 변경 (예.`team_name = 'team01'`)\n",
        " *  트레이닝 중간에 checkpoint를 활용하여 모델을 저장한 경우에도 파일 이름 양식 통일 필수\n",
        " *  team_name을 제외한 다른 부분은 수정하지 말 것\n",
        "*   Colab 사용중 실수로 데이터 손실이 발생할 수도 있으니 중간 결과값을 github에 업로드 \n",
        " *    \"런타임->모든 런타임 재설정\"은 절대 누르지 말 것 (저장한 모델 데이터가 모두 삭제됨)\n",
        "*   효율적인 구현 및 테스팅을 위해 GPU 가속 기능 활성화\n",
        " *    \"런타임 -> 런타임 유형변경 -> 하드웨어 가속기 -> GPU 설정\"\n",
        "*   주석을 최대한 자세히 작성\n",
        "*   Keras API 관련하여 [Keras Documentation](https://keras.io/) 참조\n",
        "\n",
        "**2) 제출 관련 주의사항**\n",
        "*  제출물\n",
        " *  소스코드 (hackathon_teamXX.ipynb)\n",
        " *  모델 구조 파일 (model_structure_teamXX.json)\n",
        " *  모델 weight 파일 (model_weight_teamXX.h5)\n",
        " *  컴파일된 모델 파일 (model_entire_teamXX.h5)\n",
        "* 제출 기한: **오후 6시**\n",
        "* 제출 방법: [GitHub README](https://github.com/cauosshackathonta/2019_cau_oss_hackathon/) 참조\n",
        "\n",
        " \n",
        "**3) 평가 관련 주의사항**\n",
        "*  모델 성능 = 테스트 데이터 셋 분류 정확도\n",
        " *  model.evaluate(x_test, y_test)\n",
        "*  제출된 모델들의 테스트 데이터 셋 분류 정확도를 기준으로 수상작 결정\n",
        "*  수상 후보들에 대해서는 소스코드를 기반으로 모델 재검증 \n",
        " \n",
        "**4) 수상 실격 사유**\n",
        "*  유사한 소스코드 or 알고리즘이 적발될 경우\n",
        "*  소스코드와 제출된 모델이 상이한 경우\n",
        "*  두 개의 데이터셋에 대해 다른 모델 구조를 사용한 경우\n",
        "*  개발 관련 주의사항을 지키지 않은 경우\n",
        " *  예: [초기 환경 설정]을 수정한 경우\n",
        "*  데이터 셋을 변조한 경우\n",
        " *  예. 테스트 데이터 셋을 트레이닝 데이터 셋에 포함하여 모델 생성 \n",
        "*  주석이 소스코드와 맞지 않거나 미비할 경우\n",
        "\n",
        "\n",
        "\n",
        "\n"
      ]
    },
    {
      "cell_type": "markdown",
      "metadata": {
        "id": "67lwEXhUqys1",
        "colab_type": "text"
      },
      "source": [
        "# **1. 초기 환경 설정**\n",
        "\n"
      ]
    },
    {
      "cell_type": "code",
      "metadata": {
        "id": "Ms5PBBJ1qSC6",
        "colab_type": "code",
        "colab": {}
      },
      "source": [
        "from __future__ import absolute_import, division, print_function, unicode_literals, unicode_literals\n",
        "\n",
        "# tensorflow와 tf.keras 및 관련 라이브러리 임포트\n",
        "import tensorflow as tf\n",
        "from tensorflow import keras\n",
        "from keras.utils import np_utils\n",
        "\n",
        "import numpy as np\n",
        "\n",
        "is_mnist = False;\n",
        "\n",
        "# 데이터셋 로드\n",
        "# x_train, y_train: 트레이닝 데이터 및 레이블\n",
        "# x_test, y_test: 테스트 데이터 및 레이블\n",
        "if is_mnist:\n",
        "  data_type = 'mnist'\n",
        "  (x_train, y_train), (x_test, y_test) = keras.datasets.fashion_mnist.load_data() # fashion MNIST 데이터셋인 경우,\n",
        "else:\n",
        "  data_type = 'cifar10'\n",
        "  (x_train, y_train), (x_test, y_test) = keras.datasets.cifar10.load_data() # cifar10 데이터셋인 경우,\n",
        "\n",
        "\n",
        "# 분류를 위해 클래스 벡터를 바이너리 매트릭스로 변환\n",
        "y_train = np_utils.to_categorical(y_train)\n",
        "y_test = np_utils.to_categorical(y_test)\n",
        "\n",
        "# 총 클래스 개수\n",
        "num_classes = y_test.shape[1]\n",
        "\n",
        "# 인풋 데이터 타입\n",
        "input_shape = x_test.shape[1:]"
      ],
      "execution_count": 0,
      "outputs": []
    },
    {
      "cell_type": "markdown",
      "metadata": {
        "id": "p9c2KLDBIhNQ",
        "colab_type": "text"
      },
      "source": [
        "# **2. 데이터 전처리**\n"
      ]
    },
    {
      "cell_type": "code",
      "metadata": {
        "id": "zJNgjaHvIhSS",
        "colab_type": "code",
        "colab": {}
      },
      "source": [
        "# 데이터 전처리 (예: normalization)\n",
        "x_train_after = x_train / 255.0\n",
        "x_test_after = x_test / 255.0\n",
        "\n",
        "if is_mnist:\n",
        "  x_train_after = x_train_after.reshape(x_train_after.shape[0], 28, 28, 1)\n",
        "  x_test_after = x_test_after.reshape(x_test_after.shape[0], 28, 28, 1)\n",
        "  input_shape = x_test_after.shape[1:]"
      ],
      "execution_count": 0,
      "outputs": []
    },
    {
      "cell_type": "markdown",
      "metadata": {
        "id": "A-YjppJpXBO9",
        "colab_type": "text"
      },
      "source": [
        "# **3. 모델 생성**\n",
        "\n"
      ]
    },
    {
      "cell_type": "code",
      "metadata": {
        "id": "DZP4eRmRqgRp",
        "colab_type": "code",
        "outputId": "942c9758-1594-4cf7-ca98-6d67e5ff2603",
        "colab": {
          "base_uri": "https://localhost:8080/",
          "height": 1000
        }
      },
      "source": [
        "#혜성\n",
        "#from keras.preprocessing.image import ImageDataGenerator\n",
        "\n",
        "# 순차 모델 생성 (가장 기본구조)\n",
        "model = keras.Sequential()\n",
        "\n",
        "# Convolution layer: 3 x 3 x 32 필터로 특징 추출\n",
        "# 활성화 함수 = relu\n",
        "model.add(keras.layers.Conv2D(32, (3, 3), padding='same', activation='relu', input_shape=input_shape))\n",
        "model.add(keras.layers.Conv2D(32, (3, 3), padding='same', activation='relu'))\n",
        "\n",
        "# MaxPooling layer: 출력 크기를 입력 크기의 반으로\n",
        "model.add(keras.layers.MaxPooling2D(pool_size=(2, 2)))\n",
        "\n",
        "model.add(keras.layers.Dropout(0.25))\n",
        "\n",
        "# Convolution layer: 3 x 3 x 64 필터로 특징 추출\n",
        "# 활성화 함수 = relu\n",
        "model.add(keras.layers.Conv2D(64, (3, 3), padding='same', activation='relu'))\n",
        "model.add(keras.layers.Conv2D(64, (3, 3), padding='same', activation='relu'))\n",
        "\n",
        "# MaxPooling layer: 출력 크기를 입력 크기의 반으로\n",
        "model.add(keras.layers.MaxPooling2D(pool_size=(2, 2)))\n",
        "\n",
        "model.add(keras.layers.Dropout(0.25))\n",
        "\n",
        "# Flatten layer: 7 x 7 x 1 image를 3136개의 1D vector input으로 변환\n",
        "model.add(keras.layers.Flatten())\n",
        "\n",
        "# 1st hidden layer: fully-connected layer\n",
        "# (# of inputs = 3136, # of outputs = 256, actication fuction = relu)\n",
        "model.add(keras.layers.Dense(256, activation='relu'))\n",
        "\n",
        "model.add(keras.layers.Dropout(0.5))\n",
        "\n",
        "# 2nd hidden layer: fully-connected layer \n",
        "# (# of inputs = 256, # of outputs = 10, actication fuction = softmax)\n",
        "model.add(keras.layers.Dense(10, activation='softmax'))\n",
        "\n",
        "# learning rate scheduler 정의\n",
        "# 30 epoch마다 learning rate을 0.1배\n",
        "from tensorflow.keras.callbacks import ModelCheckpoint, LearningRateScheduler\n",
        "from tensorflow.keras import optimizers\n",
        "\n",
        "def lr_scheduler(epoch, lr):\n",
        "    decay_rate = 0.1\n",
        "    decay_step = 90\n",
        "    if epoch % decay_step == 0 and epoch:\n",
        "        return lr * decay_rate\n",
        "    return lr\n",
        "\n",
        "save_path = '/content/'\n",
        "team_name = 'team01'\n",
        "\n",
        "# 모델 컴파일\n",
        "# optimizer: 모델을 업데이트 하는 방식\n",
        "# loss: 모델의 정확도를 판단하는 방식\n",
        "# metrics: 트레이닝 및 테스팅 성능 모니터링을 위한 평가지표\n",
        "\n",
        "# optimizer를 Adam으로 설정\n",
        "adam = optimizers.Adam(lr=0.001, decay=1e-6)\n",
        "model_path = save_path + 'checkpoint' + data_type + '_' + team_name + '.h5'\n",
        "\n",
        "# callback함수로 Checkpoint 객체 설정\n",
        "cb_checkpoint = ModelCheckpoint(filepath=model_path, monitor='accuracy', verbose=1, save_best_only=True)\n",
        "\n",
        "# callback함수 리스트 정의\n",
        "callbacks=[\n",
        "    cb_checkpoint, \n",
        "    LearningRateScheduler(lr_scheduler, verbose=1)\n",
        "]\n",
        "\n",
        "# 모델 호츨 및 컴파일 \n",
        "model.compile(loss='categorical_crossentropy', optimizer=adam, metrics=['accuracy'])\n",
        "\n",
        "# 모델 트레이닝\n",
        "# batch_size: 전체 데이터셋 중 몇개씩 학습시킬 것인지\n",
        "# epoch: 학습에 전체 데이터셋이 총 몇번 이용될 것인지\n",
        "# shuffle: 학습전에 트레이닝 데이터셋을 랜덤하게 섞을 것인지\n",
        "# validation_data: 중간 성능 검증에 사용할 data set\n",
        "model.fit(x_train_after, y_train, batch_size = 128, epochs = 100, shuffle=True, validation_data=[x_test_after, y_test], callbacks=callbacks)"
      ],
      "execution_count": 26,
      "outputs": [
        {
          "output_type": "stream",
          "text": [
            "Train on 50000 samples, validate on 10000 samples\n",
            "\n",
            "Epoch 00001: LearningRateScheduler reducing learning rate to 0.0010000000474974513.\n",
            "Epoch 1/100\n",
            "49920/50000 [============================>.] - ETA: 0s - loss: 1.6837 - acc: 0.3838"
          ],
          "name": "stdout"
        },
        {
          "output_type": "stream",
          "text": [
            "W0824 06:16:44.923343 140464170198912 callbacks.py:989] Can save best model only with accuracy available, skipping.\n"
          ],
          "name": "stderr"
        },
        {
          "output_type": "stream",
          "text": [
            "50000/50000 [==============================] - 6s 127us/sample - loss: 1.6830 - acc: 0.3842 - val_loss: 1.3029 - val_acc: 0.5327\n",
            "\n",
            "Epoch 00002: LearningRateScheduler reducing learning rate to 0.0010000000474974513.\n",
            "Epoch 2/100\n",
            "49792/50000 [============================>.] - ETA: 0s - loss: 1.2709 - acc: 0.5441"
          ],
          "name": "stdout"
        },
        {
          "output_type": "stream",
          "text": [
            "W0824 06:16:50.740640 140464170198912 callbacks.py:989] Can save best model only with accuracy available, skipping.\n"
          ],
          "name": "stderr"
        },
        {
          "output_type": "stream",
          "text": [
            "50000/50000 [==============================] - 6s 116us/sample - loss: 1.2705 - acc: 0.5442 - val_loss: 1.0482 - val_acc: 0.6242\n",
            "\n",
            "Epoch 00003: LearningRateScheduler reducing learning rate to 0.0010000000474974513.\n",
            "Epoch 3/100\n",
            "49792/50000 [============================>.] - ETA: 0s - loss: 1.0911 - acc: 0.6139"
          ],
          "name": "stdout"
        },
        {
          "output_type": "stream",
          "text": [
            "W0824 06:16:56.564108 140464170198912 callbacks.py:989] Can save best model only with accuracy available, skipping.\n"
          ],
          "name": "stderr"
        },
        {
          "output_type": "stream",
          "text": [
            "50000/50000 [==============================] - 6s 116us/sample - loss: 1.0913 - acc: 0.6138 - val_loss: 1.0204 - val_acc: 0.6476\n",
            "\n",
            "Epoch 00004: LearningRateScheduler reducing learning rate to 0.0010000000474974513.\n",
            "Epoch 4/100\n",
            "49792/50000 [============================>.] - ETA: 0s - loss: 0.9757 - acc: 0.6551"
          ],
          "name": "stdout"
        },
        {
          "output_type": "stream",
          "text": [
            "W0824 06:17:02.385487 140464170198912 callbacks.py:989] Can save best model only with accuracy available, skipping.\n"
          ],
          "name": "stderr"
        },
        {
          "output_type": "stream",
          "text": [
            "50000/50000 [==============================] - 6s 116us/sample - loss: 0.9754 - acc: 0.6553 - val_loss: 0.8489 - val_acc: 0.7017\n",
            "\n",
            "Epoch 00005: LearningRateScheduler reducing learning rate to 0.0010000000474974513.\n",
            "Epoch 5/100\n",
            "49792/50000 [============================>.] - ETA: 0s - loss: 0.8899 - acc: 0.6875"
          ],
          "name": "stdout"
        },
        {
          "output_type": "stream",
          "text": [
            "W0824 06:17:08.208240 140464170198912 callbacks.py:989] Can save best model only with accuracy available, skipping.\n"
          ],
          "name": "stderr"
        },
        {
          "output_type": "stream",
          "text": [
            "50000/50000 [==============================] - 6s 116us/sample - loss: 0.8896 - acc: 0.6876 - val_loss: 0.7852 - val_acc: 0.7244\n",
            "\n",
            "Epoch 00006: LearningRateScheduler reducing learning rate to 0.0010000000474974513.\n",
            "Epoch 6/100\n",
            "49792/50000 [============================>.] - ETA: 0s - loss: 0.8298 - acc: 0.7110"
          ],
          "name": "stdout"
        },
        {
          "output_type": "stream",
          "text": [
            "W0824 06:17:13.990286 140464170198912 callbacks.py:989] Can save best model only with accuracy available, skipping.\n"
          ],
          "name": "stderr"
        },
        {
          "output_type": "stream",
          "text": [
            "50000/50000 [==============================] - 6s 116us/sample - loss: 0.8299 - acc: 0.7110 - val_loss: 0.7507 - val_acc: 0.7393\n",
            "\n",
            "Epoch 00007: LearningRateScheduler reducing learning rate to 0.0010000000474974513.\n",
            "Epoch 7/100\n",
            "49792/50000 [============================>.] - ETA: 0s - loss: 0.7805 - acc: 0.7265"
          ],
          "name": "stdout"
        },
        {
          "output_type": "stream",
          "text": [
            "W0824 06:17:19.772097 140464170198912 callbacks.py:989] Can save best model only with accuracy available, skipping.\n"
          ],
          "name": "stderr"
        },
        {
          "output_type": "stream",
          "text": [
            "50000/50000 [==============================] - 6s 116us/sample - loss: 0.7806 - acc: 0.7264 - val_loss: 0.7514 - val_acc: 0.7420\n",
            "\n",
            "Epoch 00008: LearningRateScheduler reducing learning rate to 0.0010000000474974513.\n",
            "Epoch 8/100\n",
            "49792/50000 [============================>.] - ETA: 0s - loss: 0.7475 - acc: 0.7388"
          ],
          "name": "stdout"
        },
        {
          "output_type": "stream",
          "text": [
            "W0824 06:17:25.527811 140464170198912 callbacks.py:989] Can save best model only with accuracy available, skipping.\n"
          ],
          "name": "stderr"
        },
        {
          "output_type": "stream",
          "text": [
            "50000/50000 [==============================] - 6s 115us/sample - loss: 0.7472 - acc: 0.7389 - val_loss: 0.7274 - val_acc: 0.7466\n",
            "\n",
            "Epoch 00009: LearningRateScheduler reducing learning rate to 0.0010000000474974513.\n",
            "Epoch 9/100\n",
            "49792/50000 [============================>.] - ETA: 0s - loss: 0.6968 - acc: 0.7573"
          ],
          "name": "stdout"
        },
        {
          "output_type": "stream",
          "text": [
            "W0824 06:17:31.289106 140464170198912 callbacks.py:989] Can save best model only with accuracy available, skipping.\n"
          ],
          "name": "stderr"
        },
        {
          "output_type": "stream",
          "text": [
            "50000/50000 [==============================] - 6s 115us/sample - loss: 0.6964 - acc: 0.7575 - val_loss: 0.6732 - val_acc: 0.7695\n",
            "\n",
            "Epoch 00010: LearningRateScheduler reducing learning rate to 0.0010000000474974513.\n",
            "Epoch 10/100\n",
            "49792/50000 [============================>.] - ETA: 0s - loss: 0.6689 - acc: 0.7624"
          ],
          "name": "stdout"
        },
        {
          "output_type": "stream",
          "text": [
            "W0824 06:17:37.065874 140464170198912 callbacks.py:989] Can save best model only with accuracy available, skipping.\n"
          ],
          "name": "stderr"
        },
        {
          "output_type": "stream",
          "text": [
            "50000/50000 [==============================] - 6s 115us/sample - loss: 0.6689 - acc: 0.7624 - val_loss: 0.6706 - val_acc: 0.7718\n",
            "\n",
            "Epoch 00011: LearningRateScheduler reducing learning rate to 0.0010000000474974513.\n",
            "Epoch 11/100\n",
            "49792/50000 [============================>.] - ETA: 0s - loss: 0.6412 - acc: 0.7742"
          ],
          "name": "stdout"
        },
        {
          "output_type": "stream",
          "text": [
            "W0824 06:17:42.803740 140464170198912 callbacks.py:989] Can save best model only with accuracy available, skipping.\n"
          ],
          "name": "stderr"
        },
        {
          "output_type": "stream",
          "text": [
            "50000/50000 [==============================] - 6s 115us/sample - loss: 0.6409 - acc: 0.7744 - val_loss: 0.6527 - val_acc: 0.7783\n",
            "\n",
            "Epoch 00012: LearningRateScheduler reducing learning rate to 0.0010000000474974513.\n",
            "Epoch 12/100\n",
            "49792/50000 [============================>.] - ETA: 0s - loss: 0.6036 - acc: 0.7875"
          ],
          "name": "stdout"
        },
        {
          "output_type": "stream",
          "text": [
            "W0824 06:17:48.586469 140464170198912 callbacks.py:989] Can save best model only with accuracy available, skipping.\n"
          ],
          "name": "stderr"
        },
        {
          "output_type": "stream",
          "text": [
            "50000/50000 [==============================] - 6s 116us/sample - loss: 0.6040 - acc: 0.7872 - val_loss: 0.6438 - val_acc: 0.7792\n",
            "\n",
            "Epoch 00013: LearningRateScheduler reducing learning rate to 0.0010000000474974513.\n",
            "Epoch 13/100\n",
            "49792/50000 [============================>.] - ETA: 0s - loss: 0.5884 - acc: 0.7920"
          ],
          "name": "stdout"
        },
        {
          "output_type": "stream",
          "text": [
            "W0824 06:17:54.372807 140464170198912 callbacks.py:989] Can save best model only with accuracy available, skipping.\n"
          ],
          "name": "stderr"
        },
        {
          "output_type": "stream",
          "text": [
            "50000/50000 [==============================] - 6s 116us/sample - loss: 0.5889 - acc: 0.7917 - val_loss: 0.6337 - val_acc: 0.7823\n",
            "\n",
            "Epoch 00014: LearningRateScheduler reducing learning rate to 0.0010000000474974513.\n",
            "Epoch 14/100\n",
            "49792/50000 [============================>.] - ETA: 0s - loss: 0.5659 - acc: 0.7987"
          ],
          "name": "stdout"
        },
        {
          "output_type": "stream",
          "text": [
            "W0824 06:18:00.127978 140464170198912 callbacks.py:989] Can save best model only with accuracy available, skipping.\n"
          ],
          "name": "stderr"
        },
        {
          "output_type": "stream",
          "text": [
            "50000/50000 [==============================] - 6s 115us/sample - loss: 0.5665 - acc: 0.7984 - val_loss: 0.6260 - val_acc: 0.7854\n",
            "\n",
            "Epoch 00015: LearningRateScheduler reducing learning rate to 0.0010000000474974513.\n",
            "Epoch 15/100\n",
            "49792/50000 [============================>.] - ETA: 0s - loss: 0.5509 - acc: 0.8066"
          ],
          "name": "stdout"
        },
        {
          "output_type": "stream",
          "text": [
            "W0824 06:18:05.896585 140464170198912 callbacks.py:989] Can save best model only with accuracy available, skipping.\n"
          ],
          "name": "stderr"
        },
        {
          "output_type": "stream",
          "text": [
            "50000/50000 [==============================] - 6s 115us/sample - loss: 0.5509 - acc: 0.8067 - val_loss: 0.6355 - val_acc: 0.7826\n",
            "\n",
            "Epoch 00016: LearningRateScheduler reducing learning rate to 0.0010000000474974513.\n",
            "Epoch 16/100\n",
            "49792/50000 [============================>.] - ETA: 0s - loss: 0.5247 - acc: 0.8152"
          ],
          "name": "stdout"
        },
        {
          "output_type": "stream",
          "text": [
            "W0824 06:18:11.643172 140464170198912 callbacks.py:989] Can save best model only with accuracy available, skipping.\n"
          ],
          "name": "stderr"
        },
        {
          "output_type": "stream",
          "text": [
            "50000/50000 [==============================] - 6s 115us/sample - loss: 0.5248 - acc: 0.8151 - val_loss: 0.6476 - val_acc: 0.7829\n",
            "\n",
            "Epoch 00017: LearningRateScheduler reducing learning rate to 0.0010000000474974513.\n",
            "Epoch 17/100\n",
            "49792/50000 [============================>.] - ETA: 0s - loss: 0.5106 - acc: 0.8189"
          ],
          "name": "stdout"
        },
        {
          "output_type": "stream",
          "text": [
            "W0824 06:18:17.387196 140464170198912 callbacks.py:989] Can save best model only with accuracy available, skipping.\n"
          ],
          "name": "stderr"
        },
        {
          "output_type": "stream",
          "text": [
            "50000/50000 [==============================] - 6s 115us/sample - loss: 0.5109 - acc: 0.8189 - val_loss: 0.6920 - val_acc: 0.7706\n",
            "\n",
            "Epoch 00018: LearningRateScheduler reducing learning rate to 0.0010000000474974513.\n",
            "Epoch 18/100\n",
            "49792/50000 [============================>.] - ETA: 0s - loss: 0.4944 - acc: 0.8227"
          ],
          "name": "stdout"
        },
        {
          "output_type": "stream",
          "text": [
            "W0824 06:18:23.130852 140464170198912 callbacks.py:989] Can save best model only with accuracy available, skipping.\n"
          ],
          "name": "stderr"
        },
        {
          "output_type": "stream",
          "text": [
            "50000/50000 [==============================] - 6s 115us/sample - loss: 0.4942 - acc: 0.8229 - val_loss: 0.6337 - val_acc: 0.7857\n",
            "\n",
            "Epoch 00019: LearningRateScheduler reducing learning rate to 0.0010000000474974513.\n",
            "Epoch 19/100\n",
            "49792/50000 [============================>.] - ETA: 0s - loss: 0.4816 - acc: 0.8277"
          ],
          "name": "stdout"
        },
        {
          "output_type": "stream",
          "text": [
            "W0824 06:18:28.869797 140464170198912 callbacks.py:989] Can save best model only with accuracy available, skipping.\n"
          ],
          "name": "stderr"
        },
        {
          "output_type": "stream",
          "text": [
            "50000/50000 [==============================] - 6s 115us/sample - loss: 0.4821 - acc: 0.8276 - val_loss: 0.6373 - val_acc: 0.7905\n",
            "\n",
            "Epoch 00020: LearningRateScheduler reducing learning rate to 0.0010000000474974513.\n",
            "Epoch 20/100\n",
            "49792/50000 [============================>.] - ETA: 0s - loss: 0.4623 - acc: 0.8341"
          ],
          "name": "stdout"
        },
        {
          "output_type": "stream",
          "text": [
            "W0824 06:18:34.615993 140464170198912 callbacks.py:989] Can save best model only with accuracy available, skipping.\n"
          ],
          "name": "stderr"
        },
        {
          "output_type": "stream",
          "text": [
            "50000/50000 [==============================] - 6s 115us/sample - loss: 0.4627 - acc: 0.8340 - val_loss: 0.6075 - val_acc: 0.7973\n",
            "\n",
            "Epoch 00021: LearningRateScheduler reducing learning rate to 0.0010000000474974513.\n",
            "Epoch 21/100\n",
            "49664/50000 [============================>.] - ETA: 0s - loss: 0.4556 - acc: 0.8372"
          ],
          "name": "stdout"
        },
        {
          "output_type": "stream",
          "text": [
            "W0824 06:18:40.412144 140464170198912 callbacks.py:989] Can save best model only with accuracy available, skipping.\n"
          ],
          "name": "stderr"
        },
        {
          "output_type": "stream",
          "text": [
            "50000/50000 [==============================] - 6s 116us/sample - loss: 0.4559 - acc: 0.8371 - val_loss: 0.6344 - val_acc: 0.7902\n",
            "\n",
            "Epoch 00022: LearningRateScheduler reducing learning rate to 0.0010000000474974513.\n",
            "Epoch 22/100\n",
            "49792/50000 [============================>.] - ETA: 0s - loss: 0.4444 - acc: 0.8415"
          ],
          "name": "stdout"
        },
        {
          "output_type": "stream",
          "text": [
            "W0824 06:18:46.123278 140464170198912 callbacks.py:989] Can save best model only with accuracy available, skipping.\n"
          ],
          "name": "stderr"
        },
        {
          "output_type": "stream",
          "text": [
            "50000/50000 [==============================] - 6s 114us/sample - loss: 0.4446 - acc: 0.8414 - val_loss: 0.6244 - val_acc: 0.7979\n",
            "\n",
            "Epoch 00023: LearningRateScheduler reducing learning rate to 0.0010000000474974513.\n",
            "Epoch 23/100\n",
            "49792/50000 [============================>.] - ETA: 0s - loss: 0.4335 - acc: 0.8452"
          ],
          "name": "stdout"
        },
        {
          "output_type": "stream",
          "text": [
            "W0824 06:18:51.878399 140464170198912 callbacks.py:989] Can save best model only with accuracy available, skipping.\n"
          ],
          "name": "stderr"
        },
        {
          "output_type": "stream",
          "text": [
            "50000/50000 [==============================] - 6s 115us/sample - loss: 0.4337 - acc: 0.8452 - val_loss: 0.6420 - val_acc: 0.7904\n",
            "\n",
            "Epoch 00024: LearningRateScheduler reducing learning rate to 0.0010000000474974513.\n",
            "Epoch 24/100\n",
            "49792/50000 [============================>.] - ETA: 0s - loss: 0.4247 - acc: 0.8455"
          ],
          "name": "stdout"
        },
        {
          "output_type": "stream",
          "text": [
            "W0824 06:18:57.612787 140464170198912 callbacks.py:989] Can save best model only with accuracy available, skipping.\n"
          ],
          "name": "stderr"
        },
        {
          "output_type": "stream",
          "text": [
            "50000/50000 [==============================] - 6s 115us/sample - loss: 0.4249 - acc: 0.8455 - val_loss: 0.6201 - val_acc: 0.7964\n",
            "\n",
            "Epoch 00025: LearningRateScheduler reducing learning rate to 0.0010000000474974513.\n",
            "Epoch 25/100\n",
            "49792/50000 [============================>.] - ETA: 0s - loss: 0.4162 - acc: 0.8498"
          ],
          "name": "stdout"
        },
        {
          "output_type": "stream",
          "text": [
            "W0824 06:19:03.350296 140464170198912 callbacks.py:989] Can save best model only with accuracy available, skipping.\n"
          ],
          "name": "stderr"
        },
        {
          "output_type": "stream",
          "text": [
            "50000/50000 [==============================] - 6s 115us/sample - loss: 0.4165 - acc: 0.8498 - val_loss: 0.6267 - val_acc: 0.8000\n",
            "\n",
            "Epoch 00026: LearningRateScheduler reducing learning rate to 0.0010000000474974513.\n",
            "Epoch 26/100\n",
            "49792/50000 [============================>.] - ETA: 0s - loss: 0.4027 - acc: 0.8537"
          ],
          "name": "stdout"
        },
        {
          "output_type": "stream",
          "text": [
            "W0824 06:19:09.143546 140464170198912 callbacks.py:989] Can save best model only with accuracy available, skipping.\n"
          ],
          "name": "stderr"
        },
        {
          "output_type": "stream",
          "text": [
            "50000/50000 [==============================] - 6s 116us/sample - loss: 0.4025 - acc: 0.8538 - val_loss: 0.6299 - val_acc: 0.8029\n",
            "\n",
            "Epoch 00027: LearningRateScheduler reducing learning rate to 0.0010000000474974513.\n",
            "Epoch 27/100\n",
            "49792/50000 [============================>.] - ETA: 0s - loss: 0.4054 - acc: 0.8548"
          ],
          "name": "stdout"
        },
        {
          "output_type": "stream",
          "text": [
            "W0824 06:19:14.887330 140464170198912 callbacks.py:989] Can save best model only with accuracy available, skipping.\n"
          ],
          "name": "stderr"
        },
        {
          "output_type": "stream",
          "text": [
            "50000/50000 [==============================] - 6s 115us/sample - loss: 0.4057 - acc: 0.8547 - val_loss: 0.6257 - val_acc: 0.7930\n",
            "\n",
            "Epoch 00028: LearningRateScheduler reducing learning rate to 0.0010000000474974513.\n",
            "Epoch 28/100\n",
            "49792/50000 [============================>.] - ETA: 0s - loss: 0.3850 - acc: 0.8607"
          ],
          "name": "stdout"
        },
        {
          "output_type": "stream",
          "text": [
            "W0824 06:19:20.604510 140464170198912 callbacks.py:989] Can save best model only with accuracy available, skipping.\n"
          ],
          "name": "stderr"
        },
        {
          "output_type": "stream",
          "text": [
            "50000/50000 [==============================] - 6s 114us/sample - loss: 0.3851 - acc: 0.8607 - val_loss: 0.6547 - val_acc: 0.7990\n",
            "\n",
            "Epoch 00029: LearningRateScheduler reducing learning rate to 0.0010000000474974513.\n",
            "Epoch 29/100\n",
            "49792/50000 [============================>.] - ETA: 0s - loss: 0.3850 - acc: 0.8613"
          ],
          "name": "stdout"
        },
        {
          "output_type": "stream",
          "text": [
            "W0824 06:19:26.316441 140464170198912 callbacks.py:989] Can save best model only with accuracy available, skipping.\n"
          ],
          "name": "stderr"
        },
        {
          "output_type": "stream",
          "text": [
            "50000/50000 [==============================] - 6s 114us/sample - loss: 0.3850 - acc: 0.8613 - val_loss: 0.6333 - val_acc: 0.7981\n",
            "\n",
            "Epoch 00030: LearningRateScheduler reducing learning rate to 0.0010000000474974513.\n",
            "Epoch 30/100\n",
            "49792/50000 [============================>.] - ETA: 0s - loss: 0.3824 - acc: 0.8624"
          ],
          "name": "stdout"
        },
        {
          "output_type": "stream",
          "text": [
            "W0824 06:19:32.036155 140464170198912 callbacks.py:989] Can save best model only with accuracy available, skipping.\n"
          ],
          "name": "stderr"
        },
        {
          "output_type": "stream",
          "text": [
            "50000/50000 [==============================] - 6s 114us/sample - loss: 0.3819 - acc: 0.8626 - val_loss: 0.6668 - val_acc: 0.7959\n",
            "\n",
            "Epoch 00031: LearningRateScheduler reducing learning rate to 0.0010000000474974513.\n",
            "Epoch 31/100\n",
            "49792/50000 [============================>.] - ETA: 0s - loss: 0.3731 - acc: 0.8636"
          ],
          "name": "stdout"
        },
        {
          "output_type": "stream",
          "text": [
            "W0824 06:19:37.773176 140464170198912 callbacks.py:989] Can save best model only with accuracy available, skipping.\n"
          ],
          "name": "stderr"
        },
        {
          "output_type": "stream",
          "text": [
            "50000/50000 [==============================] - 6s 115us/sample - loss: 0.3733 - acc: 0.8636 - val_loss: 0.6485 - val_acc: 0.8009\n",
            "\n",
            "Epoch 00032: LearningRateScheduler reducing learning rate to 0.0010000000474974513.\n",
            "Epoch 32/100\n",
            "49664/50000 [============================>.] - ETA: 0s - loss: 0.3605 - acc: 0.8719"
          ],
          "name": "stdout"
        },
        {
          "output_type": "stream",
          "text": [
            "W0824 06:19:43.478465 140464170198912 callbacks.py:989] Can save best model only with accuracy available, skipping.\n"
          ],
          "name": "stderr"
        },
        {
          "output_type": "stream",
          "text": [
            "50000/50000 [==============================] - 6s 114us/sample - loss: 0.3600 - acc: 0.8721 - val_loss: 0.6626 - val_acc: 0.7995\n",
            "\n",
            "Epoch 00033: LearningRateScheduler reducing learning rate to 0.0010000000474974513.\n",
            "Epoch 33/100\n",
            "49792/50000 [============================>.] - ETA: 0s - loss: 0.3605 - acc: 0.8697"
          ],
          "name": "stdout"
        },
        {
          "output_type": "stream",
          "text": [
            "W0824 06:19:49.217437 140464170198912 callbacks.py:989] Can save best model only with accuracy available, skipping.\n"
          ],
          "name": "stderr"
        },
        {
          "output_type": "stream",
          "text": [
            "50000/50000 [==============================] - 6s 115us/sample - loss: 0.3601 - acc: 0.8698 - val_loss: 0.6883 - val_acc: 0.7886\n",
            "\n",
            "Epoch 00034: LearningRateScheduler reducing learning rate to 0.0010000000474974513.\n",
            "Epoch 34/100\n",
            "49664/50000 [============================>.] - ETA: 0s - loss: 0.3518 - acc: 0.8733"
          ],
          "name": "stdout"
        },
        {
          "output_type": "stream",
          "text": [
            "W0824 06:19:55.016983 140464170198912 callbacks.py:989] Can save best model only with accuracy available, skipping.\n"
          ],
          "name": "stderr"
        },
        {
          "output_type": "stream",
          "text": [
            "50000/50000 [==============================] - 6s 116us/sample - loss: 0.3529 - acc: 0.8729 - val_loss: 0.6571 - val_acc: 0.8003\n",
            "\n",
            "Epoch 00035: LearningRateScheduler reducing learning rate to 0.0010000000474974513.\n",
            "Epoch 35/100\n",
            "49792/50000 [============================>.] - ETA: 0s - loss: 0.3560 - acc: 0.8705"
          ],
          "name": "stdout"
        },
        {
          "output_type": "stream",
          "text": [
            "W0824 06:20:00.837892 140464170198912 callbacks.py:989] Can save best model only with accuracy available, skipping.\n"
          ],
          "name": "stderr"
        },
        {
          "output_type": "stream",
          "text": [
            "50000/50000 [==============================] - 6s 116us/sample - loss: 0.3563 - acc: 0.8703 - val_loss: 0.6522 - val_acc: 0.7997\n",
            "\n",
            "Epoch 00036: LearningRateScheduler reducing learning rate to 0.0010000000474974513.\n",
            "Epoch 36/100\n",
            "49792/50000 [============================>.] - ETA: 0s - loss: 0.3399 - acc: 0.8799"
          ],
          "name": "stdout"
        },
        {
          "output_type": "stream",
          "text": [
            "W0824 06:20:06.595740 140464170198912 callbacks.py:989] Can save best model only with accuracy available, skipping.\n"
          ],
          "name": "stderr"
        },
        {
          "output_type": "stream",
          "text": [
            "50000/50000 [==============================] - 6s 115us/sample - loss: 0.3402 - acc: 0.8798 - val_loss: 0.6663 - val_acc: 0.8033\n",
            "\n",
            "Epoch 00037: LearningRateScheduler reducing learning rate to 0.0010000000474974513.\n",
            "Epoch 37/100\n",
            "49792/50000 [============================>.] - ETA: 0s - loss: 0.3356 - acc: 0.8793"
          ],
          "name": "stdout"
        },
        {
          "output_type": "stream",
          "text": [
            "W0824 06:20:12.338933 140464170198912 callbacks.py:989] Can save best model only with accuracy available, skipping.\n"
          ],
          "name": "stderr"
        },
        {
          "output_type": "stream",
          "text": [
            "50000/50000 [==============================] - 6s 115us/sample - loss: 0.3366 - acc: 0.8790 - val_loss: 0.6460 - val_acc: 0.8030\n",
            "\n",
            "Epoch 00038: LearningRateScheduler reducing learning rate to 0.0010000000474974513.\n",
            "Epoch 38/100\n",
            "49792/50000 [============================>.] - ETA: 0s - loss: 0.3320 - acc: 0.8811"
          ],
          "name": "stdout"
        },
        {
          "output_type": "stream",
          "text": [
            "W0824 06:20:18.111153 140464170198912 callbacks.py:989] Can save best model only with accuracy available, skipping.\n"
          ],
          "name": "stderr"
        },
        {
          "output_type": "stream",
          "text": [
            "50000/50000 [==============================] - 6s 115us/sample - loss: 0.3327 - acc: 0.8810 - val_loss: 0.6556 - val_acc: 0.8011\n",
            "\n",
            "Epoch 00039: LearningRateScheduler reducing learning rate to 0.0010000000474974513.\n",
            "Epoch 39/100\n",
            "49792/50000 [============================>.] - ETA: 0s - loss: 0.3302 - acc: 0.8819"
          ],
          "name": "stdout"
        },
        {
          "output_type": "stream",
          "text": [
            "W0824 06:20:23.841134 140464170198912 callbacks.py:989] Can save best model only with accuracy available, skipping.\n"
          ],
          "name": "stderr"
        },
        {
          "output_type": "stream",
          "text": [
            "50000/50000 [==============================] - 6s 114us/sample - loss: 0.3300 - acc: 0.8819 - val_loss: 0.6858 - val_acc: 0.8007\n",
            "\n",
            "Epoch 00040: LearningRateScheduler reducing learning rate to 0.0010000000474974513.\n",
            "Epoch 40/100\n",
            "49792/50000 [============================>.] - ETA: 0s - loss: 0.3228 - acc: 0.8839"
          ],
          "name": "stdout"
        },
        {
          "output_type": "stream",
          "text": [
            "W0824 06:20:29.563676 140464170198912 callbacks.py:989] Can save best model only with accuracy available, skipping.\n"
          ],
          "name": "stderr"
        },
        {
          "output_type": "stream",
          "text": [
            "50000/50000 [==============================] - 6s 114us/sample - loss: 0.3230 - acc: 0.8838 - val_loss: 0.6734 - val_acc: 0.8029\n",
            "\n",
            "Epoch 00041: LearningRateScheduler reducing learning rate to 0.0010000000474974513.\n",
            "Epoch 41/100\n",
            "49792/50000 [============================>.] - ETA: 0s - loss: 0.3225 - acc: 0.8829"
          ],
          "name": "stdout"
        },
        {
          "output_type": "stream",
          "text": [
            "W0824 06:20:35.294098 140464170198912 callbacks.py:989] Can save best model only with accuracy available, skipping.\n"
          ],
          "name": "stderr"
        },
        {
          "output_type": "stream",
          "text": [
            "50000/50000 [==============================] - 6s 115us/sample - loss: 0.3226 - acc: 0.8828 - val_loss: 0.7108 - val_acc: 0.7920\n",
            "\n",
            "Epoch 00042: LearningRateScheduler reducing learning rate to 0.0010000000474974513.\n",
            "Epoch 42/100\n",
            "49792/50000 [============================>.] - ETA: 0s - loss: 0.3246 - acc: 0.8838"
          ],
          "name": "stdout"
        },
        {
          "output_type": "stream",
          "text": [
            "W0824 06:20:41.017556 140464170198912 callbacks.py:989] Can save best model only with accuracy available, skipping.\n"
          ],
          "name": "stderr"
        },
        {
          "output_type": "stream",
          "text": [
            "50000/50000 [==============================] - 6s 114us/sample - loss: 0.3248 - acc: 0.8837 - val_loss: 0.6495 - val_acc: 0.8075\n",
            "\n",
            "Epoch 00043: LearningRateScheduler reducing learning rate to 0.0010000000474974513.\n",
            "Epoch 43/100\n",
            "49792/50000 [============================>.] - ETA: 0s - loss: 0.3145 - acc: 0.8859"
          ],
          "name": "stdout"
        },
        {
          "output_type": "stream",
          "text": [
            "W0824 06:20:46.744203 140464170198912 callbacks.py:989] Can save best model only with accuracy available, skipping.\n"
          ],
          "name": "stderr"
        },
        {
          "output_type": "stream",
          "text": [
            "50000/50000 [==============================] - 6s 114us/sample - loss: 0.3150 - acc: 0.8859 - val_loss: 0.6641 - val_acc: 0.8022\n",
            "\n",
            "Epoch 00044: LearningRateScheduler reducing learning rate to 0.0010000000474974513.\n",
            "Epoch 44/100\n",
            "49792/50000 [============================>.] - ETA: 0s - loss: 0.3091 - acc: 0.8895"
          ],
          "name": "stdout"
        },
        {
          "output_type": "stream",
          "text": [
            "W0824 06:20:52.470043 140464170198912 callbacks.py:989] Can save best model only with accuracy available, skipping.\n"
          ],
          "name": "stderr"
        },
        {
          "output_type": "stream",
          "text": [
            "50000/50000 [==============================] - 6s 114us/sample - loss: 0.3088 - acc: 0.8896 - val_loss: 0.6780 - val_acc: 0.8022\n",
            "\n",
            "Epoch 00045: LearningRateScheduler reducing learning rate to 0.0010000000474974513.\n",
            "Epoch 45/100\n",
            "49792/50000 [============================>.] - ETA: 0s - loss: 0.3084 - acc: 0.8892"
          ],
          "name": "stdout"
        },
        {
          "output_type": "stream",
          "text": [
            "W0824 06:20:58.201786 140464170198912 callbacks.py:989] Can save best model only with accuracy available, skipping.\n"
          ],
          "name": "stderr"
        },
        {
          "output_type": "stream",
          "text": [
            "50000/50000 [==============================] - 6s 115us/sample - loss: 0.3086 - acc: 0.8891 - val_loss: 0.6688 - val_acc: 0.8079\n",
            "\n",
            "Epoch 00046: LearningRateScheduler reducing learning rate to 0.0010000000474974513.\n",
            "Epoch 46/100\n",
            "49792/50000 [============================>.] - ETA: 0s - loss: 0.3064 - acc: 0.8899"
          ],
          "name": "stdout"
        },
        {
          "output_type": "stream",
          "text": [
            "W0824 06:21:03.915793 140464170198912 callbacks.py:989] Can save best model only with accuracy available, skipping.\n"
          ],
          "name": "stderr"
        },
        {
          "output_type": "stream",
          "text": [
            "50000/50000 [==============================] - 6s 114us/sample - loss: 0.3063 - acc: 0.8899 - val_loss: 0.6529 - val_acc: 0.8037\n",
            "\n",
            "Epoch 00047: LearningRateScheduler reducing learning rate to 0.0010000000474974513.\n",
            "Epoch 47/100\n",
            "49792/50000 [============================>.] - ETA: 0s - loss: 0.3108 - acc: 0.8885"
          ],
          "name": "stdout"
        },
        {
          "output_type": "stream",
          "text": [
            "W0824 06:21:09.612065 140464170198912 callbacks.py:989] Can save best model only with accuracy available, skipping.\n"
          ],
          "name": "stderr"
        },
        {
          "output_type": "stream",
          "text": [
            "50000/50000 [==============================] - 6s 114us/sample - loss: 0.3106 - acc: 0.8886 - val_loss: 0.6511 - val_acc: 0.8075\n",
            "\n",
            "Epoch 00048: LearningRateScheduler reducing learning rate to 0.0010000000474974513.\n",
            "Epoch 48/100\n",
            "49792/50000 [============================>.] - ETA: 0s - loss: 0.2991 - acc: 0.8907"
          ],
          "name": "stdout"
        },
        {
          "output_type": "stream",
          "text": [
            "W0824 06:21:15.331658 140464170198912 callbacks.py:989] Can save best model only with accuracy available, skipping.\n"
          ],
          "name": "stderr"
        },
        {
          "output_type": "stream",
          "text": [
            "50000/50000 [==============================] - 6s 114us/sample - loss: 0.2991 - acc: 0.8906 - val_loss: 0.6674 - val_acc: 0.8077\n",
            "\n",
            "Epoch 00049: LearningRateScheduler reducing learning rate to 0.0010000000474974513.\n",
            "Epoch 49/100\n",
            "49792/50000 [============================>.] - ETA: 0s - loss: 0.2920 - acc: 0.8945"
          ],
          "name": "stdout"
        },
        {
          "output_type": "stream",
          "text": [
            "W0824 06:21:21.050890 140464170198912 callbacks.py:989] Can save best model only with accuracy available, skipping.\n"
          ],
          "name": "stderr"
        },
        {
          "output_type": "stream",
          "text": [
            "50000/50000 [==============================] - 6s 114us/sample - loss: 0.2922 - acc: 0.8944 - val_loss: 0.6624 - val_acc: 0.8084\n",
            "\n",
            "Epoch 00050: LearningRateScheduler reducing learning rate to 0.0010000000474974513.\n",
            "Epoch 50/100\n",
            "49792/50000 [============================>.] - ETA: 0s - loss: 0.2916 - acc: 0.8957"
          ],
          "name": "stdout"
        },
        {
          "output_type": "stream",
          "text": [
            "W0824 06:21:26.738445 140464170198912 callbacks.py:989] Can save best model only with accuracy available, skipping.\n"
          ],
          "name": "stderr"
        },
        {
          "output_type": "stream",
          "text": [
            "50000/50000 [==============================] - 6s 114us/sample - loss: 0.2916 - acc: 0.8957 - val_loss: 0.6940 - val_acc: 0.8019\n",
            "\n",
            "Epoch 00051: LearningRateScheduler reducing learning rate to 0.0010000000474974513.\n",
            "Epoch 51/100\n",
            "49792/50000 [============================>.] - ETA: 0s - loss: 0.2889 - acc: 0.8970"
          ],
          "name": "stdout"
        },
        {
          "output_type": "stream",
          "text": [
            "W0824 06:21:32.443672 140464170198912 callbacks.py:989] Can save best model only with accuracy available, skipping.\n"
          ],
          "name": "stderr"
        },
        {
          "output_type": "stream",
          "text": [
            "50000/50000 [==============================] - 6s 114us/sample - loss: 0.2891 - acc: 0.8970 - val_loss: 0.7208 - val_acc: 0.7992\n",
            "\n",
            "Epoch 00052: LearningRateScheduler reducing learning rate to 0.0010000000474974513.\n",
            "Epoch 52/100\n",
            "49792/50000 [============================>.] - ETA: 0s - loss: 0.2837 - acc: 0.8975"
          ],
          "name": "stdout"
        },
        {
          "output_type": "stream",
          "text": [
            "W0824 06:21:38.156799 140464170198912 callbacks.py:989] Can save best model only with accuracy available, skipping.\n"
          ],
          "name": "stderr"
        },
        {
          "output_type": "stream",
          "text": [
            "50000/50000 [==============================] - 6s 114us/sample - loss: 0.2837 - acc: 0.8975 - val_loss: 0.6954 - val_acc: 0.7996\n",
            "\n",
            "Epoch 00053: LearningRateScheduler reducing learning rate to 0.0010000000474974513.\n",
            "Epoch 53/100\n",
            "49792/50000 [============================>.] - ETA: 0s - loss: 0.2870 - acc: 0.8972"
          ],
          "name": "stdout"
        },
        {
          "output_type": "stream",
          "text": [
            "W0824 06:21:43.882668 140464170198912 callbacks.py:989] Can save best model only with accuracy available, skipping.\n"
          ],
          "name": "stderr"
        },
        {
          "output_type": "stream",
          "text": [
            "50000/50000 [==============================] - 6s 114us/sample - loss: 0.2870 - acc: 0.8972 - val_loss: 0.6851 - val_acc: 0.8040\n",
            "\n",
            "Epoch 00054: LearningRateScheduler reducing learning rate to 0.0010000000474974513.\n",
            "Epoch 54/100\n",
            "49792/50000 [============================>.] - ETA: 0s - loss: 0.2817 - acc: 0.8980"
          ],
          "name": "stdout"
        },
        {
          "output_type": "stream",
          "text": [
            "W0824 06:21:49.631892 140464170198912 callbacks.py:989] Can save best model only with accuracy available, skipping.\n"
          ],
          "name": "stderr"
        },
        {
          "output_type": "stream",
          "text": [
            "50000/50000 [==============================] - 6s 115us/sample - loss: 0.2813 - acc: 0.8981 - val_loss: 0.7110 - val_acc: 0.8032\n",
            "\n",
            "Epoch 00055: LearningRateScheduler reducing learning rate to 0.0010000000474974513.\n",
            "Epoch 55/100\n",
            "49792/50000 [============================>.] - ETA: 0s - loss: 0.2757 - acc: 0.9028"
          ],
          "name": "stdout"
        },
        {
          "output_type": "stream",
          "text": [
            "W0824 06:21:55.413828 140464170198912 callbacks.py:989] Can save best model only with accuracy available, skipping.\n"
          ],
          "name": "stderr"
        },
        {
          "output_type": "stream",
          "text": [
            "50000/50000 [==============================] - 6s 116us/sample - loss: 0.2760 - acc: 0.9026 - val_loss: 0.6937 - val_acc: 0.8049\n",
            "\n",
            "Epoch 00056: LearningRateScheduler reducing learning rate to 0.0010000000474974513.\n",
            "Epoch 56/100\n",
            "49664/50000 [============================>.] - ETA: 0s - loss: 0.2795 - acc: 0.9012"
          ],
          "name": "stdout"
        },
        {
          "output_type": "stream",
          "text": [
            "W0824 06:22:01.138900 140464170198912 callbacks.py:989] Can save best model only with accuracy available, skipping.\n"
          ],
          "name": "stderr"
        },
        {
          "output_type": "stream",
          "text": [
            "50000/50000 [==============================] - 6s 114us/sample - loss: 0.2797 - acc: 0.9012 - val_loss: 0.6747 - val_acc: 0.8082\n",
            "\n",
            "Epoch 00057: LearningRateScheduler reducing learning rate to 0.0010000000474974513.\n",
            "Epoch 57/100\n",
            "49792/50000 [============================>.] - ETA: 0s - loss: 0.2780 - acc: 0.9008"
          ],
          "name": "stdout"
        },
        {
          "output_type": "stream",
          "text": [
            "W0824 06:22:06.852678 140464170198912 callbacks.py:989] Can save best model only with accuracy available, skipping.\n"
          ],
          "name": "stderr"
        },
        {
          "output_type": "stream",
          "text": [
            "50000/50000 [==============================] - 6s 114us/sample - loss: 0.2779 - acc: 0.9008 - val_loss: 0.6815 - val_acc: 0.8097\n",
            "\n",
            "Epoch 00058: LearningRateScheduler reducing learning rate to 0.0010000000474974513.\n",
            "Epoch 58/100\n",
            "49792/50000 [============================>.] - ETA: 0s - loss: 0.2719 - acc: 0.9049"
          ],
          "name": "stdout"
        },
        {
          "output_type": "stream",
          "text": [
            "W0824 06:22:12.577317 140464170198912 callbacks.py:989] Can save best model only with accuracy available, skipping.\n"
          ],
          "name": "stderr"
        },
        {
          "output_type": "stream",
          "text": [
            "50000/50000 [==============================] - 6s 114us/sample - loss: 0.2723 - acc: 0.9046 - val_loss: 0.6946 - val_acc: 0.8060\n",
            "\n",
            "Epoch 00059: LearningRateScheduler reducing learning rate to 0.0010000000474974513.\n",
            "Epoch 59/100\n",
            "49792/50000 [============================>.] - ETA: 0s - loss: 0.2753 - acc: 0.9018"
          ],
          "name": "stdout"
        },
        {
          "output_type": "stream",
          "text": [
            "W0824 06:22:18.307931 140464170198912 callbacks.py:989] Can save best model only with accuracy available, skipping.\n"
          ],
          "name": "stderr"
        },
        {
          "output_type": "stream",
          "text": [
            "50000/50000 [==============================] - 6s 115us/sample - loss: 0.2753 - acc: 0.9019 - val_loss: 0.6989 - val_acc: 0.8047\n",
            "\n",
            "Epoch 00060: LearningRateScheduler reducing learning rate to 0.0010000000474974513.\n",
            "Epoch 60/100\n",
            "49792/50000 [============================>.] - ETA: 0s - loss: 0.2696 - acc: 0.9040"
          ],
          "name": "stdout"
        },
        {
          "output_type": "stream",
          "text": [
            "W0824 06:22:24.055741 140464170198912 callbacks.py:989] Can save best model only with accuracy available, skipping.\n"
          ],
          "name": "stderr"
        },
        {
          "output_type": "stream",
          "text": [
            "50000/50000 [==============================] - 6s 115us/sample - loss: 0.2696 - acc: 0.9039 - val_loss: 0.7043 - val_acc: 0.8051\n",
            "\n",
            "Epoch 00061: LearningRateScheduler reducing learning rate to 0.0010000000474974513.\n",
            "Epoch 61/100\n",
            "49792/50000 [============================>.] - ETA: 0s - loss: 0.2643 - acc: 0.9052"
          ],
          "name": "stdout"
        },
        {
          "output_type": "stream",
          "text": [
            "W0824 06:22:29.787948 140464170198912 callbacks.py:989] Can save best model only with accuracy available, skipping.\n"
          ],
          "name": "stderr"
        },
        {
          "output_type": "stream",
          "text": [
            "50000/50000 [==============================] - 6s 115us/sample - loss: 0.2643 - acc: 0.9052 - val_loss: 0.6933 - val_acc: 0.8079\n",
            "\n",
            "Epoch 00062: LearningRateScheduler reducing learning rate to 0.0010000000474974513.\n",
            "Epoch 62/100\n",
            "49792/50000 [============================>.] - ETA: 0s - loss: 0.2560 - acc: 0.9083"
          ],
          "name": "stdout"
        },
        {
          "output_type": "stream",
          "text": [
            "W0824 06:22:35.516988 140464170198912 callbacks.py:989] Can save best model only with accuracy available, skipping.\n"
          ],
          "name": "stderr"
        },
        {
          "output_type": "stream",
          "text": [
            "50000/50000 [==============================] - 6s 114us/sample - loss: 0.2560 - acc: 0.9083 - val_loss: 0.6850 - val_acc: 0.8073\n",
            "\n",
            "Epoch 00063: LearningRateScheduler reducing learning rate to 0.0010000000474974513.\n",
            "Epoch 63/100\n",
            "49792/50000 [============================>.] - ETA: 0s - loss: 0.2604 - acc: 0.9068"
          ],
          "name": "stdout"
        },
        {
          "output_type": "stream",
          "text": [
            "W0824 06:22:41.238458 140464170198912 callbacks.py:989] Can save best model only with accuracy available, skipping.\n"
          ],
          "name": "stderr"
        },
        {
          "output_type": "stream",
          "text": [
            "50000/50000 [==============================] - 6s 114us/sample - loss: 0.2606 - acc: 0.9068 - val_loss: 0.7017 - val_acc: 0.8078\n",
            "\n",
            "Epoch 00064: LearningRateScheduler reducing learning rate to 0.0010000000474974513.\n",
            "Epoch 64/100\n",
            "49792/50000 [============================>.] - ETA: 0s - loss: 0.2544 - acc: 0.9093"
          ],
          "name": "stdout"
        },
        {
          "output_type": "stream",
          "text": [
            "W0824 06:22:46.940821 140464170198912 callbacks.py:989] Can save best model only with accuracy available, skipping.\n"
          ],
          "name": "stderr"
        },
        {
          "output_type": "stream",
          "text": [
            "50000/50000 [==============================] - 6s 114us/sample - loss: 0.2543 - acc: 0.9092 - val_loss: 0.7139 - val_acc: 0.8090\n",
            "\n",
            "Epoch 00065: LearningRateScheduler reducing learning rate to 0.0010000000474974513.\n",
            "Epoch 65/100\n",
            "49792/50000 [============================>.] - ETA: 0s - loss: 0.2591 - acc: 0.9076"
          ],
          "name": "stdout"
        },
        {
          "output_type": "stream",
          "text": [
            "W0824 06:22:52.652223 140464170198912 callbacks.py:989] Can save best model only with accuracy available, skipping.\n"
          ],
          "name": "stderr"
        },
        {
          "output_type": "stream",
          "text": [
            "50000/50000 [==============================] - 6s 114us/sample - loss: 0.2591 - acc: 0.9076 - val_loss: 0.7486 - val_acc: 0.8073\n",
            "\n",
            "Epoch 00066: LearningRateScheduler reducing learning rate to 0.0010000000474974513.\n",
            "Epoch 66/100\n",
            "49792/50000 [============================>.] - ETA: 0s - loss: 0.2652 - acc: 0.9065"
          ],
          "name": "stdout"
        },
        {
          "output_type": "stream",
          "text": [
            "W0824 06:22:58.366340 140464170198912 callbacks.py:989] Can save best model only with accuracy available, skipping.\n"
          ],
          "name": "stderr"
        },
        {
          "output_type": "stream",
          "text": [
            "50000/50000 [==============================] - 6s 114us/sample - loss: 0.2651 - acc: 0.9065 - val_loss: 0.6798 - val_acc: 0.8072\n",
            "\n",
            "Epoch 00067: LearningRateScheduler reducing learning rate to 0.0010000000474974513.\n",
            "Epoch 67/100\n",
            "49792/50000 [============================>.] - ETA: 0s - loss: 0.2565 - acc: 0.9081"
          ],
          "name": "stdout"
        },
        {
          "output_type": "stream",
          "text": [
            "W0824 06:23:04.103518 140464170198912 callbacks.py:989] Can save best model only with accuracy available, skipping.\n"
          ],
          "name": "stderr"
        },
        {
          "output_type": "stream",
          "text": [
            "50000/50000 [==============================] - 6s 115us/sample - loss: 0.2566 - acc: 0.9081 - val_loss: 0.7001 - val_acc: 0.8089\n",
            "\n",
            "Epoch 00068: LearningRateScheduler reducing learning rate to 0.0010000000474974513.\n",
            "Epoch 68/100\n",
            "49792/50000 [============================>.] - ETA: 0s - loss: 0.2546 - acc: 0.9086"
          ],
          "name": "stdout"
        },
        {
          "output_type": "stream",
          "text": [
            "W0824 06:23:09.837183 140464170198912 callbacks.py:989] Can save best model only with accuracy available, skipping.\n"
          ],
          "name": "stderr"
        },
        {
          "output_type": "stream",
          "text": [
            "50000/50000 [==============================] - 6s 115us/sample - loss: 0.2544 - acc: 0.9086 - val_loss: 0.7065 - val_acc: 0.8058\n",
            "\n",
            "Epoch 00069: LearningRateScheduler reducing learning rate to 0.0010000000474974513.\n",
            "Epoch 69/100\n",
            "49792/50000 [============================>.] - ETA: 0s - loss: 0.2499 - acc: 0.9100"
          ],
          "name": "stdout"
        },
        {
          "output_type": "stream",
          "text": [
            "W0824 06:23:15.579886 140464170198912 callbacks.py:989] Can save best model only with accuracy available, skipping.\n"
          ],
          "name": "stderr"
        },
        {
          "output_type": "stream",
          "text": [
            "50000/50000 [==============================] - 6s 115us/sample - loss: 0.2497 - acc: 0.9100 - val_loss: 0.6982 - val_acc: 0.8128\n",
            "\n",
            "Epoch 00070: LearningRateScheduler reducing learning rate to 0.0010000000474974513.\n",
            "Epoch 70/100\n",
            "49792/50000 [============================>.] - ETA: 0s - loss: 0.2485 - acc: 0.9109"
          ],
          "name": "stdout"
        },
        {
          "output_type": "stream",
          "text": [
            "W0824 06:23:21.294928 140464170198912 callbacks.py:989] Can save best model only with accuracy available, skipping.\n"
          ],
          "name": "stderr"
        },
        {
          "output_type": "stream",
          "text": [
            "50000/50000 [==============================] - 6s 114us/sample - loss: 0.2485 - acc: 0.9109 - val_loss: 0.7207 - val_acc: 0.8039\n",
            "\n",
            "Epoch 00071: LearningRateScheduler reducing learning rate to 0.0010000000474974513.\n",
            "Epoch 71/100\n",
            "49792/50000 [============================>.] - ETA: 0s - loss: 0.2490 - acc: 0.9116"
          ],
          "name": "stdout"
        },
        {
          "output_type": "stream",
          "text": [
            "W0824 06:23:27.003227 140464170198912 callbacks.py:989] Can save best model only with accuracy available, skipping.\n"
          ],
          "name": "stderr"
        },
        {
          "output_type": "stream",
          "text": [
            "50000/50000 [==============================] - 6s 114us/sample - loss: 0.2489 - acc: 0.9116 - val_loss: 0.6534 - val_acc: 0.8137\n",
            "\n",
            "Epoch 00072: LearningRateScheduler reducing learning rate to 0.0010000000474974513.\n",
            "Epoch 72/100\n",
            "49792/50000 [============================>.] - ETA: 0s - loss: 0.2428 - acc: 0.9133"
          ],
          "name": "stdout"
        },
        {
          "output_type": "stream",
          "text": [
            "W0824 06:23:32.733203 140464170198912 callbacks.py:989] Can save best model only with accuracy available, skipping.\n"
          ],
          "name": "stderr"
        },
        {
          "output_type": "stream",
          "text": [
            "50000/50000 [==============================] - 6s 114us/sample - loss: 0.2425 - acc: 0.9134 - val_loss: 0.6847 - val_acc: 0.8109\n",
            "\n",
            "Epoch 00073: LearningRateScheduler reducing learning rate to 0.0010000000474974513.\n",
            "Epoch 73/100\n",
            "49792/50000 [============================>.] - ETA: 0s - loss: 0.2399 - acc: 0.9136"
          ],
          "name": "stdout"
        },
        {
          "output_type": "stream",
          "text": [
            "W0824 06:23:38.448736 140464170198912 callbacks.py:989] Can save best model only with accuracy available, skipping.\n"
          ],
          "name": "stderr"
        },
        {
          "output_type": "stream",
          "text": [
            "50000/50000 [==============================] - 6s 114us/sample - loss: 0.2396 - acc: 0.9137 - val_loss: 0.6932 - val_acc: 0.8097\n",
            "\n",
            "Epoch 00074: LearningRateScheduler reducing learning rate to 0.0010000000474974513.\n",
            "Epoch 74/100\n",
            "49792/50000 [============================>.] - ETA: 0s - loss: 0.2383 - acc: 0.9147"
          ],
          "name": "stdout"
        },
        {
          "output_type": "stream",
          "text": [
            "W0824 06:23:44.189577 140464170198912 callbacks.py:989] Can save best model only with accuracy available, skipping.\n"
          ],
          "name": "stderr"
        },
        {
          "output_type": "stream",
          "text": [
            "50000/50000 [==============================] - 6s 115us/sample - loss: 0.2388 - acc: 0.9146 - val_loss: 0.7145 - val_acc: 0.8106\n",
            "\n",
            "Epoch 00075: LearningRateScheduler reducing learning rate to 0.0010000000474974513.\n",
            "Epoch 75/100\n",
            "49792/50000 [============================>.] - ETA: 0s - loss: 0.2456 - acc: 0.9114"
          ],
          "name": "stdout"
        },
        {
          "output_type": "stream",
          "text": [
            "W0824 06:23:49.896285 140464170198912 callbacks.py:989] Can save best model only with accuracy available, skipping.\n"
          ],
          "name": "stderr"
        },
        {
          "output_type": "stream",
          "text": [
            "50000/50000 [==============================] - 6s 114us/sample - loss: 0.2457 - acc: 0.9114 - val_loss: 0.7038 - val_acc: 0.8089\n",
            "\n",
            "Epoch 00076: LearningRateScheduler reducing learning rate to 0.0010000000474974513.\n",
            "Epoch 76/100\n",
            "49792/50000 [============================>.] - ETA: 0s - loss: 0.2428 - acc: 0.9128"
          ],
          "name": "stdout"
        },
        {
          "output_type": "stream",
          "text": [
            "W0824 06:23:55.591166 140464170198912 callbacks.py:989] Can save best model only with accuracy available, skipping.\n"
          ],
          "name": "stderr"
        },
        {
          "output_type": "stream",
          "text": [
            "50000/50000 [==============================] - 6s 114us/sample - loss: 0.2426 - acc: 0.9128 - val_loss: 0.6971 - val_acc: 0.8115\n",
            "\n",
            "Epoch 00077: LearningRateScheduler reducing learning rate to 0.0010000000474974513.\n",
            "Epoch 77/100\n",
            "49792/50000 [============================>.] - ETA: 0s - loss: 0.2361 - acc: 0.9151"
          ],
          "name": "stdout"
        },
        {
          "output_type": "stream",
          "text": [
            "W0824 06:24:01.283209 140464170198912 callbacks.py:989] Can save best model only with accuracy available, skipping.\n"
          ],
          "name": "stderr"
        },
        {
          "output_type": "stream",
          "text": [
            "50000/50000 [==============================] - 6s 114us/sample - loss: 0.2359 - acc: 0.9151 - val_loss: 0.7303 - val_acc: 0.8131\n",
            "\n",
            "Epoch 00078: LearningRateScheduler reducing learning rate to 0.0010000000474974513.\n",
            "Epoch 78/100\n",
            "49792/50000 [============================>.] - ETA: 0s - loss: 0.2451 - acc: 0.9127"
          ],
          "name": "stdout"
        },
        {
          "output_type": "stream",
          "text": [
            "W0824 06:24:06.974909 140464170198912 callbacks.py:989] Can save best model only with accuracy available, skipping.\n"
          ],
          "name": "stderr"
        },
        {
          "output_type": "stream",
          "text": [
            "50000/50000 [==============================] - 6s 114us/sample - loss: 0.2450 - acc: 0.9128 - val_loss: 0.7024 - val_acc: 0.8109\n",
            "\n",
            "Epoch 00079: LearningRateScheduler reducing learning rate to 0.0010000000474974513.\n",
            "Epoch 79/100\n",
            "49792/50000 [============================>.] - ETA: 0s - loss: 0.2347 - acc: 0.9158"
          ],
          "name": "stdout"
        },
        {
          "output_type": "stream",
          "text": [
            "W0824 06:24:12.699354 140464170198912 callbacks.py:989] Can save best model only with accuracy available, skipping.\n"
          ],
          "name": "stderr"
        },
        {
          "output_type": "stream",
          "text": [
            "50000/50000 [==============================] - 6s 114us/sample - loss: 0.2346 - acc: 0.9158 - val_loss: 0.7341 - val_acc: 0.8024\n",
            "\n",
            "Epoch 00080: LearningRateScheduler reducing learning rate to 0.0010000000474974513.\n",
            "Epoch 80/100\n",
            "49792/50000 [============================>.] - ETA: 0s - loss: 0.2398 - acc: 0.9145"
          ],
          "name": "stdout"
        },
        {
          "output_type": "stream",
          "text": [
            "W0824 06:24:18.434882 140464170198912 callbacks.py:989] Can save best model only with accuracy available, skipping.\n"
          ],
          "name": "stderr"
        },
        {
          "output_type": "stream",
          "text": [
            "50000/50000 [==============================] - 6s 115us/sample - loss: 0.2400 - acc: 0.9146 - val_loss: 0.7022 - val_acc: 0.8096\n",
            "\n",
            "Epoch 00081: LearningRateScheduler reducing learning rate to 0.0010000000474974513.\n",
            "Epoch 81/100\n",
            "49664/50000 [============================>.] - ETA: 0s - loss: 0.2336 - acc: 0.9160"
          ],
          "name": "stdout"
        },
        {
          "output_type": "stream",
          "text": [
            "W0824 06:24:24.147484 140464170198912 callbacks.py:989] Can save best model only with accuracy available, skipping.\n"
          ],
          "name": "stderr"
        },
        {
          "output_type": "stream",
          "text": [
            "50000/50000 [==============================] - 6s 114us/sample - loss: 0.2334 - acc: 0.9161 - val_loss: 0.7319 - val_acc: 0.8087\n",
            "\n",
            "Epoch 00082: LearningRateScheduler reducing learning rate to 0.0010000000474974513.\n",
            "Epoch 82/100\n",
            "49792/50000 [============================>.] - ETA: 0s - loss: 0.2279 - acc: 0.9187"
          ],
          "name": "stdout"
        },
        {
          "output_type": "stream",
          "text": [
            "W0824 06:24:29.884876 140464170198912 callbacks.py:989] Can save best model only with accuracy available, skipping.\n"
          ],
          "name": "stderr"
        },
        {
          "output_type": "stream",
          "text": [
            "50000/50000 [==============================] - 6s 115us/sample - loss: 0.2282 - acc: 0.9186 - val_loss: 0.7092 - val_acc: 0.8127\n",
            "\n",
            "Epoch 00083: LearningRateScheduler reducing learning rate to 0.0010000000474974513.\n",
            "Epoch 83/100\n",
            "49792/50000 [============================>.] - ETA: 0s - loss: 0.2302 - acc: 0.9175"
          ],
          "name": "stdout"
        },
        {
          "output_type": "stream",
          "text": [
            "W0824 06:24:35.608835 140464170198912 callbacks.py:989] Can save best model only with accuracy available, skipping.\n"
          ],
          "name": "stderr"
        },
        {
          "output_type": "stream",
          "text": [
            "50000/50000 [==============================] - 6s 114us/sample - loss: 0.2300 - acc: 0.9176 - val_loss: 0.7040 - val_acc: 0.8116\n",
            "\n",
            "Epoch 00084: LearningRateScheduler reducing learning rate to 0.0010000000474974513.\n",
            "Epoch 84/100\n",
            "49792/50000 [============================>.] - ETA: 0s - loss: 0.2341 - acc: 0.9173"
          ],
          "name": "stdout"
        },
        {
          "output_type": "stream",
          "text": [
            "W0824 06:24:41.339423 140464170198912 callbacks.py:989] Can save best model only with accuracy available, skipping.\n"
          ],
          "name": "stderr"
        },
        {
          "output_type": "stream",
          "text": [
            "50000/50000 [==============================] - 6s 114us/sample - loss: 0.2340 - acc: 0.9173 - val_loss: 0.7123 - val_acc: 0.8123\n",
            "\n",
            "Epoch 00085: LearningRateScheduler reducing learning rate to 0.0010000000474974513.\n",
            "Epoch 85/100\n",
            "49536/50000 [============================>.] - ETA: 0s - loss: 0.2241 - acc: 0.9199"
          ],
          "name": "stdout"
        },
        {
          "output_type": "stream",
          "text": [
            "W0824 06:24:47.053896 140464170198912 callbacks.py:989] Can save best model only with accuracy available, skipping.\n"
          ],
          "name": "stderr"
        },
        {
          "output_type": "stream",
          "text": [
            "50000/50000 [==============================] - 6s 114us/sample - loss: 0.2244 - acc: 0.9198 - val_loss: 0.7006 - val_acc: 0.8126\n",
            "\n",
            "Epoch 00086: LearningRateScheduler reducing learning rate to 0.0010000000474974513.\n",
            "Epoch 86/100\n",
            "49792/50000 [============================>.] - ETA: 0s - loss: 0.2282 - acc: 0.9169"
          ],
          "name": "stdout"
        },
        {
          "output_type": "stream",
          "text": [
            "W0824 06:24:52.773111 140464170198912 callbacks.py:989] Can save best model only with accuracy available, skipping.\n"
          ],
          "name": "stderr"
        },
        {
          "output_type": "stream",
          "text": [
            "50000/50000 [==============================] - 6s 114us/sample - loss: 0.2285 - acc: 0.9168 - val_loss: 0.7477 - val_acc: 0.8057\n",
            "\n",
            "Epoch 00087: LearningRateScheduler reducing learning rate to 0.0010000000474974513.\n",
            "Epoch 87/100\n",
            "49792/50000 [============================>.] - ETA: 0s - loss: 0.2248 - acc: 0.9198"
          ],
          "name": "stdout"
        },
        {
          "output_type": "stream",
          "text": [
            "W0824 06:24:58.462733 140464170198912 callbacks.py:989] Can save best model only with accuracy available, skipping.\n"
          ],
          "name": "stderr"
        },
        {
          "output_type": "stream",
          "text": [
            "50000/50000 [==============================] - 6s 114us/sample - loss: 0.2247 - acc: 0.9199 - val_loss: 0.7455 - val_acc: 0.8058\n",
            "\n",
            "Epoch 00088: LearningRateScheduler reducing learning rate to 0.0010000000474974513.\n",
            "Epoch 88/100\n",
            "49792/50000 [============================>.] - ETA: 0s - loss: 0.2241 - acc: 0.9210"
          ],
          "name": "stdout"
        },
        {
          "output_type": "stream",
          "text": [
            "W0824 06:25:04.200104 140464170198912 callbacks.py:989] Can save best model only with accuracy available, skipping.\n"
          ],
          "name": "stderr"
        },
        {
          "output_type": "stream",
          "text": [
            "50000/50000 [==============================] - 6s 115us/sample - loss: 0.2239 - acc: 0.9210 - val_loss: 0.7088 - val_acc: 0.8094\n",
            "\n",
            "Epoch 00089: LearningRateScheduler reducing learning rate to 0.0010000000474974513.\n",
            "Epoch 89/100\n",
            "49792/50000 [============================>.] - ETA: 0s - loss: 0.2238 - acc: 0.9210"
          ],
          "name": "stdout"
        },
        {
          "output_type": "stream",
          "text": [
            "W0824 06:25:09.982483 140464170198912 callbacks.py:989] Can save best model only with accuracy available, skipping.\n"
          ],
          "name": "stderr"
        },
        {
          "output_type": "stream",
          "text": [
            "50000/50000 [==============================] - 6s 116us/sample - loss: 0.2242 - acc: 0.9208 - val_loss: 0.7496 - val_acc: 0.8056\n",
            "\n",
            "Epoch 00090: LearningRateScheduler reducing learning rate to 0.0010000000474974513.\n",
            "Epoch 90/100\n",
            "49792/50000 [============================>.] - ETA: 0s - loss: 0.2149 - acc: 0.9237"
          ],
          "name": "stdout"
        },
        {
          "output_type": "stream",
          "text": [
            "W0824 06:25:15.722326 140464170198912 callbacks.py:989] Can save best model only with accuracy available, skipping.\n"
          ],
          "name": "stderr"
        },
        {
          "output_type": "stream",
          "text": [
            "50000/50000 [==============================] - 6s 115us/sample - loss: 0.2147 - acc: 0.9238 - val_loss: 0.7446 - val_acc: 0.8091\n",
            "\n",
            "Epoch 00091: LearningRateScheduler reducing learning rate to 0.00010000000474974513.\n",
            "Epoch 91/100\n",
            "49792/50000 [============================>.] - ETA: 0s - loss: 0.1794 - acc: 0.9349"
          ],
          "name": "stdout"
        },
        {
          "output_type": "stream",
          "text": [
            "W0824 06:25:21.515189 140464170198912 callbacks.py:989] Can save best model only with accuracy available, skipping.\n"
          ],
          "name": "stderr"
        },
        {
          "output_type": "stream",
          "text": [
            "50000/50000 [==============================] - 6s 116us/sample - loss: 0.1793 - acc: 0.9350 - val_loss: 0.7243 - val_acc: 0.8159\n",
            "\n",
            "Epoch 00092: LearningRateScheduler reducing learning rate to 0.00010000000474974513.\n",
            "Epoch 92/100\n",
            "49792/50000 [============================>.] - ETA: 0s - loss: 0.1641 - acc: 0.9408"
          ],
          "name": "stdout"
        },
        {
          "output_type": "stream",
          "text": [
            "W0824 06:25:27.226769 140464170198912 callbacks.py:989] Can save best model only with accuracy available, skipping.\n"
          ],
          "name": "stderr"
        },
        {
          "output_type": "stream",
          "text": [
            "50000/50000 [==============================] - 6s 114us/sample - loss: 0.1643 - acc: 0.9408 - val_loss: 0.7374 - val_acc: 0.8182\n",
            "\n",
            "Epoch 00093: LearningRateScheduler reducing learning rate to 0.00010000000474974513.\n",
            "Epoch 93/100\n",
            "49792/50000 [============================>.] - ETA: 0s - loss: 0.1640 - acc: 0.9406"
          ],
          "name": "stdout"
        },
        {
          "output_type": "stream",
          "text": [
            "W0824 06:25:32.957840 140464170198912 callbacks.py:989] Can save best model only with accuracy available, skipping.\n"
          ],
          "name": "stderr"
        },
        {
          "output_type": "stream",
          "text": [
            "50000/50000 [==============================] - 6s 115us/sample - loss: 0.1640 - acc: 0.9406 - val_loss: 0.7353 - val_acc: 0.8194\n",
            "\n",
            "Epoch 00094: LearningRateScheduler reducing learning rate to 0.00010000000474974513.\n",
            "Epoch 94/100\n",
            "49792/50000 [============================>.] - ETA: 0s - loss: 0.1565 - acc: 0.9449"
          ],
          "name": "stdout"
        },
        {
          "output_type": "stream",
          "text": [
            "W0824 06:25:38.680387 140464170198912 callbacks.py:989] Can save best model only with accuracy available, skipping.\n"
          ],
          "name": "stderr"
        },
        {
          "output_type": "stream",
          "text": [
            "50000/50000 [==============================] - 6s 114us/sample - loss: 0.1565 - acc: 0.9449 - val_loss: 0.7410 - val_acc: 0.8183\n",
            "\n",
            "Epoch 00095: LearningRateScheduler reducing learning rate to 0.00010000000474974513.\n",
            "Epoch 95/100\n",
            "49792/50000 [============================>.] - ETA: 0s - loss: 0.1554 - acc: 0.9437"
          ],
          "name": "stdout"
        },
        {
          "output_type": "stream",
          "text": [
            "W0824 06:25:44.377130 140464170198912 callbacks.py:989] Can save best model only with accuracy available, skipping.\n"
          ],
          "name": "stderr"
        },
        {
          "output_type": "stream",
          "text": [
            "50000/50000 [==============================] - 6s 114us/sample - loss: 0.1556 - acc: 0.9437 - val_loss: 0.7477 - val_acc: 0.8191\n",
            "\n",
            "Epoch 00096: LearningRateScheduler reducing learning rate to 0.00010000000474974513.\n",
            "Epoch 96/100\n",
            "49792/50000 [============================>.] - ETA: 0s - loss: 0.1491 - acc: 0.9458"
          ],
          "name": "stdout"
        },
        {
          "output_type": "stream",
          "text": [
            "W0824 06:25:50.061178 140464170198912 callbacks.py:989] Can save best model only with accuracy available, skipping.\n"
          ],
          "name": "stderr"
        },
        {
          "output_type": "stream",
          "text": [
            "50000/50000 [==============================] - 6s 114us/sample - loss: 0.1492 - acc: 0.9457 - val_loss: 0.7567 - val_acc: 0.8184\n",
            "\n",
            "Epoch 00097: LearningRateScheduler reducing learning rate to 0.00010000000474974513.\n",
            "Epoch 97/100\n",
            "49792/50000 [============================>.] - ETA: 0s - loss: 0.1476 - acc: 0.9470"
          ],
          "name": "stdout"
        },
        {
          "output_type": "stream",
          "text": [
            "W0824 06:25:55.790053 140464170198912 callbacks.py:989] Can save best model only with accuracy available, skipping.\n"
          ],
          "name": "stderr"
        },
        {
          "output_type": "stream",
          "text": [
            "50000/50000 [==============================] - 6s 114us/sample - loss: 0.1475 - acc: 0.9471 - val_loss: 0.7438 - val_acc: 0.8201\n",
            "\n",
            "Epoch 00098: LearningRateScheduler reducing learning rate to 0.00010000000474974513.\n",
            "Epoch 98/100\n",
            "49792/50000 [============================>.] - ETA: 0s - loss: 0.1516 - acc: 0.9459"
          ],
          "name": "stdout"
        },
        {
          "output_type": "stream",
          "text": [
            "W0824 06:26:01.480747 140464170198912 callbacks.py:989] Can save best model only with accuracy available, skipping.\n"
          ],
          "name": "stderr"
        },
        {
          "output_type": "stream",
          "text": [
            "50000/50000 [==============================] - 6s 114us/sample - loss: 0.1516 - acc: 0.9459 - val_loss: 0.7385 - val_acc: 0.8208\n",
            "\n",
            "Epoch 00099: LearningRateScheduler reducing learning rate to 0.00010000000474974513.\n",
            "Epoch 99/100\n",
            "49792/50000 [============================>.] - ETA: 0s - loss: 0.1423 - acc: 0.9492"
          ],
          "name": "stdout"
        },
        {
          "output_type": "stream",
          "text": [
            "W0824 06:26:07.163644 140464170198912 callbacks.py:989] Can save best model only with accuracy available, skipping.\n"
          ],
          "name": "stderr"
        },
        {
          "output_type": "stream",
          "text": [
            "50000/50000 [==============================] - 6s 113us/sample - loss: 0.1423 - acc: 0.9492 - val_loss: 0.7469 - val_acc: 0.8220\n",
            "\n",
            "Epoch 00100: LearningRateScheduler reducing learning rate to 0.00010000000474974513.\n",
            "Epoch 100/100\n",
            "49792/50000 [============================>.] - ETA: 0s - loss: 0.1439 - acc: 0.9484"
          ],
          "name": "stdout"
        },
        {
          "output_type": "stream",
          "text": [
            "W0824 06:26:12.840532 140464170198912 callbacks.py:989] Can save best model only with accuracy available, skipping.\n"
          ],
          "name": "stderr"
        },
        {
          "output_type": "stream",
          "text": [
            "\b\b\b\b\b\b\b\b\b\b\b\b\b\b\b\b\b\b\b\b\b\b\b\b\b\b\b\b\b\b\b\b\b\b\b\b\b\b\b\b\b\b\b\b\b\b\b\b\b\b\b\b\b\b\b\b\b\b\b\b\b\b\b\b\b\b\b\b\b\b\b\b\b\b\b\b\b\b\b\b\b\b\b\r50000/50000 [==============================] - 6s 113us/sample - loss: 0.1442 - acc: 0.9484 - val_loss: 0.7509 - val_acc: 0.8199\n"
          ],
          "name": "stdout"
        },
        {
          "output_type": "execute_result",
          "data": {
            "text/plain": [
              "<tensorflow.python.keras.callbacks.History at 0x7fbf21a3f908>"
            ]
          },
          "metadata": {
            "tags": []
          },
          "execution_count": 26
        }
      ]
    },
    {
      "cell_type": "markdown",
      "metadata": {
        "id": "QR9WUYXxqtfR",
        "colab_type": "text"
      },
      "source": [
        "# **4. 모델 저장**"
      ]
    },
    {
      "cell_type": "code",
      "metadata": {
        "id": "Wi9yznz4qvzK",
        "colab_type": "code",
        "colab": {}
      },
      "source": [
        "save_path = '/content/'\n",
        "team_name = 'team01'\n",
        "\n",
        "# 모델의 weight 값만 저장합니다.\n",
        "model.save_weights(save_path + 'model_weight_' + data_type + '_' + team_name + '.h5')\n",
        "\n",
        "# 모델의 구조만을 저장합니다.\n",
        "model_json = model.to_json()\n",
        "with open(save_path + 'model_structure_' + data_type + '_' + team_name + '.json', 'w') as json_file : \n",
        "    json_file.write(model_json)\n",
        "\n",
        "# 트레이닝된 전체 모델을 저장합니다.\n",
        "model.save(save_path +  'model_entire_' + data_type + '_' + team_name + '.h5')"
      ],
      "execution_count": 0,
      "outputs": []
    },
    {
      "cell_type": "markdown",
      "metadata": {
        "id": "1B2BoRDZ7cFl",
        "colab_type": "text"
      },
      "source": [
        "# **5. 모델 로드 및 평가**"
      ]
    },
    {
      "cell_type": "code",
      "metadata": {
        "id": "SDBwxVUx7knQ",
        "colab_type": "code",
        "outputId": "8ade1671-dcfe-4eea-ec58-14f1a176a3b0",
        "colab": {
          "base_uri": "https://localhost:8080/",
          "height": 52
        }
      },
      "source": [
        "save_path = '/content/'\n",
        "team_name = 'team01'\n",
        "\n",
        "model = keras.models.load_model(save_path + 'model_entire_' + data_type + '_' + team_name + '.h5')\n",
        "model.evaluate(x_test_after, y_test)"
      ],
      "execution_count": 29,
      "outputs": [
        {
          "output_type": "stream",
          "text": [
            "10000/10000 [==============================] - 1s 119us/sample - loss: 0.6216 - acc: 0.7976\n"
          ],
          "name": "stdout"
        },
        {
          "output_type": "execute_result",
          "data": {
            "text/plain": [
              "[0.6215783918380737, 0.7976]"
            ]
          },
          "metadata": {
            "tags": []
          },
          "execution_count": 29
        }
      ]
    }
  ]
}