{
  "nbformat": 4,
  "nbformat_minor": 0,
  "metadata": {
    "colab": {
      "name": "해커톤이라쓰고대회라읽는혜성이의케라스맛",
      "version": "0.3.2",
      "provenance": [],
      "collapsed_sections": [],
      "include_colab_link": true
    },
    "kernelspec": {
      "name": "python3",
      "display_name": "Python 3"
    },
    "accelerator": "GPU"
  },
  "cells": [
    {
      "cell_type": "markdown",
      "metadata": {
        "id": "view-in-github",
        "colab_type": "text"
      },
      "source": [
        "<a href=\"https://colab.research.google.com/github/AllyHyeseongKim/2019_cau_oss_hackathon/blob/master/%ED%95%B4%EC%BB%A4%ED%86%A4%EC%9D%B4%EB%9D%BC%EC%93%B0%EA%B3%A0%EB%8C%80%ED%9A%8C%EB%9D%BC%EC%9D%BD%EB%8A%94%ED%98%9C%EC%84%B1%EC%9D%B4%EC%9D%98%EC%BC%80%EB%9D%BC%EC%8A%A4%EB%A7%9B.ipynb\" target=\"_parent\"><img src=\"https://colab.research.google.com/assets/colab-badge.svg\" alt=\"Open In Colab\"/></a>"
      ]
    },
    {
      "cell_type": "markdown",
      "metadata": {
        "id": "1AosAX9DXOlc",
        "colab_type": "text"
      },
      "source": [
        "# **0. 해커톤 진행 주의사항**\n",
        "\n",
        "**1)  개발 관련 주의사항**\n",
        "*   [1. 초기 환경 설정]은 절대 수정하지 말 것\n",
        " *  단, 사용할 데이터셋에 따라 is_mnist만 수정\n",
        "*   모든 구현은 [2. 데이터 전처리]와 [3. 모델 생성]에서만 진행\n",
        " *  데이터 전처리 후 트레이닝, 데이터 셋은 x_train_after, x_test_after 변수명을 유지해주세요.\n",
        " *  데이터셋이 달라져도 같은 모델 구조를 유지하여야함.\n",
        "*   [4. 모델 저장]과 [5. 모델 로드 및 평가]에서 team_name 변수 변경 (예.`team_name = 'team01'`)\n",
        " *  트레이닝 중간에 checkpoint를 활용하여 모델을 저장한 경우에도 파일 이름 양식 통일 필수\n",
        " *  team_name을 제외한 다른 부분은 수정하지 말 것\n",
        "*   Colab 사용중 실수로 데이터 손실이 발생할 수도 있으니 중간 결과값을 github에 업로드 \n",
        " *    \"런타임->모든 런타임 재설정\"은 절대 누르지 말 것 (저장한 모델 데이터가 모두 삭제됨)\n",
        "*   효율적인 구현 및 테스팅을 위해 GPU 가속 기능 활성화\n",
        " *    \"런타임 -> 런타임 유형변경 -> 하드웨어 가속기 -> GPU 설정\"\n",
        "*   주석을 최대한 자세히 작성\n",
        "*   Keras API 관련하여 [Keras Documentation](https://keras.io/) 참조\n",
        "\n",
        "**2) 제출 관련 주의사항**\n",
        "*  제출물\n",
        " *  소스코드 (hackathon_teamXX.ipynb)\n",
        " *  모델 구조 파일 (model_structure_teamXX.json)\n",
        " *  모델 weight 파일 (model_weight_teamXX.h5)\n",
        " *  컴파일된 모델 파일 (model_entire_teamXX.h5)\n",
        "* 제출 기한: **오후 6시**\n",
        "* 제출 방법: [GitHub README](https://github.com/cauosshackathonta/2019_cau_oss_hackathon/) 참조\n",
        "\n",
        " \n",
        "**3) 평가 관련 주의사항**\n",
        "*  모델 성능 = 테스트 데이터 셋 분류 정확도\n",
        " *  model.evaluate(x_test, y_test)\n",
        "*  제출된 모델들의 테스트 데이터 셋 분류 정확도를 기준으로 수상작 결정\n",
        "*  수상 후보들에 대해서는 소스코드를 기반으로 모델 재검증 \n",
        " \n",
        "**4) 수상 실격 사유**\n",
        "*  유사한 소스코드 or 알고리즘이 적발될 경우\n",
        "*  소스코드와 제출된 모델이 상이한 경우\n",
        "*  두 개의 데이터셋에 대해 다른 모델 구조를 사용한 경우\n",
        "*  개발 관련 주의사항을 지키지 않은 경우\n",
        " *  예: [초기 환경 설정]을 수정한 경우\n",
        "*  데이터 셋을 변조한 경우\n",
        " *  예. 테스트 데이터 셋을 트레이닝 데이터 셋에 포함하여 모델 생성 \n",
        "*  주석이 소스코드와 맞지 않거나 미비할 경우\n",
        "\n",
        "\n",
        "\n",
        "\n"
      ]
    },
    {
      "cell_type": "markdown",
      "metadata": {
        "id": "67lwEXhUqys1",
        "colab_type": "text"
      },
      "source": [
        "# **1. 초기 환경 설정**\n",
        "\n"
      ]
    },
    {
      "cell_type": "code",
      "metadata": {
        "id": "Ms5PBBJ1qSC6",
        "colab_type": "code",
        "colab": {}
      },
      "source": [
        "from __future__ import absolute_import, division, print_function, unicode_literals, unicode_literals\n",
        "\n",
        "# tensorflow와 tf.keras 및 관련 라이브러리 임포트\n",
        "import tensorflow as tf\n",
        "from tensorflow import keras\n",
        "from keras.utils import np_utils\n",
        "\n",
        "import numpy as np\n",
        "\n",
        "is_mnist = True;\n",
        "\n",
        "# 데이터셋 로드\n",
        "# x_train, y_train: 트레이닝 데이터 및 레이블\n",
        "# x_test, y_test: 테스트 데이터 및 레이블\n",
        "if is_mnist:\n",
        "  data_type = 'mnist'\n",
        "  (x_train, y_train), (x_test, y_test) = keras.datasets.fashion_mnist.load_data() # fashion MNIST 데이터셋인 경우,\n",
        "else:\n",
        "  data_type = 'cifar10'\n",
        "  (x_train, y_train), (x_test, y_test) = keras.datasets.cifar10.load_data() # cifar10 데이터셋인 경우,\n",
        "\n",
        "\n",
        "# 분류를 위해 클래스 벡터를 바이너리 매트릭스로 변환\n",
        "y_train = np_utils.to_categorical(y_train)\n",
        "y_test = np_utils.to_categorical(y_test)\n",
        "\n",
        "# 총 클래스 개수\n",
        "num_classes = y_test.shape[1]\n",
        "\n",
        "# 인풋 데이터 타입\n",
        "input_shape = x_test.shape[1:]"
      ],
      "execution_count": 0,
      "outputs": []
    },
    {
      "cell_type": "markdown",
      "metadata": {
        "id": "p9c2KLDBIhNQ",
        "colab_type": "text"
      },
      "source": [
        "# **2. 데이터 전처리**\n"
      ]
    },
    {
      "cell_type": "code",
      "metadata": {
        "id": "zJNgjaHvIhSS",
        "colab_type": "code",
        "colab": {}
      },
      "source": [
        "# 데이터 전처리 (예: normalization)\n",
        "x_train_after = x_train / 255.0\n",
        "x_test_after = x_test / 255.0\n",
        "\n",
        "if is_mnist:\n",
        "  x_train_after = x_train_after.reshape(x_train_after.shape[0], 28, 28, 1)\n",
        "  x_test_after = x_test_after.reshape(x_test_after.shape[0], 28, 28, 1)\n",
        "  input_shape = x_test_after.shape[1:]"
      ],
      "execution_count": 0,
      "outputs": []
    },
    {
      "cell_type": "markdown",
      "metadata": {
        "id": "A-YjppJpXBO9",
        "colab_type": "text"
      },
      "source": [
        "# **3. 모델 생성**\n",
        "\n"
      ]
    },
    {
      "cell_type": "code",
      "metadata": {
        "id": "DZP4eRmRqgRp",
        "colab_type": "code",
        "outputId": "411bc371-cdb8-4a29-b201-1e7620857241",
        "colab": {
          "base_uri": "https://localhost:8080/",
          "height": 1000
        }
      },
      "source": [
        "#혜성\n",
        "#from keras.preprocessing.image import ImageDataGenerator\n",
        "\n",
        "# 순차 모델 생성 (가장 기본구조)\n",
        "model = keras.Sequential()\n",
        "\n",
        "# Convolution layer: 3 x 3 x 32 필터로 특징 추출\n",
        "# 활성화 함수 = relu\n",
        "model.add(keras.layers.Conv2D(32, (3, 3), padding='same', activation='relu', input_shape=input_shape))\n",
        "model.add(keras.layers.Conv2D(32, (3, 3), padding='same', activation='relu'))\n",
        "\n",
        "# MaxPooling layer: 출력 크기를 입력 크기의 반으로\n",
        "model.add(keras.layers.MaxPooling2D(pool_size=(2, 2)))\n",
        "\n",
        "model.add(keras.layers.Dropout(0.25))\n",
        "\n",
        "# Convolution layer: 3 x 3 x 64 필터로 특징 추출\n",
        "# 활성화 함수 = relu\n",
        "model.add(keras.layers.Conv2D(64, (3, 3), padding='same', activation='relu'))\n",
        "model.add(keras.layers.Conv2D(64, (3, 3), padding='same', activation='relu'))\n",
        "\n",
        "# MaxPooling layer: 출력 크기를 입력 크기의 반으로\n",
        "model.add(keras.layers.MaxPooling2D(pool_size=(2, 2)))\n",
        "\n",
        "model.add(keras.layers.Dropout(0.25))\n",
        "\n",
        "# Flatten layer: 7 x 7 x 1 image를 3136개의 1D vector input으로 변환\n",
        "model.add(keras.layers.Flatten())\n",
        "\n",
        "# 1st hidden layer: fully-connected layer\n",
        "# (# of inputs = 3136, # of outputs = 256, actication fuction = relu)\n",
        "model.add(keras.layers.Dense(256, activation='relu'))\n",
        "\n",
        "model.add(keras.layers.Dropout(0.5))\n",
        "\n",
        "# 2nd hidden layer: fully-connected layer \n",
        "# (# of inputs = 256, # of outputs = 10, actication fuction = softmax)\n",
        "model.add(keras.layers.Dense(10, activation='softmax'))\n",
        "\n",
        "# learning rate scheduler 정의\n",
        "# 30 epoch마다 learning rate을 0.1배\n",
        "from tensorflow.keras.callbacks import ModelCheckpoint, LearningRateScheduler\n",
        "from tensorflow.keras import optimizers\n",
        "\n",
        "def lr_scheduler(epoch, lr):\n",
        "    decay_rate = 0.1\n",
        "    decay_step = 90\n",
        "    if epoch % decay_step == 0 and epoch:\n",
        "        return lr * decay_rate\n",
        "    return lr\n",
        "\n",
        "save_path = '/content/'\n",
        "team_name = 'team01'\n",
        "\n",
        "# 모델 컴파일\n",
        "# optimizer: 모델을 업데이트 하는 방식\n",
        "# loss: 모델의 정확도를 판단하는 방식\n",
        "# metrics: 트레이닝 및 테스팅 성능 모니터링을 위한 평가지표\n",
        "\n",
        "# optimizer를 Adam으로 설정\n",
        "adam = optimizers.Adam(lr=0.001, decay=1e-6)\n",
        "model_path = save_path + 'checkpoint' + data_type + '_' + team_name + '.h5'\n",
        "\n",
        "# callback함수로 Checkpoint 객체 설정\n",
        "cb_checkpoint = ModelCheckpoint(filepath=model_path, monitor='accuracy', verbose=1, save_best_only=True)\n",
        "\n",
        "# callback함수 리스트 정의\n",
        "callbacks=[\n",
        "    cb_checkpoint, \n",
        "    LearningRateScheduler(lr_scheduler, verbose=1)\n",
        "]\n",
        "\n",
        "# 모델 호츨 및 컴파일 \n",
        "model.compile(loss='categorical_crossentropy', optimizer=adam, metrics=['accuracy'])\n",
        "\n",
        "# 모델 트레이닝\n",
        "# batch_size: 전체 데이터셋 중 몇개씩 학습시킬 것인지\n",
        "# epoch: 학습에 전체 데이터셋이 총 몇번 이용될 것인지\n",
        "# shuffle: 학습전에 트레이닝 데이터셋을 랜덤하게 섞을 것인지\n",
        "# validation_data: 중간 성능 검증에 사용할 data set\n",
        "model.fit(x_train_after, y_train, batch_size = 128, epochs = 100, shuffle=True, validation_data=[x_test_after, y_test], callbacks=callbacks)"
      ],
      "execution_count": 32,
      "outputs": [
        {
          "output_type": "stream",
          "text": [
            "Train on 60000 samples, validate on 10000 samples\n",
            "\n",
            "Epoch 00001: LearningRateScheduler reducing learning rate to 0.0010000000474974513.\n",
            "Epoch 1/100\n",
            "59904/60000 [============================>.] - ETA: 0s - loss: 0.5509 - acc: 0.8007"
          ],
          "name": "stdout"
        },
        {
          "output_type": "stream",
          "text": [
            "W0824 06:37:15.892957 140464170198912 callbacks.py:989] Can save best model only with accuracy available, skipping.\n"
          ],
          "name": "stderr"
        },
        {
          "output_type": "stream",
          "text": [
            "60000/60000 [==============================] - 6s 101us/sample - loss: 0.5505 - acc: 0.8009 - val_loss: 0.3262 - val_acc: 0.8783\n",
            "\n",
            "Epoch 00002: LearningRateScheduler reducing learning rate to 0.0010000000474974513.\n",
            "Epoch 2/100\n",
            "59520/60000 [============================>.] - ETA: 0s - loss: 0.3275 - acc: 0.8819"
          ],
          "name": "stdout"
        },
        {
          "output_type": "stream",
          "text": [
            "W0824 06:37:21.184707 140464170198912 callbacks.py:989] Can save best model only with accuracy available, skipping.\n"
          ],
          "name": "stderr"
        },
        {
          "output_type": "stream",
          "text": [
            "60000/60000 [==============================] - 5s 88us/sample - loss: 0.3274 - acc: 0.8818 - val_loss: 0.2721 - val_acc: 0.9025\n",
            "\n",
            "Epoch 00003: LearningRateScheduler reducing learning rate to 0.0010000000474974513.\n",
            "Epoch 3/100\n",
            "59648/60000 [============================>.] - ETA: 0s - loss: 0.2773 - acc: 0.9001"
          ],
          "name": "stdout"
        },
        {
          "output_type": "stream",
          "text": [
            "W0824 06:37:26.477258 140464170198912 callbacks.py:989] Can save best model only with accuracy available, skipping.\n"
          ],
          "name": "stderr"
        },
        {
          "output_type": "stream",
          "text": [
            "60000/60000 [==============================] - 5s 88us/sample - loss: 0.2773 - acc: 0.9001 - val_loss: 0.2399 - val_acc: 0.9116\n",
            "\n",
            "Epoch 00004: LearningRateScheduler reducing learning rate to 0.0010000000474974513.\n",
            "Epoch 4/100\n",
            "59648/60000 [============================>.] - ETA: 0s - loss: 0.2459 - acc: 0.9100"
          ],
          "name": "stdout"
        },
        {
          "output_type": "stream",
          "text": [
            "W0824 06:37:31.781213 140464170198912 callbacks.py:989] Can save best model only with accuracy available, skipping.\n"
          ],
          "name": "stderr"
        },
        {
          "output_type": "stream",
          "text": [
            "60000/60000 [==============================] - 5s 88us/sample - loss: 0.2459 - acc: 0.9100 - val_loss: 0.2271 - val_acc: 0.9152\n",
            "\n",
            "Epoch 00005: LearningRateScheduler reducing learning rate to 0.0010000000474974513.\n",
            "Epoch 5/100\n",
            "59648/60000 [============================>.] - ETA: 0s - loss: 0.2264 - acc: 0.9175"
          ],
          "name": "stdout"
        },
        {
          "output_type": "stream",
          "text": [
            "W0824 06:37:37.086338 140464170198912 callbacks.py:989] Can save best model only with accuracy available, skipping.\n"
          ],
          "name": "stderr"
        },
        {
          "output_type": "stream",
          "text": [
            "60000/60000 [==============================] - 5s 88us/sample - loss: 0.2262 - acc: 0.9175 - val_loss: 0.2316 - val_acc: 0.9163\n",
            "\n",
            "Epoch 00006: LearningRateScheduler reducing learning rate to 0.0010000000474974513.\n",
            "Epoch 6/100\n",
            "59648/60000 [============================>.] - ETA: 0s - loss: 0.2121 - acc: 0.9232"
          ],
          "name": "stdout"
        },
        {
          "output_type": "stream",
          "text": [
            "W0824 06:37:42.395551 140464170198912 callbacks.py:989] Can save best model only with accuracy available, skipping.\n"
          ],
          "name": "stderr"
        },
        {
          "output_type": "stream",
          "text": [
            "60000/60000 [==============================] - 5s 88us/sample - loss: 0.2121 - acc: 0.9232 - val_loss: 0.2062 - val_acc: 0.9255\n",
            "\n",
            "Epoch 00007: LearningRateScheduler reducing learning rate to 0.0010000000474974513.\n",
            "Epoch 7/100\n",
            "59520/60000 [============================>.] - ETA: 0s - loss: 0.1997 - acc: 0.9263"
          ],
          "name": "stdout"
        },
        {
          "output_type": "stream",
          "text": [
            "W0824 06:37:47.700999 140464170198912 callbacks.py:989] Can save best model only with accuracy available, skipping.\n"
          ],
          "name": "stderr"
        },
        {
          "output_type": "stream",
          "text": [
            "60000/60000 [==============================] - 5s 88us/sample - loss: 0.1996 - acc: 0.9264 - val_loss: 0.2130 - val_acc: 0.9223\n",
            "\n",
            "Epoch 00008: LearningRateScheduler reducing learning rate to 0.0010000000474974513.\n",
            "Epoch 8/100\n",
            "59648/60000 [============================>.] - ETA: 0s - loss: 0.1893 - acc: 0.9299"
          ],
          "name": "stdout"
        },
        {
          "output_type": "stream",
          "text": [
            "W0824 06:37:53.009780 140464170198912 callbacks.py:989] Can save best model only with accuracy available, skipping.\n"
          ],
          "name": "stderr"
        },
        {
          "output_type": "stream",
          "text": [
            "60000/60000 [==============================] - 5s 88us/sample - loss: 0.1893 - acc: 0.9299 - val_loss: 0.1964 - val_acc: 0.9301\n",
            "\n",
            "Epoch 00009: LearningRateScheduler reducing learning rate to 0.0010000000474974513.\n",
            "Epoch 9/100\n",
            "59520/60000 [============================>.] - ETA: 0s - loss: 0.1799 - acc: 0.9335"
          ],
          "name": "stdout"
        },
        {
          "output_type": "stream",
          "text": [
            "W0824 06:37:58.315525 140464170198912 callbacks.py:989] Can save best model only with accuracy available, skipping.\n"
          ],
          "name": "stderr"
        },
        {
          "output_type": "stream",
          "text": [
            "60000/60000 [==============================] - 5s 88us/sample - loss: 0.1800 - acc: 0.9333 - val_loss: 0.1935 - val_acc: 0.9326\n",
            "\n",
            "Epoch 00010: LearningRateScheduler reducing learning rate to 0.0010000000474974513.\n",
            "Epoch 10/100\n",
            "59648/60000 [============================>.] - ETA: 0s - loss: 0.1675 - acc: 0.9381"
          ],
          "name": "stdout"
        },
        {
          "output_type": "stream",
          "text": [
            "W0824 06:38:03.565174 140464170198912 callbacks.py:989] Can save best model only with accuracy available, skipping.\n"
          ],
          "name": "stderr"
        },
        {
          "output_type": "stream",
          "text": [
            "60000/60000 [==============================] - 5s 87us/sample - loss: 0.1677 - acc: 0.9381 - val_loss: 0.1986 - val_acc: 0.9264\n",
            "\n",
            "Epoch 00011: LearningRateScheduler reducing learning rate to 0.0010000000474974513.\n",
            "Epoch 11/100\n",
            "59776/60000 [============================>.] - ETA: 0s - loss: 0.1622 - acc: 0.9412"
          ],
          "name": "stdout"
        },
        {
          "output_type": "stream",
          "text": [
            "W0824 06:38:08.844763 140464170198912 callbacks.py:989] Can save best model only with accuracy available, skipping.\n"
          ],
          "name": "stderr"
        },
        {
          "output_type": "stream",
          "text": [
            "60000/60000 [==============================] - 5s 88us/sample - loss: 0.1621 - acc: 0.9411 - val_loss: 0.1893 - val_acc: 0.9316\n",
            "\n",
            "Epoch 00012: LearningRateScheduler reducing learning rate to 0.0010000000474974513.\n",
            "Epoch 12/100\n",
            "59520/60000 [============================>.] - ETA: 0s - loss: 0.1542 - acc: 0.9421"
          ],
          "name": "stdout"
        },
        {
          "output_type": "stream",
          "text": [
            "W0824 06:38:14.112789 140464170198912 callbacks.py:989] Can save best model only with accuracy available, skipping.\n"
          ],
          "name": "stderr"
        },
        {
          "output_type": "stream",
          "text": [
            "60000/60000 [==============================] - 5s 88us/sample - loss: 0.1539 - acc: 0.9422 - val_loss: 0.1849 - val_acc: 0.9366\n",
            "\n",
            "Epoch 00013: LearningRateScheduler reducing learning rate to 0.0010000000474974513.\n",
            "Epoch 13/100\n",
            "59648/60000 [============================>.] - ETA: 0s - loss: 0.1492 - acc: 0.9441"
          ],
          "name": "stdout"
        },
        {
          "output_type": "stream",
          "text": [
            "W0824 06:38:19.373867 140464170198912 callbacks.py:989] Can save best model only with accuracy available, skipping.\n"
          ],
          "name": "stderr"
        },
        {
          "output_type": "stream",
          "text": [
            "60000/60000 [==============================] - 5s 88us/sample - loss: 0.1490 - acc: 0.9442 - val_loss: 0.1878 - val_acc: 0.9325\n",
            "\n",
            "Epoch 00014: LearningRateScheduler reducing learning rate to 0.0010000000474974513.\n",
            "Epoch 14/100\n",
            "59648/60000 [============================>.] - ETA: 0s - loss: 0.1424 - acc: 0.9462"
          ],
          "name": "stdout"
        },
        {
          "output_type": "stream",
          "text": [
            "W0824 06:38:24.606189 140464170198912 callbacks.py:989] Can save best model only with accuracy available, skipping.\n"
          ],
          "name": "stderr"
        },
        {
          "output_type": "stream",
          "text": [
            "60000/60000 [==============================] - 5s 87us/sample - loss: 0.1425 - acc: 0.9462 - val_loss: 0.1881 - val_acc: 0.9359\n",
            "\n",
            "Epoch 00015: LearningRateScheduler reducing learning rate to 0.0010000000474974513.\n",
            "Epoch 15/100\n",
            "59520/60000 [============================>.] - ETA: 0s - loss: 0.1354 - acc: 0.9485"
          ],
          "name": "stdout"
        },
        {
          "output_type": "stream",
          "text": [
            "W0824 06:38:29.871909 140464170198912 callbacks.py:989] Can save best model only with accuracy available, skipping.\n"
          ],
          "name": "stderr"
        },
        {
          "output_type": "stream",
          "text": [
            "60000/60000 [==============================] - 5s 88us/sample - loss: 0.1358 - acc: 0.9484 - val_loss: 0.1838 - val_acc: 0.9376\n",
            "\n",
            "Epoch 00016: LearningRateScheduler reducing learning rate to 0.0010000000474974513.\n",
            "Epoch 16/100\n",
            "59648/60000 [============================>.] - ETA: 0s - loss: 0.1346 - acc: 0.9492"
          ],
          "name": "stdout"
        },
        {
          "output_type": "stream",
          "text": [
            "W0824 06:38:35.119751 140464170198912 callbacks.py:989] Can save best model only with accuracy available, skipping.\n"
          ],
          "name": "stderr"
        },
        {
          "output_type": "stream",
          "text": [
            "60000/60000 [==============================] - 5s 87us/sample - loss: 0.1346 - acc: 0.9492 - val_loss: 0.1962 - val_acc: 0.9353\n",
            "\n",
            "Epoch 00017: LearningRateScheduler reducing learning rate to 0.0010000000474974513.\n",
            "Epoch 17/100\n",
            "59648/60000 [============================>.] - ETA: 0s - loss: 0.1282 - acc: 0.9515"
          ],
          "name": "stdout"
        },
        {
          "output_type": "stream",
          "text": [
            "W0824 06:38:40.384459 140464170198912 callbacks.py:989] Can save best model only with accuracy available, skipping.\n"
          ],
          "name": "stderr"
        },
        {
          "output_type": "stream",
          "text": [
            "60000/60000 [==============================] - 5s 88us/sample - loss: 0.1281 - acc: 0.9515 - val_loss: 0.1914 - val_acc: 0.9366\n",
            "\n",
            "Epoch 00018: LearningRateScheduler reducing learning rate to 0.0010000000474974513.\n",
            "Epoch 18/100\n",
            "59648/60000 [============================>.] - ETA: 0s - loss: 0.1254 - acc: 0.9535"
          ],
          "name": "stdout"
        },
        {
          "output_type": "stream",
          "text": [
            "W0824 06:38:45.649950 140464170198912 callbacks.py:989] Can save best model only with accuracy available, skipping.\n"
          ],
          "name": "stderr"
        },
        {
          "output_type": "stream",
          "text": [
            "60000/60000 [==============================] - 5s 88us/sample - loss: 0.1253 - acc: 0.9536 - val_loss: 0.1887 - val_acc: 0.9363\n",
            "\n",
            "Epoch 00019: LearningRateScheduler reducing learning rate to 0.0010000000474974513.\n",
            "Epoch 19/100\n",
            "59648/60000 [============================>.] - ETA: 0s - loss: 0.1202 - acc: 0.9555"
          ],
          "name": "stdout"
        },
        {
          "output_type": "stream",
          "text": [
            "W0824 06:38:50.891772 140464170198912 callbacks.py:989] Can save best model only with accuracy available, skipping.\n"
          ],
          "name": "stderr"
        },
        {
          "output_type": "stream",
          "text": [
            "60000/60000 [==============================] - 5s 87us/sample - loss: 0.1203 - acc: 0.9554 - val_loss: 0.1883 - val_acc: 0.9373\n",
            "\n",
            "Epoch 00020: LearningRateScheduler reducing learning rate to 0.0010000000474974513.\n",
            "Epoch 20/100\n",
            "59648/60000 [============================>.] - ETA: 0s - loss: 0.1141 - acc: 0.9567"
          ],
          "name": "stdout"
        },
        {
          "output_type": "stream",
          "text": [
            "W0824 06:38:56.150881 140464170198912 callbacks.py:989] Can save best model only with accuracy available, skipping.\n"
          ],
          "name": "stderr"
        },
        {
          "output_type": "stream",
          "text": [
            "60000/60000 [==============================] - 5s 88us/sample - loss: 0.1143 - acc: 0.9567 - val_loss: 0.1861 - val_acc: 0.9354\n",
            "\n",
            "Epoch 00021: LearningRateScheduler reducing learning rate to 0.0010000000474974513.\n",
            "Epoch 21/100\n",
            "59648/60000 [============================>.] - ETA: 0s - loss: 0.1118 - acc: 0.9582"
          ],
          "name": "stdout"
        },
        {
          "output_type": "stream",
          "text": [
            "W0824 06:39:01.424709 140464170198912 callbacks.py:989] Can save best model only with accuracy available, skipping.\n"
          ],
          "name": "stderr"
        },
        {
          "output_type": "stream",
          "text": [
            "60000/60000 [==============================] - 5s 88us/sample - loss: 0.1117 - acc: 0.9583 - val_loss: 0.2011 - val_acc: 0.9346\n",
            "\n",
            "Epoch 00022: LearningRateScheduler reducing learning rate to 0.0010000000474974513.\n",
            "Epoch 22/100\n",
            "59520/60000 [============================>.] - ETA: 0s - loss: 0.1056 - acc: 0.9601"
          ],
          "name": "stdout"
        },
        {
          "output_type": "stream",
          "text": [
            "W0824 06:39:06.685273 140464170198912 callbacks.py:989] Can save best model only with accuracy available, skipping.\n"
          ],
          "name": "stderr"
        },
        {
          "output_type": "stream",
          "text": [
            "60000/60000 [==============================] - 5s 88us/sample - loss: 0.1054 - acc: 0.9602 - val_loss: 0.2045 - val_acc: 0.9354\n",
            "\n",
            "Epoch 00023: LearningRateScheduler reducing learning rate to 0.0010000000474974513.\n",
            "Epoch 23/100\n",
            "59520/60000 [============================>.] - ETA: 0s - loss: 0.1040 - acc: 0.9603"
          ],
          "name": "stdout"
        },
        {
          "output_type": "stream",
          "text": [
            "W0824 06:39:11.963965 140464170198912 callbacks.py:989] Can save best model only with accuracy available, skipping.\n"
          ],
          "name": "stderr"
        },
        {
          "output_type": "stream",
          "text": [
            "60000/60000 [==============================] - 5s 88us/sample - loss: 0.1040 - acc: 0.9603 - val_loss: 0.2145 - val_acc: 0.9345\n",
            "\n",
            "Epoch 00024: LearningRateScheduler reducing learning rate to 0.0010000000474974513.\n",
            "Epoch 24/100\n",
            "59520/60000 [============================>.] - ETA: 0s - loss: 0.1059 - acc: 0.9601"
          ],
          "name": "stdout"
        },
        {
          "output_type": "stream",
          "text": [
            "W0824 06:39:17.246095 140464170198912 callbacks.py:989] Can save best model only with accuracy available, skipping.\n"
          ],
          "name": "stderr"
        },
        {
          "output_type": "stream",
          "text": [
            "60000/60000 [==============================] - 5s 88us/sample - loss: 0.1059 - acc: 0.9600 - val_loss: 0.2088 - val_acc: 0.9361\n",
            "\n",
            "Epoch 00025: LearningRateScheduler reducing learning rate to 0.0010000000474974513.\n",
            "Epoch 25/100\n",
            "59392/60000 [============================>.] - ETA: 0s - loss: 0.1023 - acc: 0.9612"
          ],
          "name": "stdout"
        },
        {
          "output_type": "stream",
          "text": [
            "W0824 06:39:22.552553 140464170198912 callbacks.py:989] Can save best model only with accuracy available, skipping.\n"
          ],
          "name": "stderr"
        },
        {
          "output_type": "stream",
          "text": [
            "60000/60000 [==============================] - 5s 88us/sample - loss: 0.1024 - acc: 0.9611 - val_loss: 0.2048 - val_acc: 0.9369\n",
            "\n",
            "Epoch 00026: LearningRateScheduler reducing learning rate to 0.0010000000474974513.\n",
            "Epoch 26/100\n",
            "59648/60000 [============================>.] - ETA: 0s - loss: 0.0955 - acc: 0.9638"
          ],
          "name": "stdout"
        },
        {
          "output_type": "stream",
          "text": [
            "W0824 06:39:27.823700 140464170198912 callbacks.py:989] Can save best model only with accuracy available, skipping.\n"
          ],
          "name": "stderr"
        },
        {
          "output_type": "stream",
          "text": [
            "60000/60000 [==============================] - 5s 88us/sample - loss: 0.0955 - acc: 0.9639 - val_loss: 0.2085 - val_acc: 0.9345\n",
            "\n",
            "Epoch 00027: LearningRateScheduler reducing learning rate to 0.0010000000474974513.\n",
            "Epoch 27/100\n",
            "59648/60000 [============================>.] - ETA: 0s - loss: 0.0961 - acc: 0.9632"
          ],
          "name": "stdout"
        },
        {
          "output_type": "stream",
          "text": [
            "W0824 06:39:33.081810 140464170198912 callbacks.py:989] Can save best model only with accuracy available, skipping.\n"
          ],
          "name": "stderr"
        },
        {
          "output_type": "stream",
          "text": [
            "60000/60000 [==============================] - 5s 88us/sample - loss: 0.0959 - acc: 0.9633 - val_loss: 0.2351 - val_acc: 0.9324\n",
            "\n",
            "Epoch 00028: LearningRateScheduler reducing learning rate to 0.0010000000474974513.\n",
            "Epoch 28/100\n",
            "59776/60000 [============================>.] - ETA: 0s - loss: 0.0941 - acc: 0.9638"
          ],
          "name": "stdout"
        },
        {
          "output_type": "stream",
          "text": [
            "W0824 06:39:38.330040 140464170198912 callbacks.py:989] Can save best model only with accuracy available, skipping.\n"
          ],
          "name": "stderr"
        },
        {
          "output_type": "stream",
          "text": [
            "60000/60000 [==============================] - 5s 87us/sample - loss: 0.0941 - acc: 0.9639 - val_loss: 0.2106 - val_acc: 0.9365\n",
            "\n",
            "Epoch 00029: LearningRateScheduler reducing learning rate to 0.0010000000474974513.\n",
            "Epoch 29/100\n",
            "59648/60000 [============================>.] - ETA: 0s - loss: 0.0898 - acc: 0.9657"
          ],
          "name": "stdout"
        },
        {
          "output_type": "stream",
          "text": [
            "W0824 06:39:43.584123 140464170198912 callbacks.py:989] Can save best model only with accuracy available, skipping.\n"
          ],
          "name": "stderr"
        },
        {
          "output_type": "stream",
          "text": [
            "60000/60000 [==============================] - 5s 87us/sample - loss: 0.0901 - acc: 0.9656 - val_loss: 0.2156 - val_acc: 0.9360\n",
            "\n",
            "Epoch 00030: LearningRateScheduler reducing learning rate to 0.0010000000474974513.\n",
            "Epoch 30/100\n",
            "59392/60000 [============================>.] - ETA: 0s - loss: 0.0890 - acc: 0.9656"
          ],
          "name": "stdout"
        },
        {
          "output_type": "stream",
          "text": [
            "W0824 06:39:48.864503 140464170198912 callbacks.py:989] Can save best model only with accuracy available, skipping.\n"
          ],
          "name": "stderr"
        },
        {
          "output_type": "stream",
          "text": [
            "60000/60000 [==============================] - 5s 88us/sample - loss: 0.0891 - acc: 0.9656 - val_loss: 0.2192 - val_acc: 0.9344\n",
            "\n",
            "Epoch 00031: LearningRateScheduler reducing learning rate to 0.0010000000474974513.\n",
            "Epoch 31/100\n",
            "59648/60000 [============================>.] - ETA: 0s - loss: 0.0866 - acc: 0.9669"
          ],
          "name": "stdout"
        },
        {
          "output_type": "stream",
          "text": [
            "W0824 06:39:54.102105 140464170198912 callbacks.py:989] Can save best model only with accuracy available, skipping.\n"
          ],
          "name": "stderr"
        },
        {
          "output_type": "stream",
          "text": [
            "60000/60000 [==============================] - 5s 87us/sample - loss: 0.0865 - acc: 0.9669 - val_loss: 0.2215 - val_acc: 0.9370\n",
            "\n",
            "Epoch 00032: LearningRateScheduler reducing learning rate to 0.0010000000474974513.\n",
            "Epoch 32/100\n",
            "59520/60000 [============================>.] - ETA: 0s - loss: 0.0843 - acc: 0.9680"
          ],
          "name": "stdout"
        },
        {
          "output_type": "stream",
          "text": [
            "W0824 06:39:59.364431 140464170198912 callbacks.py:989] Can save best model only with accuracy available, skipping.\n"
          ],
          "name": "stderr"
        },
        {
          "output_type": "stream",
          "text": [
            "60000/60000 [==============================] - 5s 88us/sample - loss: 0.0841 - acc: 0.9680 - val_loss: 0.2283 - val_acc: 0.9381\n",
            "\n",
            "Epoch 00033: LearningRateScheduler reducing learning rate to 0.0010000000474974513.\n",
            "Epoch 33/100\n",
            "59520/60000 [============================>.] - ETA: 0s - loss: 0.0842 - acc: 0.9678"
          ],
          "name": "stdout"
        },
        {
          "output_type": "stream",
          "text": [
            "W0824 06:40:04.614475 140464170198912 callbacks.py:989] Can save best model only with accuracy available, skipping.\n"
          ],
          "name": "stderr"
        },
        {
          "output_type": "stream",
          "text": [
            "60000/60000 [==============================] - 5s 87us/sample - loss: 0.0844 - acc: 0.9678 - val_loss: 0.2409 - val_acc: 0.9363\n",
            "\n",
            "Epoch 00034: LearningRateScheduler reducing learning rate to 0.0010000000474974513.\n",
            "Epoch 34/100\n",
            "59648/60000 [============================>.] - ETA: 0s - loss: 0.0850 - acc: 0.9688"
          ],
          "name": "stdout"
        },
        {
          "output_type": "stream",
          "text": [
            "W0824 06:40:09.859142 140464170198912 callbacks.py:989] Can save best model only with accuracy available, skipping.\n"
          ],
          "name": "stderr"
        },
        {
          "output_type": "stream",
          "text": [
            "60000/60000 [==============================] - 5s 87us/sample - loss: 0.0850 - acc: 0.9688 - val_loss: 0.2314 - val_acc: 0.9369\n",
            "\n",
            "Epoch 00035: LearningRateScheduler reducing learning rate to 0.0010000000474974513.\n",
            "Epoch 35/100\n",
            "59648/60000 [============================>.] - ETA: 0s - loss: 0.0831 - acc: 0.9685"
          ],
          "name": "stdout"
        },
        {
          "output_type": "stream",
          "text": [
            "W0824 06:40:15.112166 140464170198912 callbacks.py:989] Can save best model only with accuracy available, skipping.\n"
          ],
          "name": "stderr"
        },
        {
          "output_type": "stream",
          "text": [
            "60000/60000 [==============================] - 5s 87us/sample - loss: 0.0832 - acc: 0.9685 - val_loss: 0.2125 - val_acc: 0.9361\n",
            "\n",
            "Epoch 00036: LearningRateScheduler reducing learning rate to 0.0010000000474974513.\n",
            "Epoch 36/100\n",
            "59520/60000 [============================>.] - ETA: 0s - loss: 0.0812 - acc: 0.9701"
          ],
          "name": "stdout"
        },
        {
          "output_type": "stream",
          "text": [
            "W0824 06:40:20.360549 140464170198912 callbacks.py:989] Can save best model only with accuracy available, skipping.\n"
          ],
          "name": "stderr"
        },
        {
          "output_type": "stream",
          "text": [
            "60000/60000 [==============================] - 5s 87us/sample - loss: 0.0810 - acc: 0.9701 - val_loss: 0.2150 - val_acc: 0.9383\n",
            "\n",
            "Epoch 00037: LearningRateScheduler reducing learning rate to 0.0010000000474974513.\n",
            "Epoch 37/100\n",
            "59648/60000 [============================>.] - ETA: 0s - loss: 0.0773 - acc: 0.9706"
          ],
          "name": "stdout"
        },
        {
          "output_type": "stream",
          "text": [
            "W0824 06:40:25.603474 140464170198912 callbacks.py:989] Can save best model only with accuracy available, skipping.\n"
          ],
          "name": "stderr"
        },
        {
          "output_type": "stream",
          "text": [
            "60000/60000 [==============================] - 5s 87us/sample - loss: 0.0774 - acc: 0.9706 - val_loss: 0.2198 - val_acc: 0.9372\n",
            "\n",
            "Epoch 00038: LearningRateScheduler reducing learning rate to 0.0010000000474974513.\n",
            "Epoch 38/100\n",
            "59648/60000 [============================>.] - ETA: 0s - loss: 0.0771 - acc: 0.9703"
          ],
          "name": "stdout"
        },
        {
          "output_type": "stream",
          "text": [
            "W0824 06:40:30.909611 140464170198912 callbacks.py:989] Can save best model only with accuracy available, skipping.\n"
          ],
          "name": "stderr"
        },
        {
          "output_type": "stream",
          "text": [
            "60000/60000 [==============================] - 5s 88us/sample - loss: 0.0770 - acc: 0.9703 - val_loss: 0.2226 - val_acc: 0.9379\n",
            "\n",
            "Epoch 00039: LearningRateScheduler reducing learning rate to 0.0010000000474974513.\n",
            "Epoch 39/100\n",
            "59520/60000 [============================>.] - ETA: 0s - loss: 0.0760 - acc: 0.9715"
          ],
          "name": "stdout"
        },
        {
          "output_type": "stream",
          "text": [
            "W0824 06:40:36.245102 140464170198912 callbacks.py:989] Can save best model only with accuracy available, skipping.\n"
          ],
          "name": "stderr"
        },
        {
          "output_type": "stream",
          "text": [
            "60000/60000 [==============================] - 5s 89us/sample - loss: 0.0759 - acc: 0.9715 - val_loss: 0.2212 - val_acc: 0.9352\n",
            "\n",
            "Epoch 00040: LearningRateScheduler reducing learning rate to 0.0010000000474974513.\n",
            "Epoch 40/100\n",
            "59648/60000 [============================>.] - ETA: 0s - loss: 0.0748 - acc: 0.9721"
          ],
          "name": "stdout"
        },
        {
          "output_type": "stream",
          "text": [
            "W0824 06:40:41.618730 140464170198912 callbacks.py:989] Can save best model only with accuracy available, skipping.\n"
          ],
          "name": "stderr"
        },
        {
          "output_type": "stream",
          "text": [
            "60000/60000 [==============================] - 5s 89us/sample - loss: 0.0748 - acc: 0.9722 - val_loss: 0.2393 - val_acc: 0.9382\n",
            "\n",
            "Epoch 00041: LearningRateScheduler reducing learning rate to 0.0010000000474974513.\n",
            "Epoch 41/100\n",
            "59648/60000 [============================>.] - ETA: 0s - loss: 0.0761 - acc: 0.9717"
          ],
          "name": "stdout"
        },
        {
          "output_type": "stream",
          "text": [
            "W0824 06:40:46.847472 140464170198912 callbacks.py:989] Can save best model only with accuracy available, skipping.\n"
          ],
          "name": "stderr"
        },
        {
          "output_type": "stream",
          "text": [
            "60000/60000 [==============================] - 5s 87us/sample - loss: 0.0762 - acc: 0.9716 - val_loss: 0.2302 - val_acc: 0.9384\n",
            "\n",
            "Epoch 00042: LearningRateScheduler reducing learning rate to 0.0010000000474974513.\n",
            "Epoch 42/100\n",
            "59648/60000 [============================>.] - ETA: 0s - loss: 0.0725 - acc: 0.9725"
          ],
          "name": "stdout"
        },
        {
          "output_type": "stream",
          "text": [
            "W0824 06:40:52.102551 140464170198912 callbacks.py:989] Can save best model only with accuracy available, skipping.\n"
          ],
          "name": "stderr"
        },
        {
          "output_type": "stream",
          "text": [
            "60000/60000 [==============================] - 5s 87us/sample - loss: 0.0724 - acc: 0.9725 - val_loss: 0.2377 - val_acc: 0.9361\n",
            "\n",
            "Epoch 00043: LearningRateScheduler reducing learning rate to 0.0010000000474974513.\n",
            "Epoch 43/100\n",
            "59648/60000 [============================>.] - ETA: 0s - loss: 0.0717 - acc: 0.9736"
          ],
          "name": "stdout"
        },
        {
          "output_type": "stream",
          "text": [
            "W0824 06:40:57.331813 140464170198912 callbacks.py:989] Can save best model only with accuracy available, skipping.\n"
          ],
          "name": "stderr"
        },
        {
          "output_type": "stream",
          "text": [
            "60000/60000 [==============================] - 5s 87us/sample - loss: 0.0719 - acc: 0.9735 - val_loss: 0.2443 - val_acc: 0.9383\n",
            "\n",
            "Epoch 00044: LearningRateScheduler reducing learning rate to 0.0010000000474974513.\n",
            "Epoch 44/100\n",
            "59648/60000 [============================>.] - ETA: 0s - loss: 0.0721 - acc: 0.9733"
          ],
          "name": "stdout"
        },
        {
          "output_type": "stream",
          "text": [
            "W0824 06:41:02.587957 140464170198912 callbacks.py:989] Can save best model only with accuracy available, skipping.\n"
          ],
          "name": "stderr"
        },
        {
          "output_type": "stream",
          "text": [
            "60000/60000 [==============================] - 5s 87us/sample - loss: 0.0721 - acc: 0.9734 - val_loss: 0.2450 - val_acc: 0.9370\n",
            "\n",
            "Epoch 00045: LearningRateScheduler reducing learning rate to 0.0010000000474974513.\n",
            "Epoch 45/100\n",
            "59648/60000 [============================>.] - ETA: 0s - loss: 0.0690 - acc: 0.9733"
          ],
          "name": "stdout"
        },
        {
          "output_type": "stream",
          "text": [
            "W0824 06:41:07.831487 140464170198912 callbacks.py:989] Can save best model only with accuracy available, skipping.\n"
          ],
          "name": "stderr"
        },
        {
          "output_type": "stream",
          "text": [
            "60000/60000 [==============================] - 5s 87us/sample - loss: 0.0692 - acc: 0.9733 - val_loss: 0.2443 - val_acc: 0.9372\n",
            "\n",
            "Epoch 00046: LearningRateScheduler reducing learning rate to 0.0010000000474974513.\n",
            "Epoch 46/100\n",
            "59648/60000 [============================>.] - ETA: 0s - loss: 0.0693 - acc: 0.9737"
          ],
          "name": "stdout"
        },
        {
          "output_type": "stream",
          "text": [
            "W0824 06:41:13.070859 140464170198912 callbacks.py:989] Can save best model only with accuracy available, skipping.\n"
          ],
          "name": "stderr"
        },
        {
          "output_type": "stream",
          "text": [
            "60000/60000 [==============================] - 5s 87us/sample - loss: 0.0694 - acc: 0.9736 - val_loss: 0.2322 - val_acc: 0.9395\n",
            "\n",
            "Epoch 00047: LearningRateScheduler reducing learning rate to 0.0010000000474974513.\n",
            "Epoch 47/100\n",
            "59648/60000 [============================>.] - ETA: 0s - loss: 0.0692 - acc: 0.9737"
          ],
          "name": "stdout"
        },
        {
          "output_type": "stream",
          "text": [
            "W0824 06:41:18.304998 140464170198912 callbacks.py:989] Can save best model only with accuracy available, skipping.\n"
          ],
          "name": "stderr"
        },
        {
          "output_type": "stream",
          "text": [
            "60000/60000 [==============================] - 5s 87us/sample - loss: 0.0691 - acc: 0.9737 - val_loss: 0.2579 - val_acc: 0.9365\n",
            "\n",
            "Epoch 00048: LearningRateScheduler reducing learning rate to 0.0010000000474974513.\n",
            "Epoch 48/100\n",
            "59648/60000 [============================>.] - ETA: 0s - loss: 0.0698 - acc: 0.9746"
          ],
          "name": "stdout"
        },
        {
          "output_type": "stream",
          "text": [
            "W0824 06:41:23.560649 140464170198912 callbacks.py:989] Can save best model only with accuracy available, skipping.\n"
          ],
          "name": "stderr"
        },
        {
          "output_type": "stream",
          "text": [
            "60000/60000 [==============================] - 5s 87us/sample - loss: 0.0698 - acc: 0.9745 - val_loss: 0.2551 - val_acc: 0.9367\n",
            "\n",
            "Epoch 00049: LearningRateScheduler reducing learning rate to 0.0010000000474974513.\n",
            "Epoch 49/100\n",
            "59648/60000 [============================>.] - ETA: 0s - loss: 0.0651 - acc: 0.9753"
          ],
          "name": "stdout"
        },
        {
          "output_type": "stream",
          "text": [
            "W0824 06:41:28.797736 140464170198912 callbacks.py:989] Can save best model only with accuracy available, skipping.\n"
          ],
          "name": "stderr"
        },
        {
          "output_type": "stream",
          "text": [
            "60000/60000 [==============================] - 5s 87us/sample - loss: 0.0650 - acc: 0.9754 - val_loss: 0.2475 - val_acc: 0.9381\n",
            "\n",
            "Epoch 00050: LearningRateScheduler reducing learning rate to 0.0010000000474974513.\n",
            "Epoch 50/100\n",
            "59648/60000 [============================>.] - ETA: 0s - loss: 0.0643 - acc: 0.9768"
          ],
          "name": "stdout"
        },
        {
          "output_type": "stream",
          "text": [
            "W0824 06:41:34.054776 140464170198912 callbacks.py:989] Can save best model only with accuracy available, skipping.\n"
          ],
          "name": "stderr"
        },
        {
          "output_type": "stream",
          "text": [
            "60000/60000 [==============================] - 5s 87us/sample - loss: 0.0642 - acc: 0.9767 - val_loss: 0.2466 - val_acc: 0.9399\n",
            "\n",
            "Epoch 00051: LearningRateScheduler reducing learning rate to 0.0010000000474974513.\n",
            "Epoch 51/100\n",
            "59520/60000 [============================>.] - ETA: 0s - loss: 0.0660 - acc: 0.9754"
          ],
          "name": "stdout"
        },
        {
          "output_type": "stream",
          "text": [
            "W0824 06:41:39.290106 140464170198912 callbacks.py:989] Can save best model only with accuracy available, skipping.\n"
          ],
          "name": "stderr"
        },
        {
          "output_type": "stream",
          "text": [
            "60000/60000 [==============================] - 5s 87us/sample - loss: 0.0659 - acc: 0.9754 - val_loss: 0.2582 - val_acc: 0.9383\n",
            "\n",
            "Epoch 00052: LearningRateScheduler reducing learning rate to 0.0010000000474974513.\n",
            "Epoch 52/100\n",
            "59648/60000 [============================>.] - ETA: 0s - loss: 0.0668 - acc: 0.9749"
          ],
          "name": "stdout"
        },
        {
          "output_type": "stream",
          "text": [
            "W0824 06:41:44.504002 140464170198912 callbacks.py:989] Can save best model only with accuracy available, skipping.\n"
          ],
          "name": "stderr"
        },
        {
          "output_type": "stream",
          "text": [
            "60000/60000 [==============================] - 5s 87us/sample - loss: 0.0667 - acc: 0.9750 - val_loss: 0.2412 - val_acc: 0.9372\n",
            "\n",
            "Epoch 00053: LearningRateScheduler reducing learning rate to 0.0010000000474974513.\n",
            "Epoch 53/100\n",
            "59520/60000 [============================>.] - ETA: 0s - loss: 0.0660 - acc: 0.9748"
          ],
          "name": "stdout"
        },
        {
          "output_type": "stream",
          "text": [
            "W0824 06:41:49.717758 140464170198912 callbacks.py:989] Can save best model only with accuracy available, skipping.\n"
          ],
          "name": "stderr"
        },
        {
          "output_type": "stream",
          "text": [
            "60000/60000 [==============================] - 5s 87us/sample - loss: 0.0661 - acc: 0.9747 - val_loss: 0.2513 - val_acc: 0.9394\n",
            "\n",
            "Epoch 00054: LearningRateScheduler reducing learning rate to 0.0010000000474974513.\n",
            "Epoch 54/100\n",
            "59648/60000 [============================>.] - ETA: 0s - loss: 0.0634 - acc: 0.9766"
          ],
          "name": "stdout"
        },
        {
          "output_type": "stream",
          "text": [
            "W0824 06:41:54.982912 140464170198912 callbacks.py:989] Can save best model only with accuracy available, skipping.\n"
          ],
          "name": "stderr"
        },
        {
          "output_type": "stream",
          "text": [
            "60000/60000 [==============================] - 5s 88us/sample - loss: 0.0633 - acc: 0.9767 - val_loss: 0.2451 - val_acc: 0.9404\n",
            "\n",
            "Epoch 00055: LearningRateScheduler reducing learning rate to 0.0010000000474974513.\n",
            "Epoch 55/100\n",
            "59648/60000 [============================>.] - ETA: 0s - loss: 0.0649 - acc: 0.9755"
          ],
          "name": "stdout"
        },
        {
          "output_type": "stream",
          "text": [
            "W0824 06:42:00.248522 140464170198912 callbacks.py:989] Can save best model only with accuracy available, skipping.\n"
          ],
          "name": "stderr"
        },
        {
          "output_type": "stream",
          "text": [
            "60000/60000 [==============================] - 5s 88us/sample - loss: 0.0653 - acc: 0.9754 - val_loss: 0.2649 - val_acc: 0.9354\n",
            "\n",
            "Epoch 00056: LearningRateScheduler reducing learning rate to 0.0010000000474974513.\n",
            "Epoch 56/100\n",
            "59648/60000 [============================>.] - ETA: 0s - loss: 0.0645 - acc: 0.9762"
          ],
          "name": "stdout"
        },
        {
          "output_type": "stream",
          "text": [
            "W0824 06:42:05.493670 140464170198912 callbacks.py:989] Can save best model only with accuracy available, skipping.\n"
          ],
          "name": "stderr"
        },
        {
          "output_type": "stream",
          "text": [
            "60000/60000 [==============================] - 5s 87us/sample - loss: 0.0643 - acc: 0.9762 - val_loss: 0.2784 - val_acc: 0.9343\n",
            "\n",
            "Epoch 00057: LearningRateScheduler reducing learning rate to 0.0010000000474974513.\n",
            "Epoch 57/100\n",
            "59648/60000 [============================>.] - ETA: 0s - loss: 0.0668 - acc: 0.9755"
          ],
          "name": "stdout"
        },
        {
          "output_type": "stream",
          "text": [
            "W0824 06:42:10.740394 140464170198912 callbacks.py:989] Can save best model only with accuracy available, skipping.\n"
          ],
          "name": "stderr"
        },
        {
          "output_type": "stream",
          "text": [
            "60000/60000 [==============================] - 5s 87us/sample - loss: 0.0668 - acc: 0.9755 - val_loss: 0.2385 - val_acc: 0.9388\n",
            "\n",
            "Epoch 00058: LearningRateScheduler reducing learning rate to 0.0010000000474974513.\n",
            "Epoch 58/100\n",
            "59648/60000 [============================>.] - ETA: 0s - loss: 0.0610 - acc: 0.9771"
          ],
          "name": "stdout"
        },
        {
          "output_type": "stream",
          "text": [
            "W0824 06:42:16.002264 140464170198912 callbacks.py:989] Can save best model only with accuracy available, skipping.\n"
          ],
          "name": "stderr"
        },
        {
          "output_type": "stream",
          "text": [
            "60000/60000 [==============================] - 5s 88us/sample - loss: 0.0610 - acc: 0.9771 - val_loss: 0.2687 - val_acc: 0.9357\n",
            "\n",
            "Epoch 00059: LearningRateScheduler reducing learning rate to 0.0010000000474974513.\n",
            "Epoch 59/100\n",
            "59648/60000 [============================>.] - ETA: 0s - loss: 0.0609 - acc: 0.9774"
          ],
          "name": "stdout"
        },
        {
          "output_type": "stream",
          "text": [
            "W0824 06:42:21.258745 140464170198912 callbacks.py:989] Can save best model only with accuracy available, skipping.\n"
          ],
          "name": "stderr"
        },
        {
          "output_type": "stream",
          "text": [
            "60000/60000 [==============================] - 5s 88us/sample - loss: 0.0610 - acc: 0.9774 - val_loss: 0.2500 - val_acc: 0.9380\n",
            "\n",
            "Epoch 00060: LearningRateScheduler reducing learning rate to 0.0010000000474974513.\n",
            "Epoch 60/100\n",
            "59648/60000 [============================>.] - ETA: 0s - loss: 0.0615 - acc: 0.9775"
          ],
          "name": "stdout"
        },
        {
          "output_type": "stream",
          "text": [
            "W0824 06:42:26.524380 140464170198912 callbacks.py:989] Can save best model only with accuracy available, skipping.\n"
          ],
          "name": "stderr"
        },
        {
          "output_type": "stream",
          "text": [
            "60000/60000 [==============================] - 5s 88us/sample - loss: 0.0615 - acc: 0.9776 - val_loss: 0.2553 - val_acc: 0.9393\n",
            "\n",
            "Epoch 00061: LearningRateScheduler reducing learning rate to 0.0010000000474974513.\n",
            "Epoch 61/100\n",
            "59648/60000 [============================>.] - ETA: 0s - loss: 0.0608 - acc: 0.9774"
          ],
          "name": "stdout"
        },
        {
          "output_type": "stream",
          "text": [
            "W0824 06:42:31.787203 140464170198912 callbacks.py:989] Can save best model only with accuracy available, skipping.\n"
          ],
          "name": "stderr"
        },
        {
          "output_type": "stream",
          "text": [
            "60000/60000 [==============================] - 5s 88us/sample - loss: 0.0610 - acc: 0.9773 - val_loss: 0.2583 - val_acc: 0.9399\n",
            "\n",
            "Epoch 00062: LearningRateScheduler reducing learning rate to 0.0010000000474974513.\n",
            "Epoch 62/100\n",
            "59648/60000 [============================>.] - ETA: 0s - loss: 0.0574 - acc: 0.9793"
          ],
          "name": "stdout"
        },
        {
          "output_type": "stream",
          "text": [
            "W0824 06:42:37.048836 140464170198912 callbacks.py:989] Can save best model only with accuracy available, skipping.\n"
          ],
          "name": "stderr"
        },
        {
          "output_type": "stream",
          "text": [
            "60000/60000 [==============================] - 5s 88us/sample - loss: 0.0579 - acc: 0.9792 - val_loss: 0.2793 - val_acc: 0.9362\n",
            "\n",
            "Epoch 00063: LearningRateScheduler reducing learning rate to 0.0010000000474974513.\n",
            "Epoch 63/100\n",
            "59520/60000 [============================>.] - ETA: 0s - loss: 0.0641 - acc: 0.9767"
          ],
          "name": "stdout"
        },
        {
          "output_type": "stream",
          "text": [
            "W0824 06:42:42.306648 140464170198912 callbacks.py:989] Can save best model only with accuracy available, skipping.\n"
          ],
          "name": "stderr"
        },
        {
          "output_type": "stream",
          "text": [
            "60000/60000 [==============================] - 5s 87us/sample - loss: 0.0639 - acc: 0.9767 - val_loss: 0.2655 - val_acc: 0.9383\n",
            "\n",
            "Epoch 00064: LearningRateScheduler reducing learning rate to 0.0010000000474974513.\n",
            "Epoch 64/100\n",
            "59648/60000 [============================>.] - ETA: 0s - loss: 0.0573 - acc: 0.9787"
          ],
          "name": "stdout"
        },
        {
          "output_type": "stream",
          "text": [
            "W0824 06:42:47.573805 140464170198912 callbacks.py:989] Can save best model only with accuracy available, skipping.\n"
          ],
          "name": "stderr"
        },
        {
          "output_type": "stream",
          "text": [
            "60000/60000 [==============================] - 5s 88us/sample - loss: 0.0572 - acc: 0.9787 - val_loss: 0.2664 - val_acc: 0.9363\n",
            "\n",
            "Epoch 00065: LearningRateScheduler reducing learning rate to 0.0010000000474974513.\n",
            "Epoch 65/100\n",
            "59648/60000 [============================>.] - ETA: 0s - loss: 0.0611 - acc: 0.9775"
          ],
          "name": "stdout"
        },
        {
          "output_type": "stream",
          "text": [
            "W0824 06:42:52.823193 140464170198912 callbacks.py:989] Can save best model only with accuracy available, skipping.\n"
          ],
          "name": "stderr"
        },
        {
          "output_type": "stream",
          "text": [
            "60000/60000 [==============================] - 5s 87us/sample - loss: 0.0612 - acc: 0.9775 - val_loss: 0.2465 - val_acc: 0.9392\n",
            "\n",
            "Epoch 00066: LearningRateScheduler reducing learning rate to 0.0010000000474974513.\n",
            "Epoch 66/100\n",
            "59648/60000 [============================>.] - ETA: 0s - loss: 0.0597 - acc: 0.9775"
          ],
          "name": "stdout"
        },
        {
          "output_type": "stream",
          "text": [
            "W0824 06:42:58.065376 140464170198912 callbacks.py:989] Can save best model only with accuracy available, skipping.\n"
          ],
          "name": "stderr"
        },
        {
          "output_type": "stream",
          "text": [
            "60000/60000 [==============================] - 5s 87us/sample - loss: 0.0597 - acc: 0.9775 - val_loss: 0.2521 - val_acc: 0.9399\n",
            "\n",
            "Epoch 00067: LearningRateScheduler reducing learning rate to 0.0010000000474974513.\n",
            "Epoch 67/100\n",
            "59648/60000 [============================>.] - ETA: 0s - loss: 0.0606 - acc: 0.9778"
          ],
          "name": "stdout"
        },
        {
          "output_type": "stream",
          "text": [
            "W0824 06:43:03.328233 140464170198912 callbacks.py:989] Can save best model only with accuracy available, skipping.\n"
          ],
          "name": "stderr"
        },
        {
          "output_type": "stream",
          "text": [
            "60000/60000 [==============================] - 5s 88us/sample - loss: 0.0607 - acc: 0.9778 - val_loss: 0.2660 - val_acc: 0.9380\n",
            "\n",
            "Epoch 00068: LearningRateScheduler reducing learning rate to 0.0010000000474974513.\n",
            "Epoch 68/100\n",
            "59520/60000 [============================>.] - ETA: 0s - loss: 0.0565 - acc: 0.9796"
          ],
          "name": "stdout"
        },
        {
          "output_type": "stream",
          "text": [
            "W0824 06:43:08.570694 140464170198912 callbacks.py:989] Can save best model only with accuracy available, skipping.\n"
          ],
          "name": "stderr"
        },
        {
          "output_type": "stream",
          "text": [
            "60000/60000 [==============================] - 5s 87us/sample - loss: 0.0565 - acc: 0.9796 - val_loss: 0.2579 - val_acc: 0.9399\n",
            "\n",
            "Epoch 00069: LearningRateScheduler reducing learning rate to 0.0010000000474974513.\n",
            "Epoch 69/100\n",
            "59648/60000 [============================>.] - ETA: 0s - loss: 0.0567 - acc: 0.9795"
          ],
          "name": "stdout"
        },
        {
          "output_type": "stream",
          "text": [
            "W0824 06:43:13.833300 140464170198912 callbacks.py:989] Can save best model only with accuracy available, skipping.\n"
          ],
          "name": "stderr"
        },
        {
          "output_type": "stream",
          "text": [
            "60000/60000 [==============================] - 5s 88us/sample - loss: 0.0568 - acc: 0.9794 - val_loss: 0.2687 - val_acc: 0.9391\n",
            "\n",
            "Epoch 00070: LearningRateScheduler reducing learning rate to 0.0010000000474974513.\n",
            "Epoch 70/100\n",
            "59648/60000 [============================>.] - ETA: 0s - loss: 0.0578 - acc: 0.9791"
          ],
          "name": "stdout"
        },
        {
          "output_type": "stream",
          "text": [
            "W0824 06:43:19.100481 140464170198912 callbacks.py:989] Can save best model only with accuracy available, skipping.\n"
          ],
          "name": "stderr"
        },
        {
          "output_type": "stream",
          "text": [
            "60000/60000 [==============================] - 5s 88us/sample - loss: 0.0578 - acc: 0.9790 - val_loss: 0.2529 - val_acc: 0.9407\n",
            "\n",
            "Epoch 00071: LearningRateScheduler reducing learning rate to 0.0010000000474974513.\n",
            "Epoch 71/100\n",
            "59648/60000 [============================>.] - ETA: 0s - loss: 0.0562 - acc: 0.9792"
          ],
          "name": "stdout"
        },
        {
          "output_type": "stream",
          "text": [
            "W0824 06:43:24.368102 140464170198912 callbacks.py:989] Can save best model only with accuracy available, skipping.\n"
          ],
          "name": "stderr"
        },
        {
          "output_type": "stream",
          "text": [
            "60000/60000 [==============================] - 5s 88us/sample - loss: 0.0563 - acc: 0.9792 - val_loss: 0.2579 - val_acc: 0.9382\n",
            "\n",
            "Epoch 00072: LearningRateScheduler reducing learning rate to 0.0010000000474974513.\n",
            "Epoch 72/100\n",
            "59648/60000 [============================>.] - ETA: 0s - loss: 0.0572 - acc: 0.9790"
          ],
          "name": "stdout"
        },
        {
          "output_type": "stream",
          "text": [
            "W0824 06:43:29.609251 140464170198912 callbacks.py:989] Can save best model only with accuracy available, skipping.\n"
          ],
          "name": "stderr"
        },
        {
          "output_type": "stream",
          "text": [
            "60000/60000 [==============================] - 5s 87us/sample - loss: 0.0572 - acc: 0.9790 - val_loss: 0.2663 - val_acc: 0.9362\n",
            "\n",
            "Epoch 00073: LearningRateScheduler reducing learning rate to 0.0010000000474974513.\n",
            "Epoch 73/100\n",
            "59648/60000 [============================>.] - ETA: 0s - loss: 0.0550 - acc: 0.9800"
          ],
          "name": "stdout"
        },
        {
          "output_type": "stream",
          "text": [
            "W0824 06:43:34.859732 140464170198912 callbacks.py:989] Can save best model only with accuracy available, skipping.\n"
          ],
          "name": "stderr"
        },
        {
          "output_type": "stream",
          "text": [
            "60000/60000 [==============================] - 5s 87us/sample - loss: 0.0550 - acc: 0.9800 - val_loss: 0.2681 - val_acc: 0.9374\n",
            "\n",
            "Epoch 00074: LearningRateScheduler reducing learning rate to 0.0010000000474974513.\n",
            "Epoch 74/100\n",
            "59648/60000 [============================>.] - ETA: 0s - loss: 0.0572 - acc: 0.9791"
          ],
          "name": "stdout"
        },
        {
          "output_type": "stream",
          "text": [
            "W0824 06:43:40.139201 140464170198912 callbacks.py:989] Can save best model only with accuracy available, skipping.\n"
          ],
          "name": "stderr"
        },
        {
          "output_type": "stream",
          "text": [
            "60000/60000 [==============================] - 5s 88us/sample - loss: 0.0572 - acc: 0.9791 - val_loss: 0.2834 - val_acc: 0.9371\n",
            "\n",
            "Epoch 00075: LearningRateScheduler reducing learning rate to 0.0010000000474974513.\n",
            "Epoch 75/100\n",
            "59648/60000 [============================>.] - ETA: 0s - loss: 0.0538 - acc: 0.9803"
          ],
          "name": "stdout"
        },
        {
          "output_type": "stream",
          "text": [
            "W0824 06:43:45.373076 140464170198912 callbacks.py:989] Can save best model only with accuracy available, skipping.\n"
          ],
          "name": "stderr"
        },
        {
          "output_type": "stream",
          "text": [
            "60000/60000 [==============================] - 5s 87us/sample - loss: 0.0536 - acc: 0.9803 - val_loss: 0.2828 - val_acc: 0.9374\n",
            "\n",
            "Epoch 00076: LearningRateScheduler reducing learning rate to 0.0010000000474974513.\n",
            "Epoch 76/100\n",
            "59648/60000 [============================>.] - ETA: 0s - loss: 0.0537 - acc: 0.9809"
          ],
          "name": "stdout"
        },
        {
          "output_type": "stream",
          "text": [
            "W0824 06:43:50.646327 140464170198912 callbacks.py:989] Can save best model only with accuracy available, skipping.\n"
          ],
          "name": "stderr"
        },
        {
          "output_type": "stream",
          "text": [
            "60000/60000 [==============================] - 5s 88us/sample - loss: 0.0537 - acc: 0.9809 - val_loss: 0.2937 - val_acc: 0.9369\n",
            "\n",
            "Epoch 00077: LearningRateScheduler reducing learning rate to 0.0010000000474974513.\n",
            "Epoch 77/100\n",
            "59648/60000 [============================>.] - ETA: 0s - loss: 0.0549 - acc: 0.9804"
          ],
          "name": "stdout"
        },
        {
          "output_type": "stream",
          "text": [
            "W0824 06:43:55.908066 140464170198912 callbacks.py:989] Can save best model only with accuracy available, skipping.\n"
          ],
          "name": "stderr"
        },
        {
          "output_type": "stream",
          "text": [
            "60000/60000 [==============================] - 5s 88us/sample - loss: 0.0550 - acc: 0.9804 - val_loss: 0.2773 - val_acc: 0.9396\n",
            "\n",
            "Epoch 00078: LearningRateScheduler reducing learning rate to 0.0010000000474974513.\n",
            "Epoch 78/100\n",
            "59648/60000 [============================>.] - ETA: 0s - loss: 0.0549 - acc: 0.9802"
          ],
          "name": "stdout"
        },
        {
          "output_type": "stream",
          "text": [
            "W0824 06:44:01.182967 140464170198912 callbacks.py:989] Can save best model only with accuracy available, skipping.\n"
          ],
          "name": "stderr"
        },
        {
          "output_type": "stream",
          "text": [
            "60000/60000 [==============================] - 5s 88us/sample - loss: 0.0549 - acc: 0.9803 - val_loss: 0.3054 - val_acc: 0.9369\n",
            "\n",
            "Epoch 00079: LearningRateScheduler reducing learning rate to 0.0010000000474974513.\n",
            "Epoch 79/100\n",
            "59648/60000 [============================>.] - ETA: 0s - loss: 0.0548 - acc: 0.9800"
          ],
          "name": "stdout"
        },
        {
          "output_type": "stream",
          "text": [
            "W0824 06:44:06.434965 140464170198912 callbacks.py:989] Can save best model only with accuracy available, skipping.\n"
          ],
          "name": "stderr"
        },
        {
          "output_type": "stream",
          "text": [
            "60000/60000 [==============================] - 5s 87us/sample - loss: 0.0548 - acc: 0.9800 - val_loss: 0.2814 - val_acc: 0.9370\n",
            "\n",
            "Epoch 00080: LearningRateScheduler reducing learning rate to 0.0010000000474974513.\n",
            "Epoch 80/100\n",
            "59648/60000 [============================>.] - ETA: 0s - loss: 0.0533 - acc: 0.9806"
          ],
          "name": "stdout"
        },
        {
          "output_type": "stream",
          "text": [
            "W0824 06:44:11.695151 140464170198912 callbacks.py:989] Can save best model only with accuracy available, skipping.\n"
          ],
          "name": "stderr"
        },
        {
          "output_type": "stream",
          "text": [
            "60000/60000 [==============================] - 5s 88us/sample - loss: 0.0534 - acc: 0.9806 - val_loss: 0.2958 - val_acc: 0.9380\n",
            "\n",
            "Epoch 00081: LearningRateScheduler reducing learning rate to 0.0010000000474974513.\n",
            "Epoch 81/100\n",
            "59648/60000 [============================>.] - ETA: 0s - loss: 0.0517 - acc: 0.9817"
          ],
          "name": "stdout"
        },
        {
          "output_type": "stream",
          "text": [
            "W0824 06:44:16.924908 140464170198912 callbacks.py:989] Can save best model only with accuracy available, skipping.\n"
          ],
          "name": "stderr"
        },
        {
          "output_type": "stream",
          "text": [
            "60000/60000 [==============================] - 5s 87us/sample - loss: 0.0516 - acc: 0.9818 - val_loss: 0.2770 - val_acc: 0.9383\n",
            "\n",
            "Epoch 00082: LearningRateScheduler reducing learning rate to 0.0010000000474974513.\n",
            "Epoch 82/100\n",
            "59648/60000 [============================>.] - ETA: 0s - loss: 0.0544 - acc: 0.9804"
          ],
          "name": "stdout"
        },
        {
          "output_type": "stream",
          "text": [
            "W0824 06:44:22.178598 140464170198912 callbacks.py:989] Can save best model only with accuracy available, skipping.\n"
          ],
          "name": "stderr"
        },
        {
          "output_type": "stream",
          "text": [
            "60000/60000 [==============================] - 5s 87us/sample - loss: 0.0545 - acc: 0.9804 - val_loss: 0.2819 - val_acc: 0.9359\n",
            "\n",
            "Epoch 00083: LearningRateScheduler reducing learning rate to 0.0010000000474974513.\n",
            "Epoch 83/100\n",
            "59648/60000 [============================>.] - ETA: 0s - loss: 0.0518 - acc: 0.9807"
          ],
          "name": "stdout"
        },
        {
          "output_type": "stream",
          "text": [
            "W0824 06:44:27.453028 140464170198912 callbacks.py:989] Can save best model only with accuracy available, skipping.\n"
          ],
          "name": "stderr"
        },
        {
          "output_type": "stream",
          "text": [
            "60000/60000 [==============================] - 5s 88us/sample - loss: 0.0518 - acc: 0.9807 - val_loss: 0.2850 - val_acc: 0.9396\n",
            "\n",
            "Epoch 00084: LearningRateScheduler reducing learning rate to 0.0010000000474974513.\n",
            "Epoch 84/100\n",
            "59648/60000 [============================>.] - ETA: 0s - loss: 0.0525 - acc: 0.9812"
          ],
          "name": "stdout"
        },
        {
          "output_type": "stream",
          "text": [
            "W0824 06:44:32.717514 140464170198912 callbacks.py:989] Can save best model only with accuracy available, skipping.\n"
          ],
          "name": "stderr"
        },
        {
          "output_type": "stream",
          "text": [
            "60000/60000 [==============================] - 5s 88us/sample - loss: 0.0526 - acc: 0.9812 - val_loss: 0.2877 - val_acc: 0.9360\n",
            "\n",
            "Epoch 00085: LearningRateScheduler reducing learning rate to 0.0010000000474974513.\n",
            "Epoch 85/100\n",
            "59648/60000 [============================>.] - ETA: 0s - loss: 0.0506 - acc: 0.9813"
          ],
          "name": "stdout"
        },
        {
          "output_type": "stream",
          "text": [
            "W0824 06:44:38.013337 140464170198912 callbacks.py:989] Can save best model only with accuracy available, skipping.\n"
          ],
          "name": "stderr"
        },
        {
          "output_type": "stream",
          "text": [
            "60000/60000 [==============================] - 5s 88us/sample - loss: 0.0504 - acc: 0.9814 - val_loss: 0.3057 - val_acc: 0.9368\n",
            "\n",
            "Epoch 00086: LearningRateScheduler reducing learning rate to 0.0010000000474974513.\n",
            "Epoch 86/100\n",
            "59648/60000 [============================>.] - ETA: 0s - loss: 0.0511 - acc: 0.9816"
          ],
          "name": "stdout"
        },
        {
          "output_type": "stream",
          "text": [
            "W0824 06:44:43.252684 140464170198912 callbacks.py:989] Can save best model only with accuracy available, skipping.\n"
          ],
          "name": "stderr"
        },
        {
          "output_type": "stream",
          "text": [
            "60000/60000 [==============================] - 5s 87us/sample - loss: 0.0510 - acc: 0.9816 - val_loss: 0.3066 - val_acc: 0.9377\n",
            "\n",
            "Epoch 00087: LearningRateScheduler reducing learning rate to 0.0010000000474974513.\n",
            "Epoch 87/100\n",
            "59648/60000 [============================>.] - ETA: 0s - loss: 0.0532 - acc: 0.9812"
          ],
          "name": "stdout"
        },
        {
          "output_type": "stream",
          "text": [
            "W0824 06:44:48.500360 140464170198912 callbacks.py:989] Can save best model only with accuracy available, skipping.\n"
          ],
          "name": "stderr"
        },
        {
          "output_type": "stream",
          "text": [
            "60000/60000 [==============================] - 5s 87us/sample - loss: 0.0532 - acc: 0.9812 - val_loss: 0.2995 - val_acc: 0.9347\n",
            "\n",
            "Epoch 00088: LearningRateScheduler reducing learning rate to 0.0010000000474974513.\n",
            "Epoch 88/100\n",
            "59648/60000 [============================>.] - ETA: 0s - loss: 0.0538 - acc: 0.9800"
          ],
          "name": "stdout"
        },
        {
          "output_type": "stream",
          "text": [
            "W0824 06:44:53.751665 140464170198912 callbacks.py:989] Can save best model only with accuracy available, skipping.\n"
          ],
          "name": "stderr"
        },
        {
          "output_type": "stream",
          "text": [
            "60000/60000 [==============================] - 5s 87us/sample - loss: 0.0538 - acc: 0.9799 - val_loss: 0.2952 - val_acc: 0.9344\n",
            "\n",
            "Epoch 00089: LearningRateScheduler reducing learning rate to 0.0010000000474974513.\n",
            "Epoch 89/100\n",
            "59648/60000 [============================>.] - ETA: 0s - loss: 0.0514 - acc: 0.9817"
          ],
          "name": "stdout"
        },
        {
          "output_type": "stream",
          "text": [
            "W0824 06:44:58.987830 140464170198912 callbacks.py:989] Can save best model only with accuracy available, skipping.\n"
          ],
          "name": "stderr"
        },
        {
          "output_type": "stream",
          "text": [
            "60000/60000 [==============================] - 5s 87us/sample - loss: 0.0517 - acc: 0.9816 - val_loss: 0.2725 - val_acc: 0.9375\n",
            "\n",
            "Epoch 00090: LearningRateScheduler reducing learning rate to 0.0010000000474974513.\n",
            "Epoch 90/100\n",
            "59648/60000 [============================>.] - ETA: 0s - loss: 0.0522 - acc: 0.9806"
          ],
          "name": "stdout"
        },
        {
          "output_type": "stream",
          "text": [
            "W0824 06:45:04.237303 140464170198912 callbacks.py:989] Can save best model only with accuracy available, skipping.\n"
          ],
          "name": "stderr"
        },
        {
          "output_type": "stream",
          "text": [
            "60000/60000 [==============================] - 5s 87us/sample - loss: 0.0523 - acc: 0.9805 - val_loss: 0.2866 - val_acc: 0.9381\n",
            "\n",
            "Epoch 00091: LearningRateScheduler reducing learning rate to 0.00010000000474974513.\n",
            "Epoch 91/100\n",
            "59648/60000 [============================>.] - ETA: 0s - loss: 0.0418 - acc: 0.9845"
          ],
          "name": "stdout"
        },
        {
          "output_type": "stream",
          "text": [
            "W0824 06:45:09.500906 140464170198912 callbacks.py:989] Can save best model only with accuracy available, skipping.\n"
          ],
          "name": "stderr"
        },
        {
          "output_type": "stream",
          "text": [
            "60000/60000 [==============================] - 5s 88us/sample - loss: 0.0418 - acc: 0.9845 - val_loss: 0.2901 - val_acc: 0.9402\n",
            "\n",
            "Epoch 00092: LearningRateScheduler reducing learning rate to 0.00010000000474974513.\n",
            "Epoch 92/100\n",
            "59648/60000 [============================>.] - ETA: 0s - loss: 0.0341 - acc: 0.9881"
          ],
          "name": "stdout"
        },
        {
          "output_type": "stream",
          "text": [
            "W0824 06:45:14.735564 140464170198912 callbacks.py:989] Can save best model only with accuracy available, skipping.\n"
          ],
          "name": "stderr"
        },
        {
          "output_type": "stream",
          "text": [
            "60000/60000 [==============================] - 5s 87us/sample - loss: 0.0341 - acc: 0.9881 - val_loss: 0.2834 - val_acc: 0.9403\n",
            "\n",
            "Epoch 00093: LearningRateScheduler reducing learning rate to 0.00010000000474974513.\n",
            "Epoch 93/100\n",
            "59648/60000 [============================>.] - ETA: 0s - loss: 0.0327 - acc: 0.9879"
          ],
          "name": "stdout"
        },
        {
          "output_type": "stream",
          "text": [
            "W0824 06:45:19.992572 140464170198912 callbacks.py:989] Can save best model only with accuracy available, skipping.\n"
          ],
          "name": "stderr"
        },
        {
          "output_type": "stream",
          "text": [
            "60000/60000 [==============================] - 5s 88us/sample - loss: 0.0327 - acc: 0.9879 - val_loss: 0.2899 - val_acc: 0.9404\n",
            "\n",
            "Epoch 00094: LearningRateScheduler reducing learning rate to 0.00010000000474974513.\n",
            "Epoch 94/100\n",
            "59648/60000 [============================>.] - ETA: 0s - loss: 0.0316 - acc: 0.9887"
          ],
          "name": "stdout"
        },
        {
          "output_type": "stream",
          "text": [
            "W0824 06:45:25.228526 140464170198912 callbacks.py:989] Can save best model only with accuracy available, skipping.\n"
          ],
          "name": "stderr"
        },
        {
          "output_type": "stream",
          "text": [
            "60000/60000 [==============================] - 5s 87us/sample - loss: 0.0316 - acc: 0.9887 - val_loss: 0.2974 - val_acc: 0.9409\n",
            "\n",
            "Epoch 00095: LearningRateScheduler reducing learning rate to 0.00010000000474974513.\n",
            "Epoch 95/100\n",
            "59648/60000 [============================>.] - ETA: 0s - loss: 0.0303 - acc: 0.9895"
          ],
          "name": "stdout"
        },
        {
          "output_type": "stream",
          "text": [
            "W0824 06:45:30.458329 140464170198912 callbacks.py:989] Can save best model only with accuracy available, skipping.\n"
          ],
          "name": "stderr"
        },
        {
          "output_type": "stream",
          "text": [
            "60000/60000 [==============================] - 5s 87us/sample - loss: 0.0304 - acc: 0.9895 - val_loss: 0.2951 - val_acc: 0.9410\n",
            "\n",
            "Epoch 00096: LearningRateScheduler reducing learning rate to 0.00010000000474974513.\n",
            "Epoch 96/100\n",
            "59648/60000 [============================>.] - ETA: 0s - loss: 0.0287 - acc: 0.9896"
          ],
          "name": "stdout"
        },
        {
          "output_type": "stream",
          "text": [
            "W0824 06:45:35.682458 140464170198912 callbacks.py:989] Can save best model only with accuracy available, skipping.\n"
          ],
          "name": "stderr"
        },
        {
          "output_type": "stream",
          "text": [
            "60000/60000 [==============================] - 5s 87us/sample - loss: 0.0287 - acc: 0.9896 - val_loss: 0.3065 - val_acc: 0.9405\n",
            "\n",
            "Epoch 00097: LearningRateScheduler reducing learning rate to 0.00010000000474974513.\n",
            "Epoch 97/100\n",
            "59648/60000 [============================>.] - ETA: 0s - loss: 0.0284 - acc: 0.9901"
          ],
          "name": "stdout"
        },
        {
          "output_type": "stream",
          "text": [
            "W0824 06:45:40.968041 140464170198912 callbacks.py:989] Can save best model only with accuracy available, skipping.\n"
          ],
          "name": "stderr"
        },
        {
          "output_type": "stream",
          "text": [
            "60000/60000 [==============================] - 5s 88us/sample - loss: 0.0284 - acc: 0.9901 - val_loss: 0.3086 - val_acc: 0.9407\n",
            "\n",
            "Epoch 00098: LearningRateScheduler reducing learning rate to 0.00010000000474974513.\n",
            "Epoch 98/100\n",
            "59648/60000 [============================>.] - ETA: 0s - loss: 0.0284 - acc: 0.9895"
          ],
          "name": "stdout"
        },
        {
          "output_type": "stream",
          "text": [
            "W0824 06:45:46.275799 140464170198912 callbacks.py:989] Can save best model only with accuracy available, skipping.\n"
          ],
          "name": "stderr"
        },
        {
          "output_type": "stream",
          "text": [
            "60000/60000 [==============================] - 5s 88us/sample - loss: 0.0283 - acc: 0.9896 - val_loss: 0.3033 - val_acc: 0.9409\n",
            "\n",
            "Epoch 00099: LearningRateScheduler reducing learning rate to 0.00010000000474974513.\n",
            "Epoch 99/100\n",
            "59520/60000 [============================>.] - ETA: 0s - loss: 0.0294 - acc: 0.9891"
          ],
          "name": "stdout"
        },
        {
          "output_type": "stream",
          "text": [
            "W0824 06:45:51.607671 140464170198912 callbacks.py:989] Can save best model only with accuracy available, skipping.\n"
          ],
          "name": "stderr"
        },
        {
          "output_type": "stream",
          "text": [
            "60000/60000 [==============================] - 5s 89us/sample - loss: 0.0294 - acc: 0.9891 - val_loss: 0.3080 - val_acc: 0.9408\n",
            "\n",
            "Epoch 00100: LearningRateScheduler reducing learning rate to 0.00010000000474974513.\n",
            "Epoch 100/100\n",
            "59648/60000 [============================>.] - ETA: 0s - loss: 0.0274 - acc: 0.9901"
          ],
          "name": "stdout"
        },
        {
          "output_type": "stream",
          "text": [
            "W0824 06:45:56.897476 140464170198912 callbacks.py:989] Can save best model only with accuracy available, skipping.\n"
          ],
          "name": "stderr"
        },
        {
          "output_type": "stream",
          "text": [
            "\b\b\b\b\b\b\b\b\b\b\b\b\b\b\b\b\b\b\b\b\b\b\b\b\b\b\b\b\b\b\b\b\b\b\b\b\b\b\b\b\b\b\b\b\b\b\b\b\b\b\b\b\b\b\b\b\b\b\b\b\b\b\b\b\b\b\b\b\b\b\b\b\b\b\b\b\b\b\b\b\b\b\b\r60000/60000 [==============================] - 5s 88us/sample - loss: 0.0274 - acc: 0.9901 - val_loss: 0.3105 - val_acc: 0.9406\n"
          ],
          "name": "stdout"
        },
        {
          "output_type": "execute_result",
          "data": {
            "text/plain": [
              "<tensorflow.python.keras.callbacks.History at 0x7fbf202ff940>"
            ]
          },
          "metadata": {
            "tags": []
          },
          "execution_count": 32
        }
      ]
    },
    {
      "cell_type": "markdown",
      "metadata": {
        "id": "QR9WUYXxqtfR",
        "colab_type": "text"
      },
      "source": [
        "# **4. 모델 저장**"
      ]
    },
    {
      "cell_type": "code",
      "metadata": {
        "id": "Wi9yznz4qvzK",
        "colab_type": "code",
        "colab": {}
      },
      "source": [
        "save_path = '/content/'\n",
        "team_name = 'team01'\n",
        "\n",
        "# 모델의 weight 값만 저장합니다.\n",
        "model.save_weights(save_path + 'model_weight_' + data_type + '_' + team_name + '.h5')\n",
        "\n",
        "# 모델의 구조만을 저장합니다.\n",
        "model_json = model.to_json()\n",
        "with open(save_path + 'model_structure_' + data_type + '_' + team_name + '.json', 'w') as json_file : \n",
        "    json_file.write(model_json)\n",
        "\n",
        "# 트레이닝된 전체 모델을 저장합니다.\n",
        "model.save(save_path +  'model_entire_' + data_type + '_' + team_name + '.h5')"
      ],
      "execution_count": 0,
      "outputs": []
    },
    {
      "cell_type": "markdown",
      "metadata": {
        "id": "1B2BoRDZ7cFl",
        "colab_type": "text"
      },
      "source": [
        "# **5. 모델 로드 및 평가**"
      ]
    },
    {
      "cell_type": "code",
      "metadata": {
        "id": "SDBwxVUx7knQ",
        "colab_type": "code",
        "outputId": "663e4d8c-b524-46f9-c185-4c0fc2ba7af4",
        "colab": {
          "base_uri": "https://localhost:8080/",
          "height": 52
        }
      },
      "source": [
        "save_path = '/content/'\n",
        "team_name = 'team01'\n",
        "\n",
        "model = keras.models.load_model(save_path + 'model_entire_' + data_type + '_' + team_name + '.h5')\n",
        "model.evaluate(x_test_after, y_test)"
      ],
      "execution_count": 36,
      "outputs": [
        {
          "output_type": "stream",
          "text": [
            "10000/10000 [==============================] - 1s 108us/sample - loss: 0.3105 - acc: 0.9406\n"
          ],
          "name": "stdout"
        },
        {
          "output_type": "execute_result",
          "data": {
            "text/plain": [
              "[0.3105372563244775, 0.9406]"
            ]
          },
          "metadata": {
            "tags": []
          },
          "execution_count": 36
        }
      ]
    }
  ]
}