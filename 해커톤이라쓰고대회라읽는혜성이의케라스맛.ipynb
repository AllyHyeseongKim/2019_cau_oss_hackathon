{
  "nbformat": 4,
  "nbformat_minor": 0,
  "metadata": {
    "colab": {
      "name": "해커톤이라쓰고대회라읽는혜성이의케라스맛",
      "version": "0.3.2",
      "provenance": [],
      "collapsed_sections": [],
      "include_colab_link": true
    },
    "kernelspec": {
      "name": "python3",
      "display_name": "Python 3"
    },
    "accelerator": "GPU"
  },
  "cells": [
    {
      "cell_type": "markdown",
      "metadata": {
        "id": "view-in-github",
        "colab_type": "text"
      },
      "source": [
        "<a href=\"https://colab.research.google.com/github/AllyHyeseongKim/2019_cau_oss_hackathon/blob/master/%ED%95%B4%EC%BB%A4%ED%86%A4%EC%9D%B4%EB%9D%BC%EC%93%B0%EA%B3%A0%EB%8C%80%ED%9A%8C%EB%9D%BC%EC%9D%BD%EB%8A%94%ED%98%9C%EC%84%B1%EC%9D%B4%EC%9D%98%EC%BC%80%EB%9D%BC%EC%8A%A4%EB%A7%9B.ipynb\" target=\"_parent\"><img src=\"https://colab.research.google.com/assets/colab-badge.svg\" alt=\"Open In Colab\"/></a>"
      ]
    },
    {
      "cell_type": "markdown",
      "metadata": {
        "id": "1AosAX9DXOlc",
        "colab_type": "text"
      },
      "source": [
        "# **0. 해커톤 진행 주의사항**\n",
        "\n",
        "**1)  개발 관련 주의사항**\n",
        "*   [1. 초기 환경 설정]은 절대 수정하지 말 것\n",
        " *  단, 사용할 데이터셋에 따라 is_mnist만 수정\n",
        "*   모든 구현은 [2. 데이터 전처리]와 [3. 모델 생성]에서만 진행\n",
        " *  데이터 전처리 후 트레이닝, 데이터 셋은 x_train_after, x_test_after 변수명을 유지해주세요.\n",
        " *  데이터셋이 달라져도 같은 모델 구조를 유지하여야함.\n",
        "*   [4. 모델 저장]과 [5. 모델 로드 및 평가]에서 team_name 변수 변경 (예.`team_name = 'team01'`)\n",
        " *  트레이닝 중간에 checkpoint를 활용하여 모델을 저장한 경우에도 파일 이름 양식 통일 필수\n",
        " *  team_name을 제외한 다른 부분은 수정하지 말 것\n",
        "*   Colab 사용중 실수로 데이터 손실이 발생할 수도 있으니 중간 결과값을 github에 업로드 \n",
        " *    \"런타임->모든 런타임 재설정\"은 절대 누르지 말 것 (저장한 모델 데이터가 모두 삭제됨)\n",
        "*   효율적인 구현 및 테스팅을 위해 GPU 가속 기능 활성화\n",
        " *    \"런타임 -> 런타임 유형변경 -> 하드웨어 가속기 -> GPU 설정\"\n",
        "*   주석을 최대한 자세히 작성\n",
        "*   Keras API 관련하여 [Keras Documentation](https://keras.io/) 참조\n",
        "\n",
        "**2) 제출 관련 주의사항**\n",
        "*  제출물\n",
        " *  소스코드 (hackathon_teamXX.ipynb)\n",
        " *  모델 구조 파일 (model_structure_teamXX.json)\n",
        " *  모델 weight 파일 (model_weight_teamXX.h5)\n",
        " *  컴파일된 모델 파일 (model_entire_teamXX.h5)\n",
        "* 제출 기한: **오후 6시**\n",
        "* 제출 방법: [GitHub README](https://github.com/cauosshackathonta/2019_cau_oss_hackathon/) 참조\n",
        "\n",
        " \n",
        "**3) 평가 관련 주의사항**\n",
        "*  모델 성능 = 테스트 데이터 셋 분류 정확도\n",
        " *  model.evaluate(x_test, y_test)\n",
        "*  제출된 모델들의 테스트 데이터 셋 분류 정확도를 기준으로 수상작 결정\n",
        "*  수상 후보들에 대해서는 소스코드를 기반으로 모델 재검증 \n",
        " \n",
        "**4) 수상 실격 사유**\n",
        "*  유사한 소스코드 or 알고리즘이 적발될 경우\n",
        "*  소스코드와 제출된 모델이 상이한 경우\n",
        "*  두 개의 데이터셋에 대해 다른 모델 구조를 사용한 경우\n",
        "*  개발 관련 주의사항을 지키지 않은 경우\n",
        " *  예: [초기 환경 설정]을 수정한 경우\n",
        "*  데이터 셋을 변조한 경우\n",
        " *  예. 테스트 데이터 셋을 트레이닝 데이터 셋에 포함하여 모델 생성 \n",
        "*  주석이 소스코드와 맞지 않거나 미비할 경우\n",
        "\n",
        "\n",
        "\n",
        "\n"
      ]
    },
    {
      "cell_type": "markdown",
      "metadata": {
        "id": "67lwEXhUqys1",
        "colab_type": "text"
      },
      "source": [
        "# **1. 초기 환경 설정**\n",
        "\n"
      ]
    },
    {
      "cell_type": "code",
      "metadata": {
        "id": "Ms5PBBJ1qSC6",
        "colab_type": "code",
        "colab": {}
      },
      "source": [
        "from __future__ import absolute_import, division, print_function, unicode_literals, unicode_literals\n",
        "\n",
        "# tensorflow와 tf.keras 및 관련 라이브러리 임포트\n",
        "import tensorflow as tf\n",
        "from tensorflow import keras\n",
        "from keras.utils import np_utils\n",
        "\n",
        "import numpy as np\n",
        "\n",
        "is_mnist = True;\n",
        "\n",
        "# 데이터셋 로드\n",
        "# x_train, y_train: 트레이닝 데이터 및 레이블\n",
        "# x_test, y_test: 테스트 데이터 및 레이블\n",
        "if is_mnist:\n",
        "  data_type = 'mnist'\n",
        "  (x_train, y_train), (x_test, y_test) = keras.datasets.fashion_mnist.load_data() # fashion MNIST 데이터셋인 경우,\n",
        "else:\n",
        "  data_type = 'cifar10'\n",
        "  (x_train, y_train), (x_test, y_test) = keras.datasets.cifar10.load_data() # cifar10 데이터셋인 경우,\n",
        "\n",
        "\n",
        "# 분류를 위해 클래스 벡터를 바이너리 매트릭스로 변환\n",
        "y_train = np_utils.to_categorical(y_train)\n",
        "y_test = np_utils.to_categorical(y_test)\n",
        "\n",
        "# 총 클래스 개수\n",
        "num_classes = y_test.shape[1]\n",
        "\n",
        "# 인풋 데이터 타입\n",
        "input_shape = x_test.shape[1:]"
      ],
      "execution_count": 0,
      "outputs": []
    },
    {
      "cell_type": "markdown",
      "metadata": {
        "id": "p9c2KLDBIhNQ",
        "colab_type": "text"
      },
      "source": [
        "# **2. 데이터 전처리**\n"
      ]
    },
    {
      "cell_type": "code",
      "metadata": {
        "id": "zJNgjaHvIhSS",
        "colab_type": "code",
        "colab": {}
      },
      "source": [
        "# 데이터 전처리 (예: normalization)\n",
        "x_train_after = x_train / 255.0\n",
        "x_test_after = x_test / 255.0\n",
        "\n",
        "if is_mnist:\n",
        "  x_train_after = x_train_after.reshape(x_train_after.shape[0], 28, 28, 1)\n",
        "  x_test_after = x_test_after.reshape(x_test_after.shape[0], 28, 28, 1)\n",
        "  input_shape = x_test_after.shape[1:]"
      ],
      "execution_count": 0,
      "outputs": []
    },
    {
      "cell_type": "markdown",
      "metadata": {
        "id": "A-YjppJpXBO9",
        "colab_type": "text"
      },
      "source": [
        "# **3. 모델 생성**\n",
        "\n"
      ]
    },
    {
      "cell_type": "code",
      "metadata": {
        "id": "DZP4eRmRqgRp",
        "colab_type": "code",
        "outputId": "bbb4489e-9987-4bb5-bdbe-294c8a458a07",
        "colab": {
          "base_uri": "https://localhost:8080/",
          "height": 1000
        }
      },
      "source": [
        "#혜성\n",
        "#from keras.preprocessing.image import ImageDataGenerator\n",
        "\n",
        "# 순차 모델 생성 (가장 기본구조)\n",
        "model = keras.Sequential()\n",
        "\n",
        "# Convolution layer: 3 x 3 x 32 필터로 특징 추출\n",
        "# 활성화 함수 = relu\n",
        "model.add(keras.layers.Conv2D(32, (3, 3), padding='same', activation='relu', input_shape=input_shape))\n",
        "model.add(keras.layers.Conv2D(32, (3, 3), padding='same', activation='relu'))\n",
        "\n",
        "# MaxPooling layer: 출력 크기를 입력 크기의 반으로\n",
        "model.add(keras.layers.MaxPooling2D(pool_size=(2, 2)))\n",
        "\n",
        "model.add(keras.layers.Dropout(0.25))\n",
        "\n",
        "# Convolution layer: 3 x 3 x 64 필터로 특징 추출\n",
        "# 활성화 함수 = relu\n",
        "model.add(keras.layers.Conv2D(64, (3, 3), padding='same', activation='relu'))\n",
        "model.add(keras.layers.Conv2D(64, (3, 3), padding='same', activation='relu'))\n",
        "\n",
        "# MaxPooling layer: 출력 크기를 입력 크기의 반으로\n",
        "model.add(keras.layers.MaxPooling2D(pool_size=(2, 2)))\n",
        "\n",
        "model.add(keras.layers.Dropout(0.25))\n",
        "\n",
        "# Flatten layer: 7 x 7 x 1 image를 3136개의 1D vector input으로 변환\n",
        "model.add(keras.layers.Flatten())\n",
        "\n",
        "# 1st hidden layer: fully-connected layer\n",
        "# (# of inputs = 3136, # of outputs = 256, actication fuction = relu)\n",
        "model.add(keras.layers.Dense(256, activation='relu'))\n",
        "\n",
        "model.add(keras.layers.Dropout(0.5))\n",
        "\n",
        "# 2nd hidden layer: fully-connected layer \n",
        "# (# of inputs = 256, # of outputs = 10, actication fuction = softmax)\n",
        "model.add(keras.layers.Dense(10, activation='softmax'))\n",
        "\n",
        "# learning rate scheduler 정의\n",
        "# 30 epoch마다 learning rate을 0.1배\n",
        "from tensorflow.keras.callbacks import ModelCheckpoint, LearningRateScheduler\n",
        "from tensorflow.keras import optimizers\n",
        "\n",
        "def lr_scheduler(epoch, lr):\n",
        "    decay_rate = 0.1\n",
        "    decay_step = 90\n",
        "    if epoch % decay_step == 0 and epoch:\n",
        "        return lr * decay_rate\n",
        "    return lr\n",
        "\n",
        "save_path = '/content/'\n",
        "team_name = 'team01'\n",
        "\n",
        "# 모델 컴파일\n",
        "# optimizer: 모델을 업데이트 하는 방식\n",
        "# loss: 모델의 정확도를 판단하는 방식\n",
        "# metrics: 트레이닝 및 테스팅 성능 모니터링을 위한 평가지표\n",
        "\n",
        "# optimizer를 Adam으로 설정\n",
        "adam = optimizers.Adam(lr=0.001, decay=1e-5)\n",
        "model_path = save_path + 'checkpoint' + data_type + '_' + team_name + '.h5'\n",
        "\n",
        "# callback함수로 Checkpoint 객체 설정\n",
        "cb_checkpoint = ModelCheckpoint(filepath=model_path, monitor='accuracy', verbose=1, save_best_only=True)\n",
        "\n",
        "# callback함수 리스트 정의\n",
        "callbacks=[\n",
        "    cb_checkpoint, \n",
        "    LearningRateScheduler(lr_scheduler, verbose=1)\n",
        "]\n",
        "\n",
        "# 모델 호츨 및 컴파일 \n",
        "model.compile(loss='categorical_crossentropy', optimizer=adam, metrics=['accuracy'])\n",
        "\n",
        "# 모델 트레이닝\n",
        "# batch_size: 전체 데이터셋 중 몇개씩 학습시킬 것인지\n",
        "# epoch: 학습에 전체 데이터셋이 총 몇번 이용될 것인지\n",
        "# shuffle: 학습전에 트레이닝 데이터셋을 랜덤하게 섞을 것인지\n",
        "# validation_data: 중간 성능 검증에 사용할 data set\n",
        "model.fit(x_train_after, y_train, batch_size = 128, epochs = 100, shuffle=True, validation_data=[x_test_after, y_test], callbacks=callbacks)"
      ],
      "execution_count": 39,
      "outputs": [
        {
          "output_type": "stream",
          "text": [
            "Train on 60000 samples, validate on 10000 samples\n",
            "\n",
            "Epoch 00001: LearningRateScheduler reducing learning rate to 0.0010000000474974513.\n",
            "Epoch 1/100\n",
            "59648/60000 [============================>.] - ETA: 0s - loss: 0.5303 - acc: 0.8076"
          ],
          "name": "stdout"
        },
        {
          "output_type": "stream",
          "text": [
            "W0824 06:48:08.360749 140464170198912 callbacks.py:989] Can save best model only with accuracy available, skipping.\n"
          ],
          "name": "stderr"
        },
        {
          "output_type": "stream",
          "text": [
            "60000/60000 [==============================] - 6s 102us/sample - loss: 0.5293 - acc: 0.8079 - val_loss: 0.3241 - val_acc: 0.8789\n",
            "\n",
            "Epoch 00002: LearningRateScheduler reducing learning rate to 0.0010000000474974513.\n",
            "Epoch 2/100\n",
            "59648/60000 [============================>.] - ETA: 0s - loss: 0.3194 - acc: 0.8836"
          ],
          "name": "stdout"
        },
        {
          "output_type": "stream",
          "text": [
            "W0824 06:48:13.652235 140464170198912 callbacks.py:989] Can save best model only with accuracy available, skipping.\n"
          ],
          "name": "stderr"
        },
        {
          "output_type": "stream",
          "text": [
            "60000/60000 [==============================] - 5s 88us/sample - loss: 0.3195 - acc: 0.8835 - val_loss: 0.2711 - val_acc: 0.8992\n",
            "\n",
            "Epoch 00003: LearningRateScheduler reducing learning rate to 0.0010000000474974513.\n",
            "Epoch 3/100\n",
            "59520/60000 [============================>.] - ETA: 0s - loss: 0.2710 - acc: 0.9011"
          ],
          "name": "stdout"
        },
        {
          "output_type": "stream",
          "text": [
            "W0824 06:48:18.951965 140464170198912 callbacks.py:989] Can save best model only with accuracy available, skipping.\n"
          ],
          "name": "stderr"
        },
        {
          "output_type": "stream",
          "text": [
            "60000/60000 [==============================] - 5s 88us/sample - loss: 0.2707 - acc: 0.9012 - val_loss: 0.2387 - val_acc: 0.9114\n",
            "\n",
            "Epoch 00004: LearningRateScheduler reducing learning rate to 0.0010000000474974513.\n",
            "Epoch 4/100\n",
            "59648/60000 [============================>.] - ETA: 0s - loss: 0.2471 - acc: 0.9097"
          ],
          "name": "stdout"
        },
        {
          "output_type": "stream",
          "text": [
            "W0824 06:48:24.267989 140464170198912 callbacks.py:989] Can save best model only with accuracy available, skipping.\n"
          ],
          "name": "stderr"
        },
        {
          "output_type": "stream",
          "text": [
            "60000/60000 [==============================] - 5s 88us/sample - loss: 0.2471 - acc: 0.9097 - val_loss: 0.2287 - val_acc: 0.9169\n",
            "\n",
            "Epoch 00005: LearningRateScheduler reducing learning rate to 0.0010000000474974513.\n",
            "Epoch 5/100\n",
            "59648/60000 [============================>.] - ETA: 0s - loss: 0.2267 - acc: 0.9169"
          ],
          "name": "stdout"
        },
        {
          "output_type": "stream",
          "text": [
            "W0824 06:48:29.601217 140464170198912 callbacks.py:989] Can save best model only with accuracy available, skipping.\n"
          ],
          "name": "stderr"
        },
        {
          "output_type": "stream",
          "text": [
            "60000/60000 [==============================] - 5s 89us/sample - loss: 0.2267 - acc: 0.9169 - val_loss: 0.2195 - val_acc: 0.9195\n",
            "\n",
            "Epoch 00006: LearningRateScheduler reducing learning rate to 0.0010000000474974513.\n",
            "Epoch 6/100\n",
            "59648/60000 [============================>.] - ETA: 0s - loss: 0.2116 - acc: 0.9227"
          ],
          "name": "stdout"
        },
        {
          "output_type": "stream",
          "text": [
            "W0824 06:48:34.958962 140464170198912 callbacks.py:989] Can save best model only with accuracy available, skipping.\n"
          ],
          "name": "stderr"
        },
        {
          "output_type": "stream",
          "text": [
            "60000/60000 [==============================] - 5s 89us/sample - loss: 0.2118 - acc: 0.9226 - val_loss: 0.2047 - val_acc: 0.9235\n",
            "\n",
            "Epoch 00007: LearningRateScheduler reducing learning rate to 0.0010000000474974513.\n",
            "Epoch 7/100\n",
            "59648/60000 [============================>.] - ETA: 0s - loss: 0.1994 - acc: 0.9274"
          ],
          "name": "stdout"
        },
        {
          "output_type": "stream",
          "text": [
            "W0824 06:48:40.326656 140464170198912 callbacks.py:989] Can save best model only with accuracy available, skipping.\n"
          ],
          "name": "stderr"
        },
        {
          "output_type": "stream",
          "text": [
            "60000/60000 [==============================] - 5s 89us/sample - loss: 0.1994 - acc: 0.9274 - val_loss: 0.1981 - val_acc: 0.9280\n",
            "\n",
            "Epoch 00008: LearningRateScheduler reducing learning rate to 0.0010000000474974513.\n",
            "Epoch 8/100\n",
            "59648/60000 [============================>.] - ETA: 0s - loss: 0.1868 - acc: 0.9309"
          ],
          "name": "stdout"
        },
        {
          "output_type": "stream",
          "text": [
            "W0824 06:48:45.657432 140464170198912 callbacks.py:989] Can save best model only with accuracy available, skipping.\n"
          ],
          "name": "stderr"
        },
        {
          "output_type": "stream",
          "text": [
            "60000/60000 [==============================] - 5s 89us/sample - loss: 0.1871 - acc: 0.9308 - val_loss: 0.2005 - val_acc: 0.9288\n",
            "\n",
            "Epoch 00009: LearningRateScheduler reducing learning rate to 0.0010000000474974513.\n",
            "Epoch 9/100\n",
            "59648/60000 [============================>.] - ETA: 0s - loss: 0.1779 - acc: 0.9347"
          ],
          "name": "stdout"
        },
        {
          "output_type": "stream",
          "text": [
            "W0824 06:48:50.943403 140464170198912 callbacks.py:989] Can save best model only with accuracy available, skipping.\n"
          ],
          "name": "stderr"
        },
        {
          "output_type": "stream",
          "text": [
            "60000/60000 [==============================] - 5s 88us/sample - loss: 0.1781 - acc: 0.9346 - val_loss: 0.2036 - val_acc: 0.9299\n",
            "\n",
            "Epoch 00010: LearningRateScheduler reducing learning rate to 0.0010000000474974513.\n",
            "Epoch 10/100\n",
            "59648/60000 [============================>.] - ETA: 0s - loss: 0.1676 - acc: 0.9383"
          ],
          "name": "stdout"
        },
        {
          "output_type": "stream",
          "text": [
            "W0824 06:48:56.251837 140464170198912 callbacks.py:989] Can save best model only with accuracy available, skipping.\n"
          ],
          "name": "stderr"
        },
        {
          "output_type": "stream",
          "text": [
            "60000/60000 [==============================] - 5s 88us/sample - loss: 0.1677 - acc: 0.9382 - val_loss: 0.1926 - val_acc: 0.9295\n",
            "\n",
            "Epoch 00011: LearningRateScheduler reducing learning rate to 0.0010000000474974513.\n",
            "Epoch 11/100\n",
            "59648/60000 [============================>.] - ETA: 0s - loss: 0.1604 - acc: 0.9402"
          ],
          "name": "stdout"
        },
        {
          "output_type": "stream",
          "text": [
            "W0824 06:49:01.580288 140464170198912 callbacks.py:989] Can save best model only with accuracy available, skipping.\n"
          ],
          "name": "stderr"
        },
        {
          "output_type": "stream",
          "text": [
            "60000/60000 [==============================] - 5s 89us/sample - loss: 0.1603 - acc: 0.9402 - val_loss: 0.2010 - val_acc: 0.9312\n",
            "\n",
            "Epoch 00012: LearningRateScheduler reducing learning rate to 0.0010000000474974513.\n",
            "Epoch 12/100\n",
            "59648/60000 [============================>.] - ETA: 0s - loss: 0.1535 - acc: 0.9428"
          ],
          "name": "stdout"
        },
        {
          "output_type": "stream",
          "text": [
            "W0824 06:49:06.883885 140464170198912 callbacks.py:989] Can save best model only with accuracy available, skipping.\n"
          ],
          "name": "stderr"
        },
        {
          "output_type": "stream",
          "text": [
            "60000/60000 [==============================] - 5s 88us/sample - loss: 0.1536 - acc: 0.9428 - val_loss: 0.1920 - val_acc: 0.9319\n",
            "\n",
            "Epoch 00013: LearningRateScheduler reducing learning rate to 0.0010000000474974513.\n",
            "Epoch 13/100\n",
            "59648/60000 [============================>.] - ETA: 0s - loss: 0.1464 - acc: 0.9450"
          ],
          "name": "stdout"
        },
        {
          "output_type": "stream",
          "text": [
            "W0824 06:49:12.184179 140464170198912 callbacks.py:989] Can save best model only with accuracy available, skipping.\n"
          ],
          "name": "stderr"
        },
        {
          "output_type": "stream",
          "text": [
            "60000/60000 [==============================] - 5s 88us/sample - loss: 0.1464 - acc: 0.9451 - val_loss: 0.1860 - val_acc: 0.9325\n",
            "\n",
            "Epoch 00014: LearningRateScheduler reducing learning rate to 0.0010000000474974513.\n",
            "Epoch 14/100\n",
            "59648/60000 [============================>.] - ETA: 0s - loss: 0.1383 - acc: 0.9487"
          ],
          "name": "stdout"
        },
        {
          "output_type": "stream",
          "text": [
            "W0824 06:49:17.473231 140464170198912 callbacks.py:989] Can save best model only with accuracy available, skipping.\n"
          ],
          "name": "stderr"
        },
        {
          "output_type": "stream",
          "text": [
            "60000/60000 [==============================] - 5s 88us/sample - loss: 0.1382 - acc: 0.9487 - val_loss: 0.1928 - val_acc: 0.9344\n",
            "\n",
            "Epoch 00015: LearningRateScheduler reducing learning rate to 0.0010000000474974513.\n",
            "Epoch 15/100\n",
            "59392/60000 [============================>.] - ETA: 0s - loss: 0.1370 - acc: 0.9490"
          ],
          "name": "stdout"
        },
        {
          "output_type": "stream",
          "text": [
            "W0824 06:49:22.771459 140464170198912 callbacks.py:989] Can save best model only with accuracy available, skipping.\n"
          ],
          "name": "stderr"
        },
        {
          "output_type": "stream",
          "text": [
            "60000/60000 [==============================] - 5s 88us/sample - loss: 0.1372 - acc: 0.9489 - val_loss: 0.2039 - val_acc: 0.9336\n",
            "\n",
            "Epoch 00016: LearningRateScheduler reducing learning rate to 0.0010000000474974513.\n",
            "Epoch 16/100\n",
            "59648/60000 [============================>.] - ETA: 0s - loss: 0.1340 - acc: 0.9504"
          ],
          "name": "stdout"
        },
        {
          "output_type": "stream",
          "text": [
            "W0824 06:49:28.071494 140464170198912 callbacks.py:989] Can save best model only with accuracy available, skipping.\n"
          ],
          "name": "stderr"
        },
        {
          "output_type": "stream",
          "text": [
            "60000/60000 [==============================] - 5s 88us/sample - loss: 0.1340 - acc: 0.9503 - val_loss: 0.1916 - val_acc: 0.9323\n",
            "\n",
            "Epoch 00017: LearningRateScheduler reducing learning rate to 0.0010000000474974513.\n",
            "Epoch 17/100\n",
            "59520/60000 [============================>.] - ETA: 0s - loss: 0.1258 - acc: 0.9531"
          ],
          "name": "stdout"
        },
        {
          "output_type": "stream",
          "text": [
            "W0824 06:49:33.365123 140464170198912 callbacks.py:989] Can save best model only with accuracy available, skipping.\n"
          ],
          "name": "stderr"
        },
        {
          "output_type": "stream",
          "text": [
            "60000/60000 [==============================] - 5s 88us/sample - loss: 0.1259 - acc: 0.9530 - val_loss: 0.1928 - val_acc: 0.9345\n",
            "\n",
            "Epoch 00018: LearningRateScheduler reducing learning rate to 0.0010000000474974513.\n",
            "Epoch 18/100\n",
            "59648/60000 [============================>.] - ETA: 0s - loss: 0.1213 - acc: 0.9541"
          ],
          "name": "stdout"
        },
        {
          "output_type": "stream",
          "text": [
            "W0824 06:49:38.646113 140464170198912 callbacks.py:989] Can save best model only with accuracy available, skipping.\n"
          ],
          "name": "stderr"
        },
        {
          "output_type": "stream",
          "text": [
            "60000/60000 [==============================] - 5s 88us/sample - loss: 0.1212 - acc: 0.9541 - val_loss: 0.1931 - val_acc: 0.9354\n",
            "\n",
            "Epoch 00019: LearningRateScheduler reducing learning rate to 0.0010000000474974513.\n",
            "Epoch 19/100\n",
            "59648/60000 [============================>.] - ETA: 0s - loss: 0.1187 - acc: 0.9565"
          ],
          "name": "stdout"
        },
        {
          "output_type": "stream",
          "text": [
            "W0824 06:49:43.932666 140464170198912 callbacks.py:989] Can save best model only with accuracy available, skipping.\n"
          ],
          "name": "stderr"
        },
        {
          "output_type": "stream",
          "text": [
            "60000/60000 [==============================] - 5s 88us/sample - loss: 0.1188 - acc: 0.9564 - val_loss: 0.2055 - val_acc: 0.9344\n",
            "\n",
            "Epoch 00020: LearningRateScheduler reducing learning rate to 0.0010000000474974513.\n",
            "Epoch 20/100\n",
            "59520/60000 [============================>.] - ETA: 0s - loss: 0.1128 - acc: 0.9579"
          ],
          "name": "stdout"
        },
        {
          "output_type": "stream",
          "text": [
            "W0824 06:49:49.220987 140464170198912 callbacks.py:989] Can save best model only with accuracy available, skipping.\n"
          ],
          "name": "stderr"
        },
        {
          "output_type": "stream",
          "text": [
            "60000/60000 [==============================] - 5s 88us/sample - loss: 0.1125 - acc: 0.9579 - val_loss: 0.2014 - val_acc: 0.9346\n",
            "\n",
            "Epoch 00021: LearningRateScheduler reducing learning rate to 0.0010000000474974513.\n",
            "Epoch 21/100\n",
            "59648/60000 [============================>.] - ETA: 0s - loss: 0.1095 - acc: 0.9585"
          ],
          "name": "stdout"
        },
        {
          "output_type": "stream",
          "text": [
            "W0824 06:49:54.527438 140464170198912 callbacks.py:989] Can save best model only with accuracy available, skipping.\n"
          ],
          "name": "stderr"
        },
        {
          "output_type": "stream",
          "text": [
            "60000/60000 [==============================] - 5s 88us/sample - loss: 0.1098 - acc: 0.9584 - val_loss: 0.1973 - val_acc: 0.9367\n",
            "\n",
            "Epoch 00022: LearningRateScheduler reducing learning rate to 0.0010000000474974513.\n",
            "Epoch 22/100\n",
            "59648/60000 [============================>.] - ETA: 0s - loss: 0.1046 - acc: 0.9602"
          ],
          "name": "stdout"
        },
        {
          "output_type": "stream",
          "text": [
            "W0824 06:49:59.862866 140464170198912 callbacks.py:989] Can save best model only with accuracy available, skipping.\n"
          ],
          "name": "stderr"
        },
        {
          "output_type": "stream",
          "text": [
            "60000/60000 [==============================] - 5s 89us/sample - loss: 0.1047 - acc: 0.9602 - val_loss: 0.1972 - val_acc: 0.9347\n",
            "\n",
            "Epoch 00023: LearningRateScheduler reducing learning rate to 0.0010000000474974513.\n",
            "Epoch 23/100\n",
            "59520/60000 [============================>.] - ETA: 0s - loss: 0.1030 - acc: 0.9612"
          ],
          "name": "stdout"
        },
        {
          "output_type": "stream",
          "text": [
            "W0824 06:50:05.205434 140464170198912 callbacks.py:989] Can save best model only with accuracy available, skipping.\n"
          ],
          "name": "stderr"
        },
        {
          "output_type": "stream",
          "text": [
            "60000/60000 [==============================] - 5s 89us/sample - loss: 0.1031 - acc: 0.9611 - val_loss: 0.1994 - val_acc: 0.9372\n",
            "\n",
            "Epoch 00024: LearningRateScheduler reducing learning rate to 0.0010000000474974513.\n",
            "Epoch 24/100\n",
            "59648/60000 [============================>.] - ETA: 0s - loss: 0.1010 - acc: 0.9610"
          ],
          "name": "stdout"
        },
        {
          "output_type": "stream",
          "text": [
            "W0824 06:50:10.480455 140464170198912 callbacks.py:989] Can save best model only with accuracy available, skipping.\n"
          ],
          "name": "stderr"
        },
        {
          "output_type": "stream",
          "text": [
            "60000/60000 [==============================] - 5s 88us/sample - loss: 0.1011 - acc: 0.9609 - val_loss: 0.2063 - val_acc: 0.9366\n",
            "\n",
            "Epoch 00025: LearningRateScheduler reducing learning rate to 0.0010000000474974513.\n",
            "Epoch 25/100\n",
            "59648/60000 [============================>.] - ETA: 0s - loss: 0.0987 - acc: 0.9631"
          ],
          "name": "stdout"
        },
        {
          "output_type": "stream",
          "text": [
            "W0824 06:50:15.785357 140464170198912 callbacks.py:989] Can save best model only with accuracy available, skipping.\n"
          ],
          "name": "stderr"
        },
        {
          "output_type": "stream",
          "text": [
            "60000/60000 [==============================] - 5s 88us/sample - loss: 0.0986 - acc: 0.9631 - val_loss: 0.2093 - val_acc: 0.9368\n",
            "\n",
            "Epoch 00026: LearningRateScheduler reducing learning rate to 0.0010000000474974513.\n",
            "Epoch 26/100\n",
            "59648/60000 [============================>.] - ETA: 0s - loss: 0.0939 - acc: 0.9638"
          ],
          "name": "stdout"
        },
        {
          "output_type": "stream",
          "text": [
            "W0824 06:50:21.101550 140464170198912 callbacks.py:989] Can save best model only with accuracy available, skipping.\n"
          ],
          "name": "stderr"
        },
        {
          "output_type": "stream",
          "text": [
            "60000/60000 [==============================] - 5s 88us/sample - loss: 0.0939 - acc: 0.9638 - val_loss: 0.2115 - val_acc: 0.9358\n",
            "\n",
            "Epoch 00027: LearningRateScheduler reducing learning rate to 0.0010000000474974513.\n",
            "Epoch 27/100\n",
            "59648/60000 [============================>.] - ETA: 0s - loss: 0.0938 - acc: 0.9640"
          ],
          "name": "stdout"
        },
        {
          "output_type": "stream",
          "text": [
            "W0824 06:50:26.402003 140464170198912 callbacks.py:989] Can save best model only with accuracy available, skipping.\n"
          ],
          "name": "stderr"
        },
        {
          "output_type": "stream",
          "text": [
            "60000/60000 [==============================] - 5s 88us/sample - loss: 0.0937 - acc: 0.9641 - val_loss: 0.2083 - val_acc: 0.9353\n",
            "\n",
            "Epoch 00028: LearningRateScheduler reducing learning rate to 0.0010000000474974513.\n",
            "Epoch 28/100\n",
            "59648/60000 [============================>.] - ETA: 0s - loss: 0.0898 - acc: 0.9661"
          ],
          "name": "stdout"
        },
        {
          "output_type": "stream",
          "text": [
            "W0824 06:50:31.712521 140464170198912 callbacks.py:989] Can save best model only with accuracy available, skipping.\n"
          ],
          "name": "stderr"
        },
        {
          "output_type": "stream",
          "text": [
            "60000/60000 [==============================] - 5s 88us/sample - loss: 0.0901 - acc: 0.9661 - val_loss: 0.2110 - val_acc: 0.9374\n",
            "\n",
            "Epoch 00029: LearningRateScheduler reducing learning rate to 0.0010000000474974513.\n",
            "Epoch 29/100\n",
            "59648/60000 [============================>.] - ETA: 0s - loss: 0.0885 - acc: 0.9662"
          ],
          "name": "stdout"
        },
        {
          "output_type": "stream",
          "text": [
            "W0824 06:50:37.009434 140464170198912 callbacks.py:989] Can save best model only with accuracy available, skipping.\n"
          ],
          "name": "stderr"
        },
        {
          "output_type": "stream",
          "text": [
            "60000/60000 [==============================] - 5s 88us/sample - loss: 0.0884 - acc: 0.9662 - val_loss: 0.2257 - val_acc: 0.9373\n",
            "\n",
            "Epoch 00030: LearningRateScheduler reducing learning rate to 0.0010000000474974513.\n",
            "Epoch 30/100\n",
            "59648/60000 [============================>.] - ETA: 0s - loss: 0.0846 - acc: 0.9685"
          ],
          "name": "stdout"
        },
        {
          "output_type": "stream",
          "text": [
            "W0824 06:50:42.280772 140464170198912 callbacks.py:989] Can save best model only with accuracy available, skipping.\n"
          ],
          "name": "stderr"
        },
        {
          "output_type": "stream",
          "text": [
            "60000/60000 [==============================] - 5s 88us/sample - loss: 0.0845 - acc: 0.9686 - val_loss: 0.2320 - val_acc: 0.9366\n",
            "\n",
            "Epoch 00031: LearningRateScheduler reducing learning rate to 0.0010000000474974513.\n",
            "Epoch 31/100\n",
            "59648/60000 [============================>.] - ETA: 0s - loss: 0.0861 - acc: 0.9667"
          ],
          "name": "stdout"
        },
        {
          "output_type": "stream",
          "text": [
            "W0824 06:50:47.600373 140464170198912 callbacks.py:989] Can save best model only with accuracy available, skipping.\n"
          ],
          "name": "stderr"
        },
        {
          "output_type": "stream",
          "text": [
            "60000/60000 [==============================] - 5s 89us/sample - loss: 0.0860 - acc: 0.9667 - val_loss: 0.2124 - val_acc: 0.9368\n",
            "\n",
            "Epoch 00032: LearningRateScheduler reducing learning rate to 0.0010000000474974513.\n",
            "Epoch 32/100\n",
            "59648/60000 [============================>.] - ETA: 0s - loss: 0.0830 - acc: 0.9686"
          ],
          "name": "stdout"
        },
        {
          "output_type": "stream",
          "text": [
            "W0824 06:50:52.882822 140464170198912 callbacks.py:989] Can save best model only with accuracy available, skipping.\n"
          ],
          "name": "stderr"
        },
        {
          "output_type": "stream",
          "text": [
            "60000/60000 [==============================] - 5s 88us/sample - loss: 0.0832 - acc: 0.9686 - val_loss: 0.2168 - val_acc: 0.9377\n",
            "\n",
            "Epoch 00033: LearningRateScheduler reducing learning rate to 0.0010000000474974513.\n",
            "Epoch 33/100\n",
            "59648/60000 [============================>.] - ETA: 0s - loss: 0.0805 - acc: 0.9701"
          ],
          "name": "stdout"
        },
        {
          "output_type": "stream",
          "text": [
            "W0824 06:50:58.234774 140464170198912 callbacks.py:989] Can save best model only with accuracy available, skipping.\n"
          ],
          "name": "stderr"
        },
        {
          "output_type": "stream",
          "text": [
            "60000/60000 [==============================] - 5s 89us/sample - loss: 0.0807 - acc: 0.9700 - val_loss: 0.2311 - val_acc: 0.9364\n",
            "\n",
            "Epoch 00034: LearningRateScheduler reducing learning rate to 0.0010000000474974513.\n",
            "Epoch 34/100\n",
            "59648/60000 [============================>.] - ETA: 0s - loss: 0.0791 - acc: 0.9703"
          ],
          "name": "stdout"
        },
        {
          "output_type": "stream",
          "text": [
            "W0824 06:51:03.588869 140464170198912 callbacks.py:989] Can save best model only with accuracy available, skipping.\n"
          ],
          "name": "stderr"
        },
        {
          "output_type": "stream",
          "text": [
            "60000/60000 [==============================] - 5s 89us/sample - loss: 0.0791 - acc: 0.9703 - val_loss: 0.2309 - val_acc: 0.9379\n",
            "\n",
            "Epoch 00035: LearningRateScheduler reducing learning rate to 0.0010000000474974513.\n",
            "Epoch 35/100\n",
            "59520/60000 [============================>.] - ETA: 0s - loss: 0.0802 - acc: 0.9693"
          ],
          "name": "stdout"
        },
        {
          "output_type": "stream",
          "text": [
            "W0824 06:51:08.876825 140464170198912 callbacks.py:989] Can save best model only with accuracy available, skipping.\n"
          ],
          "name": "stderr"
        },
        {
          "output_type": "stream",
          "text": [
            "60000/60000 [==============================] - 5s 88us/sample - loss: 0.0803 - acc: 0.9692 - val_loss: 0.2191 - val_acc: 0.9396\n",
            "\n",
            "Epoch 00036: LearningRateScheduler reducing learning rate to 0.0010000000474974513.\n",
            "Epoch 36/100\n",
            "59648/60000 [============================>.] - ETA: 0s - loss: 0.0801 - acc: 0.9698"
          ],
          "name": "stdout"
        },
        {
          "output_type": "stream",
          "text": [
            "W0824 06:51:14.156526 140464170198912 callbacks.py:989] Can save best model only with accuracy available, skipping.\n"
          ],
          "name": "stderr"
        },
        {
          "output_type": "stream",
          "text": [
            "60000/60000 [==============================] - 5s 88us/sample - loss: 0.0800 - acc: 0.9699 - val_loss: 0.2355 - val_acc: 0.9381\n",
            "\n",
            "Epoch 00037: LearningRateScheduler reducing learning rate to 0.0010000000474974513.\n",
            "Epoch 37/100\n",
            "59648/60000 [============================>.] - ETA: 0s - loss: 0.0765 - acc: 0.9710"
          ],
          "name": "stdout"
        },
        {
          "output_type": "stream",
          "text": [
            "W0824 06:51:19.442812 140464170198912 callbacks.py:989] Can save best model only with accuracy available, skipping.\n"
          ],
          "name": "stderr"
        },
        {
          "output_type": "stream",
          "text": [
            "60000/60000 [==============================] - 5s 88us/sample - loss: 0.0765 - acc: 0.9710 - val_loss: 0.2297 - val_acc: 0.9392\n",
            "\n",
            "Epoch 00038: LearningRateScheduler reducing learning rate to 0.0010000000474974513.\n",
            "Epoch 38/100\n",
            "59648/60000 [============================>.] - ETA: 0s - loss: 0.0745 - acc: 0.9718"
          ],
          "name": "stdout"
        },
        {
          "output_type": "stream",
          "text": [
            "W0824 06:51:24.735291 140464170198912 callbacks.py:989] Can save best model only with accuracy available, skipping.\n"
          ],
          "name": "stderr"
        },
        {
          "output_type": "stream",
          "text": [
            "60000/60000 [==============================] - 5s 88us/sample - loss: 0.0745 - acc: 0.9719 - val_loss: 0.2312 - val_acc: 0.9402\n",
            "\n",
            "Epoch 00039: LearningRateScheduler reducing learning rate to 0.0010000000474974513.\n",
            "Epoch 39/100\n",
            "59648/60000 [============================>.] - ETA: 0s - loss: 0.0718 - acc: 0.9734"
          ],
          "name": "stdout"
        },
        {
          "output_type": "stream",
          "text": [
            "W0824 06:51:30.006386 140464170198912 callbacks.py:989] Can save best model only with accuracy available, skipping.\n"
          ],
          "name": "stderr"
        },
        {
          "output_type": "stream",
          "text": [
            "60000/60000 [==============================] - 5s 88us/sample - loss: 0.0720 - acc: 0.9733 - val_loss: 0.2262 - val_acc: 0.9409\n",
            "\n",
            "Epoch 00040: LearningRateScheduler reducing learning rate to 0.0010000000474974513.\n",
            "Epoch 40/100\n",
            "59648/60000 [============================>.] - ETA: 0s - loss: 0.0717 - acc: 0.9733"
          ],
          "name": "stdout"
        },
        {
          "output_type": "stream",
          "text": [
            "W0824 06:51:35.279951 140464170198912 callbacks.py:989] Can save best model only with accuracy available, skipping.\n"
          ],
          "name": "stderr"
        },
        {
          "output_type": "stream",
          "text": [
            "60000/60000 [==============================] - 5s 88us/sample - loss: 0.0718 - acc: 0.9733 - val_loss: 0.2422 - val_acc: 0.9396\n",
            "\n",
            "Epoch 00041: LearningRateScheduler reducing learning rate to 0.0010000000474974513.\n",
            "Epoch 41/100\n",
            "59648/60000 [============================>.] - ETA: 0s - loss: 0.0701 - acc: 0.9741"
          ],
          "name": "stdout"
        },
        {
          "output_type": "stream",
          "text": [
            "W0824 06:51:40.549305 140464170198912 callbacks.py:989] Can save best model only with accuracy available, skipping.\n"
          ],
          "name": "stderr"
        },
        {
          "output_type": "stream",
          "text": [
            "60000/60000 [==============================] - 5s 88us/sample - loss: 0.0701 - acc: 0.9741 - val_loss: 0.2343 - val_acc: 0.9376\n",
            "\n",
            "Epoch 00042: LearningRateScheduler reducing learning rate to 0.0010000000474974513.\n",
            "Epoch 42/100\n",
            "59648/60000 [============================>.] - ETA: 0s - loss: 0.0725 - acc: 0.9718"
          ],
          "name": "stdout"
        },
        {
          "output_type": "stream",
          "text": [
            "W0824 06:51:45.846716 140464170198912 callbacks.py:989] Can save best model only with accuracy available, skipping.\n"
          ],
          "name": "stderr"
        },
        {
          "output_type": "stream",
          "text": [
            "60000/60000 [==============================] - 5s 88us/sample - loss: 0.0725 - acc: 0.9718 - val_loss: 0.2501 - val_acc: 0.9368\n",
            "\n",
            "Epoch 00043: LearningRateScheduler reducing learning rate to 0.0010000000474974513.\n",
            "Epoch 43/100\n",
            "59648/60000 [============================>.] - ETA: 0s - loss: 0.0681 - acc: 0.9745"
          ],
          "name": "stdout"
        },
        {
          "output_type": "stream",
          "text": [
            "W0824 06:51:51.124727 140464170198912 callbacks.py:989] Can save best model only with accuracy available, skipping.\n"
          ],
          "name": "stderr"
        },
        {
          "output_type": "stream",
          "text": [
            "60000/60000 [==============================] - 5s 88us/sample - loss: 0.0681 - acc: 0.9745 - val_loss: 0.2387 - val_acc: 0.9363\n",
            "\n",
            "Epoch 00044: LearningRateScheduler reducing learning rate to 0.0010000000474974513.\n",
            "Epoch 44/100\n",
            "59648/60000 [============================>.] - ETA: 0s - loss: 0.0670 - acc: 0.9746"
          ],
          "name": "stdout"
        },
        {
          "output_type": "stream",
          "text": [
            "W0824 06:51:56.407409 140464170198912 callbacks.py:989] Can save best model only with accuracy available, skipping.\n"
          ],
          "name": "stderr"
        },
        {
          "output_type": "stream",
          "text": [
            "60000/60000 [==============================] - 5s 88us/sample - loss: 0.0670 - acc: 0.9746 - val_loss: 0.2501 - val_acc: 0.9379\n",
            "\n",
            "Epoch 00045: LearningRateScheduler reducing learning rate to 0.0010000000474974513.\n",
            "Epoch 45/100\n",
            "59648/60000 [============================>.] - ETA: 0s - loss: 0.0666 - acc: 0.9745"
          ],
          "name": "stdout"
        },
        {
          "output_type": "stream",
          "text": [
            "W0824 06:52:01.687756 140464170198912 callbacks.py:989] Can save best model only with accuracy available, skipping.\n"
          ],
          "name": "stderr"
        },
        {
          "output_type": "stream",
          "text": [
            "60000/60000 [==============================] - 5s 88us/sample - loss: 0.0665 - acc: 0.9745 - val_loss: 0.2477 - val_acc: 0.9381\n",
            "\n",
            "Epoch 00046: LearningRateScheduler reducing learning rate to 0.0010000000474974513.\n",
            "Epoch 46/100\n",
            "59648/60000 [============================>.] - ETA: 0s - loss: 0.0669 - acc: 0.9751"
          ],
          "name": "stdout"
        },
        {
          "output_type": "stream",
          "text": [
            "W0824 06:52:06.953002 140464170198912 callbacks.py:989] Can save best model only with accuracy available, skipping.\n"
          ],
          "name": "stderr"
        },
        {
          "output_type": "stream",
          "text": [
            "60000/60000 [==============================] - 5s 88us/sample - loss: 0.0669 - acc: 0.9751 - val_loss: 0.2562 - val_acc: 0.9384\n",
            "\n",
            "Epoch 00047: LearningRateScheduler reducing learning rate to 0.0010000000474974513.\n",
            "Epoch 47/100\n",
            "59648/60000 [============================>.] - ETA: 0s - loss: 0.0651 - acc: 0.9754"
          ],
          "name": "stdout"
        },
        {
          "output_type": "stream",
          "text": [
            "W0824 06:52:12.216142 140464170198912 callbacks.py:989] Can save best model only with accuracy available, skipping.\n"
          ],
          "name": "stderr"
        },
        {
          "output_type": "stream",
          "text": [
            "60000/60000 [==============================] - 5s 88us/sample - loss: 0.0650 - acc: 0.9754 - val_loss: 0.2543 - val_acc: 0.9374\n",
            "\n",
            "Epoch 00048: LearningRateScheduler reducing learning rate to 0.0010000000474974513.\n",
            "Epoch 48/100\n",
            "59648/60000 [============================>.] - ETA: 0s - loss: 0.0633 - acc: 0.9766"
          ],
          "name": "stdout"
        },
        {
          "output_type": "stream",
          "text": [
            "W0824 06:52:17.488405 140464170198912 callbacks.py:989] Can save best model only with accuracy available, skipping.\n"
          ],
          "name": "stderr"
        },
        {
          "output_type": "stream",
          "text": [
            "60000/60000 [==============================] - 5s 88us/sample - loss: 0.0633 - acc: 0.9766 - val_loss: 0.2553 - val_acc: 0.9362\n",
            "\n",
            "Epoch 00049: LearningRateScheduler reducing learning rate to 0.0010000000474974513.\n",
            "Epoch 49/100\n",
            "59520/60000 [============================>.] - ETA: 0s - loss: 0.0638 - acc: 0.9761"
          ],
          "name": "stdout"
        },
        {
          "output_type": "stream",
          "text": [
            "W0824 06:52:22.757921 140464170198912 callbacks.py:989] Can save best model only with accuracy available, skipping.\n"
          ],
          "name": "stderr"
        },
        {
          "output_type": "stream",
          "text": [
            "60000/60000 [==============================] - 5s 88us/sample - loss: 0.0637 - acc: 0.9762 - val_loss: 0.2497 - val_acc: 0.9383\n",
            "\n",
            "Epoch 00050: LearningRateScheduler reducing learning rate to 0.0010000000474974513.\n",
            "Epoch 50/100\n",
            "59648/60000 [============================>.] - ETA: 0s - loss: 0.0654 - acc: 0.9754"
          ],
          "name": "stdout"
        },
        {
          "output_type": "stream",
          "text": [
            "W0824 06:52:28.050070 140464170198912 callbacks.py:989] Can save best model only with accuracy available, skipping.\n"
          ],
          "name": "stderr"
        },
        {
          "output_type": "stream",
          "text": [
            "60000/60000 [==============================] - 5s 88us/sample - loss: 0.0654 - acc: 0.9754 - val_loss: 0.2592 - val_acc: 0.9372\n",
            "\n",
            "Epoch 00051: LearningRateScheduler reducing learning rate to 0.0010000000474974513.\n",
            "Epoch 51/100\n",
            "59520/60000 [============================>.] - ETA: 0s - loss: 0.0645 - acc: 0.9765"
          ],
          "name": "stdout"
        },
        {
          "output_type": "stream",
          "text": [
            "W0824 06:52:33.335727 140464170198912 callbacks.py:989] Can save best model only with accuracy available, skipping.\n"
          ],
          "name": "stderr"
        },
        {
          "output_type": "stream",
          "text": [
            "60000/60000 [==============================] - 5s 88us/sample - loss: 0.0645 - acc: 0.9765 - val_loss: 0.2495 - val_acc: 0.9393\n",
            "\n",
            "Epoch 00052: LearningRateScheduler reducing learning rate to 0.0010000000474974513.\n",
            "Epoch 52/100\n",
            "59648/60000 [============================>.] - ETA: 0s - loss: 0.0617 - acc: 0.9769"
          ],
          "name": "stdout"
        },
        {
          "output_type": "stream",
          "text": [
            "W0824 06:52:38.652035 140464170198912 callbacks.py:989] Can save best model only with accuracy available, skipping.\n"
          ],
          "name": "stderr"
        },
        {
          "output_type": "stream",
          "text": [
            "60000/60000 [==============================] - 5s 88us/sample - loss: 0.0617 - acc: 0.9769 - val_loss: 0.2487 - val_acc: 0.9367\n",
            "\n",
            "Epoch 00053: LearningRateScheduler reducing learning rate to 0.0010000000474974513.\n",
            "Epoch 53/100\n",
            "59520/60000 [============================>.] - ETA: 0s - loss: 0.0576 - acc: 0.9786"
          ],
          "name": "stdout"
        },
        {
          "output_type": "stream",
          "text": [
            "W0824 06:52:43.974697 140464170198912 callbacks.py:989] Can save best model only with accuracy available, skipping.\n"
          ],
          "name": "stderr"
        },
        {
          "output_type": "stream",
          "text": [
            "60000/60000 [==============================] - 5s 89us/sample - loss: 0.0576 - acc: 0.9786 - val_loss: 0.2720 - val_acc: 0.9384\n",
            "\n",
            "Epoch 00054: LearningRateScheduler reducing learning rate to 0.0010000000474974513.\n",
            "Epoch 54/100\n",
            "59648/60000 [============================>.] - ETA: 0s - loss: 0.0594 - acc: 0.9780"
          ],
          "name": "stdout"
        },
        {
          "output_type": "stream",
          "text": [
            "W0824 06:52:49.248238 140464170198912 callbacks.py:989] Can save best model only with accuracy available, skipping.\n"
          ],
          "name": "stderr"
        },
        {
          "output_type": "stream",
          "text": [
            "60000/60000 [==============================] - 5s 88us/sample - loss: 0.0595 - acc: 0.9779 - val_loss: 0.2574 - val_acc: 0.9371\n",
            "\n",
            "Epoch 00055: LearningRateScheduler reducing learning rate to 0.0010000000474974513.\n",
            "Epoch 55/100\n",
            "59648/60000 [============================>.] - ETA: 0s - loss: 0.0575 - acc: 0.9783"
          ],
          "name": "stdout"
        },
        {
          "output_type": "stream",
          "text": [
            "W0824 06:52:54.546863 140464170198912 callbacks.py:989] Can save best model only with accuracy available, skipping.\n"
          ],
          "name": "stderr"
        },
        {
          "output_type": "stream",
          "text": [
            "60000/60000 [==============================] - 5s 88us/sample - loss: 0.0575 - acc: 0.9783 - val_loss: 0.2647 - val_acc: 0.9380\n",
            "\n",
            "Epoch 00056: LearningRateScheduler reducing learning rate to 0.0010000000474974513.\n",
            "Epoch 56/100\n",
            "59648/60000 [============================>.] - ETA: 0s - loss: 0.0574 - acc: 0.9781"
          ],
          "name": "stdout"
        },
        {
          "output_type": "stream",
          "text": [
            "W0824 06:52:59.818772 140464170198912 callbacks.py:989] Can save best model only with accuracy available, skipping.\n"
          ],
          "name": "stderr"
        },
        {
          "output_type": "stream",
          "text": [
            "60000/60000 [==============================] - 5s 88us/sample - loss: 0.0575 - acc: 0.9781 - val_loss: 0.2600 - val_acc: 0.9363\n",
            "\n",
            "Epoch 00057: LearningRateScheduler reducing learning rate to 0.0010000000474974513.\n",
            "Epoch 57/100\n",
            "59648/60000 [============================>.] - ETA: 0s - loss: 0.0591 - acc: 0.9780"
          ],
          "name": "stdout"
        },
        {
          "output_type": "stream",
          "text": [
            "W0824 06:53:05.083847 140464170198912 callbacks.py:989] Can save best model only with accuracy available, skipping.\n"
          ],
          "name": "stderr"
        },
        {
          "output_type": "stream",
          "text": [
            "60000/60000 [==============================] - 5s 88us/sample - loss: 0.0589 - acc: 0.9781 - val_loss: 0.2676 - val_acc: 0.9371\n",
            "\n",
            "Epoch 00058: LearningRateScheduler reducing learning rate to 0.0010000000474974513.\n",
            "Epoch 58/100\n",
            "59648/60000 [============================>.] - ETA: 0s - loss: 0.0582 - acc: 0.9776"
          ],
          "name": "stdout"
        },
        {
          "output_type": "stream",
          "text": [
            "W0824 06:53:10.364863 140464170198912 callbacks.py:989] Can save best model only with accuracy available, skipping.\n"
          ],
          "name": "stderr"
        },
        {
          "output_type": "stream",
          "text": [
            "60000/60000 [==============================] - 5s 88us/sample - loss: 0.0582 - acc: 0.9777 - val_loss: 0.2755 - val_acc: 0.9374\n",
            "\n",
            "Epoch 00059: LearningRateScheduler reducing learning rate to 0.0010000000474974513.\n",
            "Epoch 59/100\n",
            "59648/60000 [============================>.] - ETA: 0s - loss: 0.0553 - acc: 0.9789"
          ],
          "name": "stdout"
        },
        {
          "output_type": "stream",
          "text": [
            "W0824 06:53:15.654416 140464170198912 callbacks.py:989] Can save best model only with accuracy available, skipping.\n"
          ],
          "name": "stderr"
        },
        {
          "output_type": "stream",
          "text": [
            "60000/60000 [==============================] - 5s 88us/sample - loss: 0.0553 - acc: 0.9790 - val_loss: 0.2497 - val_acc: 0.9370\n",
            "\n",
            "Epoch 00060: LearningRateScheduler reducing learning rate to 0.0010000000474974513.\n",
            "Epoch 60/100\n",
            "59648/60000 [============================>.] - ETA: 0s - loss: 0.0546 - acc: 0.9794"
          ],
          "name": "stdout"
        },
        {
          "output_type": "stream",
          "text": [
            "W0824 06:53:20.929108 140464170198912 callbacks.py:989] Can save best model only with accuracy available, skipping.\n"
          ],
          "name": "stderr"
        },
        {
          "output_type": "stream",
          "text": [
            "60000/60000 [==============================] - 5s 88us/sample - loss: 0.0546 - acc: 0.9793 - val_loss: 0.2779 - val_acc: 0.9381\n",
            "\n",
            "Epoch 00061: LearningRateScheduler reducing learning rate to 0.0010000000474974513.\n",
            "Epoch 61/100\n",
            "59520/60000 [============================>.] - ETA: 0s - loss: 0.0542 - acc: 0.9797"
          ],
          "name": "stdout"
        },
        {
          "output_type": "stream",
          "text": [
            "W0824 06:53:26.204755 140464170198912 callbacks.py:989] Can save best model only with accuracy available, skipping.\n"
          ],
          "name": "stderr"
        },
        {
          "output_type": "stream",
          "text": [
            "60000/60000 [==============================] - 5s 88us/sample - loss: 0.0542 - acc: 0.9797 - val_loss: 0.2718 - val_acc: 0.9389\n",
            "\n",
            "Epoch 00062: LearningRateScheduler reducing learning rate to 0.0010000000474974513.\n",
            "Epoch 62/100\n",
            "59648/60000 [============================>.] - ETA: 0s - loss: 0.0515 - acc: 0.9808"
          ],
          "name": "stdout"
        },
        {
          "output_type": "stream",
          "text": [
            "W0824 06:53:31.489940 140464170198912 callbacks.py:989] Can save best model only with accuracy available, skipping.\n"
          ],
          "name": "stderr"
        },
        {
          "output_type": "stream",
          "text": [
            "60000/60000 [==============================] - 5s 88us/sample - loss: 0.0516 - acc: 0.9808 - val_loss: 0.2804 - val_acc: 0.9378\n",
            "\n",
            "Epoch 00063: LearningRateScheduler reducing learning rate to 0.0010000000474974513.\n",
            "Epoch 63/100\n",
            "59648/60000 [============================>.] - ETA: 0s - loss: 0.0561 - acc: 0.9797"
          ],
          "name": "stdout"
        },
        {
          "output_type": "stream",
          "text": [
            "W0824 06:53:36.773267 140464170198912 callbacks.py:989] Can save best model only with accuracy available, skipping.\n"
          ],
          "name": "stderr"
        },
        {
          "output_type": "stream",
          "text": [
            "60000/60000 [==============================] - 5s 88us/sample - loss: 0.0560 - acc: 0.9797 - val_loss: 0.2749 - val_acc: 0.9380\n",
            "\n",
            "Epoch 00064: LearningRateScheduler reducing learning rate to 0.0010000000474974513.\n",
            "Epoch 64/100\n",
            "59648/60000 [============================>.] - ETA: 0s - loss: 0.0509 - acc: 0.9811"
          ],
          "name": "stdout"
        },
        {
          "output_type": "stream",
          "text": [
            "W0824 06:53:42.039546 140464170198912 callbacks.py:989] Can save best model only with accuracy available, skipping.\n"
          ],
          "name": "stderr"
        },
        {
          "output_type": "stream",
          "text": [
            "60000/60000 [==============================] - 5s 88us/sample - loss: 0.0508 - acc: 0.9811 - val_loss: 0.2916 - val_acc: 0.9390\n",
            "\n",
            "Epoch 00065: LearningRateScheduler reducing learning rate to 0.0010000000474974513.\n",
            "Epoch 65/100\n",
            "59648/60000 [============================>.] - ETA: 0s - loss: 0.0518 - acc: 0.9811"
          ],
          "name": "stdout"
        },
        {
          "output_type": "stream",
          "text": [
            "W0824 06:53:47.326120 140464170198912 callbacks.py:989] Can save best model only with accuracy available, skipping.\n"
          ],
          "name": "stderr"
        },
        {
          "output_type": "stream",
          "text": [
            "60000/60000 [==============================] - 5s 88us/sample - loss: 0.0519 - acc: 0.9811 - val_loss: 0.2684 - val_acc: 0.9384\n",
            "\n",
            "Epoch 00066: LearningRateScheduler reducing learning rate to 0.0010000000474974513.\n",
            "Epoch 66/100\n",
            "59648/60000 [============================>.] - ETA: 0s - loss: 0.0513 - acc: 0.9811"
          ],
          "name": "stdout"
        },
        {
          "output_type": "stream",
          "text": [
            "W0824 06:53:52.602183 140464170198912 callbacks.py:989] Can save best model only with accuracy available, skipping.\n"
          ],
          "name": "stderr"
        },
        {
          "output_type": "stream",
          "text": [
            "60000/60000 [==============================] - 5s 88us/sample - loss: 0.0513 - acc: 0.9811 - val_loss: 0.2659 - val_acc: 0.9392\n",
            "\n",
            "Epoch 00067: LearningRateScheduler reducing learning rate to 0.0010000000474974513.\n",
            "Epoch 67/100\n",
            "59648/60000 [============================>.] - ETA: 0s - loss: 0.0509 - acc: 0.9812"
          ],
          "name": "stdout"
        },
        {
          "output_type": "stream",
          "text": [
            "W0824 06:53:57.896719 140464170198912 callbacks.py:989] Can save best model only with accuracy available, skipping.\n"
          ],
          "name": "stderr"
        },
        {
          "output_type": "stream",
          "text": [
            "60000/60000 [==============================] - 5s 88us/sample - loss: 0.0508 - acc: 0.9812 - val_loss: 0.2913 - val_acc: 0.9387\n",
            "\n",
            "Epoch 00068: LearningRateScheduler reducing learning rate to 0.0010000000474974513.\n",
            "Epoch 68/100\n",
            "59648/60000 [============================>.] - ETA: 0s - loss: 0.0538 - acc: 0.9806"
          ],
          "name": "stdout"
        },
        {
          "output_type": "stream",
          "text": [
            "W0824 06:54:03.196194 140464170198912 callbacks.py:989] Can save best model only with accuracy available, skipping.\n"
          ],
          "name": "stderr"
        },
        {
          "output_type": "stream",
          "text": [
            "60000/60000 [==============================] - 5s 88us/sample - loss: 0.0538 - acc: 0.9806 - val_loss: 0.2638 - val_acc: 0.9386\n",
            "\n",
            "Epoch 00069: LearningRateScheduler reducing learning rate to 0.0010000000474974513.\n",
            "Epoch 69/100\n",
            "59648/60000 [============================>.] - ETA: 0s - loss: 0.0488 - acc: 0.9819"
          ],
          "name": "stdout"
        },
        {
          "output_type": "stream",
          "text": [
            "W0824 06:54:08.485309 140464170198912 callbacks.py:989] Can save best model only with accuracy available, skipping.\n"
          ],
          "name": "stderr"
        },
        {
          "output_type": "stream",
          "text": [
            "60000/60000 [==============================] - 5s 88us/sample - loss: 0.0487 - acc: 0.9819 - val_loss: 0.3023 - val_acc: 0.9423\n",
            "\n",
            "Epoch 00070: LearningRateScheduler reducing learning rate to 0.0010000000474974513.\n",
            "Epoch 70/100\n",
            "59648/60000 [============================>.] - ETA: 0s - loss: 0.0523 - acc: 0.9813"
          ],
          "name": "stdout"
        },
        {
          "output_type": "stream",
          "text": [
            "W0824 06:54:13.742897 140464170198912 callbacks.py:989] Can save best model only with accuracy available, skipping.\n"
          ],
          "name": "stderr"
        },
        {
          "output_type": "stream",
          "text": [
            "60000/60000 [==============================] - 5s 88us/sample - loss: 0.0524 - acc: 0.9812 - val_loss: 0.2758 - val_acc: 0.9406\n",
            "\n",
            "Epoch 00071: LearningRateScheduler reducing learning rate to 0.0010000000474974513.\n",
            "Epoch 71/100\n",
            "59648/60000 [============================>.] - ETA: 0s - loss: 0.0488 - acc: 0.9823"
          ],
          "name": "stdout"
        },
        {
          "output_type": "stream",
          "text": [
            "W0824 06:54:19.022894 140464170198912 callbacks.py:989] Can save best model only with accuracy available, skipping.\n"
          ],
          "name": "stderr"
        },
        {
          "output_type": "stream",
          "text": [
            "60000/60000 [==============================] - 5s 88us/sample - loss: 0.0490 - acc: 0.9822 - val_loss: 0.2965 - val_acc: 0.9371\n",
            "\n",
            "Epoch 00072: LearningRateScheduler reducing learning rate to 0.0010000000474974513.\n",
            "Epoch 72/100\n",
            "59520/60000 [============================>.] - ETA: 0s - loss: 0.0510 - acc: 0.9816"
          ],
          "name": "stdout"
        },
        {
          "output_type": "stream",
          "text": [
            "W0824 06:54:24.317049 140464170198912 callbacks.py:989] Can save best model only with accuracy available, skipping.\n"
          ],
          "name": "stderr"
        },
        {
          "output_type": "stream",
          "text": [
            "60000/60000 [==============================] - 5s 88us/sample - loss: 0.0510 - acc: 0.9816 - val_loss: 0.2658 - val_acc: 0.9405\n",
            "\n",
            "Epoch 00073: LearningRateScheduler reducing learning rate to 0.0010000000474974513.\n",
            "Epoch 73/100\n",
            "59648/60000 [============================>.] - ETA: 0s - loss: 0.0517 - acc: 0.9807"
          ],
          "name": "stdout"
        },
        {
          "output_type": "stream",
          "text": [
            "W0824 06:54:29.631329 140464170198912 callbacks.py:989] Can save best model only with accuracy available, skipping.\n"
          ],
          "name": "stderr"
        },
        {
          "output_type": "stream",
          "text": [
            "60000/60000 [==============================] - 5s 88us/sample - loss: 0.0518 - acc: 0.9807 - val_loss: 0.2812 - val_acc: 0.9375\n",
            "\n",
            "Epoch 00074: LearningRateScheduler reducing learning rate to 0.0010000000474974513.\n",
            "Epoch 74/100\n",
            "59648/60000 [============================>.] - ETA: 0s - loss: 0.0477 - acc: 0.9827"
          ],
          "name": "stdout"
        },
        {
          "output_type": "stream",
          "text": [
            "W0824 06:54:34.918842 140464170198912 callbacks.py:989] Can save best model only with accuracy available, skipping.\n"
          ],
          "name": "stderr"
        },
        {
          "output_type": "stream",
          "text": [
            "60000/60000 [==============================] - 5s 88us/sample - loss: 0.0478 - acc: 0.9826 - val_loss: 0.2883 - val_acc: 0.9389\n",
            "\n",
            "Epoch 00075: LearningRateScheduler reducing learning rate to 0.0010000000474974513.\n",
            "Epoch 75/100\n",
            "59648/60000 [============================>.] - ETA: 0s - loss: 0.0450 - acc: 0.9830"
          ],
          "name": "stdout"
        },
        {
          "output_type": "stream",
          "text": [
            "W0824 06:54:40.192265 140464170198912 callbacks.py:989] Can save best model only with accuracy available, skipping.\n"
          ],
          "name": "stderr"
        },
        {
          "output_type": "stream",
          "text": [
            "60000/60000 [==============================] - 5s 88us/sample - loss: 0.0450 - acc: 0.9830 - val_loss: 0.2988 - val_acc: 0.9389\n",
            "\n",
            "Epoch 00076: LearningRateScheduler reducing learning rate to 0.0010000000474974513.\n",
            "Epoch 76/100\n",
            "59648/60000 [============================>.] - ETA: 0s - loss: 0.0471 - acc: 0.9822"
          ],
          "name": "stdout"
        },
        {
          "output_type": "stream",
          "text": [
            "W0824 06:54:45.451863 140464170198912 callbacks.py:989] Can save best model only with accuracy available, skipping.\n"
          ],
          "name": "stderr"
        },
        {
          "output_type": "stream",
          "text": [
            "60000/60000 [==============================] - 5s 88us/sample - loss: 0.0473 - acc: 0.9822 - val_loss: 0.2927 - val_acc: 0.9390\n",
            "\n",
            "Epoch 00077: LearningRateScheduler reducing learning rate to 0.0010000000474974513.\n",
            "Epoch 77/100\n",
            "59648/60000 [============================>.] - ETA: 0s - loss: 0.0448 - acc: 0.9834"
          ],
          "name": "stdout"
        },
        {
          "output_type": "stream",
          "text": [
            "W0824 06:54:50.733227 140464170198912 callbacks.py:989] Can save best model only with accuracy available, skipping.\n"
          ],
          "name": "stderr"
        },
        {
          "output_type": "stream",
          "text": [
            "60000/60000 [==============================] - 5s 88us/sample - loss: 0.0448 - acc: 0.9834 - val_loss: 0.3065 - val_acc: 0.9384\n",
            "\n",
            "Epoch 00078: LearningRateScheduler reducing learning rate to 0.0010000000474974513.\n",
            "Epoch 78/100\n",
            "59648/60000 [============================>.] - ETA: 0s - loss: 0.0472 - acc: 0.9825"
          ],
          "name": "stdout"
        },
        {
          "output_type": "stream",
          "text": [
            "W0824 06:54:56.028211 140464170198912 callbacks.py:989] Can save best model only with accuracy available, skipping.\n"
          ],
          "name": "stderr"
        },
        {
          "output_type": "stream",
          "text": [
            "60000/60000 [==============================] - 5s 88us/sample - loss: 0.0472 - acc: 0.9825 - val_loss: 0.2882 - val_acc: 0.9375\n",
            "\n",
            "Epoch 00079: LearningRateScheduler reducing learning rate to 0.0010000000474974513.\n",
            "Epoch 79/100\n",
            "59648/60000 [============================>.] - ETA: 0s - loss: 0.0456 - acc: 0.9830"
          ],
          "name": "stdout"
        },
        {
          "output_type": "stream",
          "text": [
            "W0824 06:55:01.309228 140464170198912 callbacks.py:989] Can save best model only with accuracy available, skipping.\n"
          ],
          "name": "stderr"
        },
        {
          "output_type": "stream",
          "text": [
            "60000/60000 [==============================] - 5s 88us/sample - loss: 0.0456 - acc: 0.9830 - val_loss: 0.3216 - val_acc: 0.9364\n",
            "\n",
            "Epoch 00080: LearningRateScheduler reducing learning rate to 0.0010000000474974513.\n",
            "Epoch 80/100\n",
            "59520/60000 [============================>.] - ETA: 0s - loss: 0.0473 - acc: 0.9822"
          ],
          "name": "stdout"
        },
        {
          "output_type": "stream",
          "text": [
            "W0824 06:55:06.590759 140464170198912 callbacks.py:989] Can save best model only with accuracy available, skipping.\n"
          ],
          "name": "stderr"
        },
        {
          "output_type": "stream",
          "text": [
            "60000/60000 [==============================] - 5s 88us/sample - loss: 0.0475 - acc: 0.9821 - val_loss: 0.2884 - val_acc: 0.9378\n",
            "\n",
            "Epoch 00081: LearningRateScheduler reducing learning rate to 0.0010000000474974513.\n",
            "Epoch 81/100\n",
            "59520/60000 [============================>.] - ETA: 0s - loss: 0.0473 - acc: 0.9827"
          ],
          "name": "stdout"
        },
        {
          "output_type": "stream",
          "text": [
            "W0824 06:55:11.868875 140464170198912 callbacks.py:989] Can save best model only with accuracy available, skipping.\n"
          ],
          "name": "stderr"
        },
        {
          "output_type": "stream",
          "text": [
            "60000/60000 [==============================] - 5s 88us/sample - loss: 0.0472 - acc: 0.9827 - val_loss: 0.2956 - val_acc: 0.9391\n",
            "\n",
            "Epoch 00082: LearningRateScheduler reducing learning rate to 0.0010000000474974513.\n",
            "Epoch 82/100\n",
            "59648/60000 [============================>.] - ETA: 0s - loss: 0.0463 - acc: 0.9837"
          ],
          "name": "stdout"
        },
        {
          "output_type": "stream",
          "text": [
            "W0824 06:55:17.165849 140464170198912 callbacks.py:989] Can save best model only with accuracy available, skipping.\n"
          ],
          "name": "stderr"
        },
        {
          "output_type": "stream",
          "text": [
            "60000/60000 [==============================] - 5s 88us/sample - loss: 0.0462 - acc: 0.9837 - val_loss: 0.3126 - val_acc: 0.9384\n",
            "\n",
            "Epoch 00083: LearningRateScheduler reducing learning rate to 0.0010000000474974513.\n",
            "Epoch 83/100\n",
            "59648/60000 [============================>.] - ETA: 0s - loss: 0.0448 - acc: 0.9835"
          ],
          "name": "stdout"
        },
        {
          "output_type": "stream",
          "text": [
            "W0824 06:55:22.478938 140464170198912 callbacks.py:989] Can save best model only with accuracy available, skipping.\n"
          ],
          "name": "stderr"
        },
        {
          "output_type": "stream",
          "text": [
            "60000/60000 [==============================] - 5s 88us/sample - loss: 0.0449 - acc: 0.9834 - val_loss: 0.2923 - val_acc: 0.9415\n",
            "\n",
            "Epoch 00084: LearningRateScheduler reducing learning rate to 0.0010000000474974513.\n",
            "Epoch 84/100\n",
            "59648/60000 [============================>.] - ETA: 0s - loss: 0.0456 - acc: 0.9833"
          ],
          "name": "stdout"
        },
        {
          "output_type": "stream",
          "text": [
            "W0824 06:55:27.759939 140464170198912 callbacks.py:989] Can save best model only with accuracy available, skipping.\n"
          ],
          "name": "stderr"
        },
        {
          "output_type": "stream",
          "text": [
            "60000/60000 [==============================] - 5s 88us/sample - loss: 0.0457 - acc: 0.9833 - val_loss: 0.2915 - val_acc: 0.9389\n",
            "\n",
            "Epoch 00085: LearningRateScheduler reducing learning rate to 0.0010000000474974513.\n",
            "Epoch 85/100\n",
            "59648/60000 [============================>.] - ETA: 0s - loss: 0.0431 - acc: 0.9849"
          ],
          "name": "stdout"
        },
        {
          "output_type": "stream",
          "text": [
            "W0824 06:55:33.023519 140464170198912 callbacks.py:989] Can save best model only with accuracy available, skipping.\n"
          ],
          "name": "stderr"
        },
        {
          "output_type": "stream",
          "text": [
            "60000/60000 [==============================] - 5s 88us/sample - loss: 0.0431 - acc: 0.9849 - val_loss: 0.3117 - val_acc: 0.9400\n",
            "\n",
            "Epoch 00086: LearningRateScheduler reducing learning rate to 0.0010000000474974513.\n",
            "Epoch 86/100\n",
            "59648/60000 [============================>.] - ETA: 0s - loss: 0.0440 - acc: 0.9834"
          ],
          "name": "stdout"
        },
        {
          "output_type": "stream",
          "text": [
            "W0824 06:55:38.285476 140464170198912 callbacks.py:989] Can save best model only with accuracy available, skipping.\n"
          ],
          "name": "stderr"
        },
        {
          "output_type": "stream",
          "text": [
            "60000/60000 [==============================] - 5s 88us/sample - loss: 0.0440 - acc: 0.9834 - val_loss: 0.3038 - val_acc: 0.9389\n",
            "\n",
            "Epoch 00087: LearningRateScheduler reducing learning rate to 0.0010000000474974513.\n",
            "Epoch 87/100\n",
            "59648/60000 [============================>.] - ETA: 0s - loss: 0.0433 - acc: 0.9843"
          ],
          "name": "stdout"
        },
        {
          "output_type": "stream",
          "text": [
            "W0824 06:55:43.568564 140464170198912 callbacks.py:989] Can save best model only with accuracy available, skipping.\n"
          ],
          "name": "stderr"
        },
        {
          "output_type": "stream",
          "text": [
            "60000/60000 [==============================] - 5s 88us/sample - loss: 0.0433 - acc: 0.9842 - val_loss: 0.2885 - val_acc: 0.9395\n",
            "\n",
            "Epoch 00088: LearningRateScheduler reducing learning rate to 0.0010000000474974513.\n",
            "Epoch 88/100\n",
            "59776/60000 [============================>.] - ETA: 0s - loss: 0.0444 - acc: 0.9839"
          ],
          "name": "stdout"
        },
        {
          "output_type": "stream",
          "text": [
            "W0824 06:55:48.862147 140464170198912 callbacks.py:989] Can save best model only with accuracy available, skipping.\n"
          ],
          "name": "stderr"
        },
        {
          "output_type": "stream",
          "text": [
            "60000/60000 [==============================] - 5s 88us/sample - loss: 0.0444 - acc: 0.9839 - val_loss: 0.2785 - val_acc: 0.9399\n",
            "\n",
            "Epoch 00089: LearningRateScheduler reducing learning rate to 0.0010000000474974513.\n",
            "Epoch 89/100\n",
            "59648/60000 [============================>.] - ETA: 0s - loss: 0.0421 - acc: 0.9846"
          ],
          "name": "stdout"
        },
        {
          "output_type": "stream",
          "text": [
            "W0824 06:55:54.191834 140464170198912 callbacks.py:989] Can save best model only with accuracy available, skipping.\n"
          ],
          "name": "stderr"
        },
        {
          "output_type": "stream",
          "text": [
            "60000/60000 [==============================] - 5s 89us/sample - loss: 0.0421 - acc: 0.9846 - val_loss: 0.3044 - val_acc: 0.9406\n",
            "\n",
            "Epoch 00090: LearningRateScheduler reducing learning rate to 0.0010000000474974513.\n",
            "Epoch 90/100\n",
            "59648/60000 [============================>.] - ETA: 0s - loss: 0.0418 - acc: 0.9845"
          ],
          "name": "stdout"
        },
        {
          "output_type": "stream",
          "text": [
            "W0824 06:55:59.478485 140464170198912 callbacks.py:989] Can save best model only with accuracy available, skipping.\n"
          ],
          "name": "stderr"
        },
        {
          "output_type": "stream",
          "text": [
            "60000/60000 [==============================] - 5s 88us/sample - loss: 0.0418 - acc: 0.9846 - val_loss: 0.3237 - val_acc: 0.9367\n",
            "\n",
            "Epoch 00091: LearningRateScheduler reducing learning rate to 0.00010000000474974513.\n",
            "Epoch 91/100\n",
            "59648/60000 [============================>.] - ETA: 0s - loss: 0.0345 - acc: 0.9873"
          ],
          "name": "stdout"
        },
        {
          "output_type": "stream",
          "text": [
            "W0824 06:56:04.800495 140464170198912 callbacks.py:989] Can save best model only with accuracy available, skipping.\n"
          ],
          "name": "stderr"
        },
        {
          "output_type": "stream",
          "text": [
            "60000/60000 [==============================] - 5s 89us/sample - loss: 0.0345 - acc: 0.9873 - val_loss: 0.3084 - val_acc: 0.9410\n",
            "\n",
            "Epoch 00092: LearningRateScheduler reducing learning rate to 0.00010000000474974513.\n",
            "Epoch 92/100\n",
            "59648/60000 [============================>.] - ETA: 0s - loss: 0.0305 - acc: 0.9886"
          ],
          "name": "stdout"
        },
        {
          "output_type": "stream",
          "text": [
            "W0824 06:56:10.148253 140464170198912 callbacks.py:989] Can save best model only with accuracy available, skipping.\n"
          ],
          "name": "stderr"
        },
        {
          "output_type": "stream",
          "text": [
            "60000/60000 [==============================] - 5s 89us/sample - loss: 0.0304 - acc: 0.9886 - val_loss: 0.3124 - val_acc: 0.9414\n",
            "\n",
            "Epoch 00093: LearningRateScheduler reducing learning rate to 0.00010000000474974513.\n",
            "Epoch 93/100\n",
            "59392/60000 [============================>.] - ETA: 0s - loss: 0.0294 - acc: 0.9894"
          ],
          "name": "stdout"
        },
        {
          "output_type": "stream",
          "text": [
            "W0824 06:56:15.499289 140464170198912 callbacks.py:989] Can save best model only with accuracy available, skipping.\n"
          ],
          "name": "stderr"
        },
        {
          "output_type": "stream",
          "text": [
            "60000/60000 [==============================] - 5s 89us/sample - loss: 0.0294 - acc: 0.9894 - val_loss: 0.3198 - val_acc: 0.9409\n",
            "\n",
            "Epoch 00094: LearningRateScheduler reducing learning rate to 0.00010000000474974513.\n",
            "Epoch 94/100\n",
            "59648/60000 [============================>.] - ETA: 0s - loss: 0.0289 - acc: 0.9892"
          ],
          "name": "stdout"
        },
        {
          "output_type": "stream",
          "text": [
            "W0824 06:56:20.776332 140464170198912 callbacks.py:989] Can save best model only with accuracy available, skipping.\n"
          ],
          "name": "stderr"
        },
        {
          "output_type": "stream",
          "text": [
            "60000/60000 [==============================] - 5s 88us/sample - loss: 0.0288 - acc: 0.9892 - val_loss: 0.3181 - val_acc: 0.9414\n",
            "\n",
            "Epoch 00095: LearningRateScheduler reducing learning rate to 0.00010000000474974513.\n",
            "Epoch 95/100\n",
            "59648/60000 [============================>.] - ETA: 0s - loss: 0.0277 - acc: 0.9900"
          ],
          "name": "stdout"
        },
        {
          "output_type": "stream",
          "text": [
            "W0824 06:56:26.066490 140464170198912 callbacks.py:989] Can save best model only with accuracy available, skipping.\n"
          ],
          "name": "stderr"
        },
        {
          "output_type": "stream",
          "text": [
            "60000/60000 [==============================] - 5s 88us/sample - loss: 0.0278 - acc: 0.9900 - val_loss: 0.3195 - val_acc: 0.9415\n",
            "\n",
            "Epoch 00096: LearningRateScheduler reducing learning rate to 0.00010000000474974513.\n",
            "Epoch 96/100\n",
            "59520/60000 [============================>.] - ETA: 0s - loss: 0.0276 - acc: 0.9900"
          ],
          "name": "stdout"
        },
        {
          "output_type": "stream",
          "text": [
            "W0824 06:56:31.368226 140464170198912 callbacks.py:989] Can save best model only with accuracy available, skipping.\n"
          ],
          "name": "stderr"
        },
        {
          "output_type": "stream",
          "text": [
            "60000/60000 [==============================] - 5s 88us/sample - loss: 0.0275 - acc: 0.9900 - val_loss: 0.3234 - val_acc: 0.9418\n",
            "\n",
            "Epoch 00097: LearningRateScheduler reducing learning rate to 0.00010000000474974513.\n",
            "Epoch 97/100\n",
            "59648/60000 [============================>.] - ETA: 0s - loss: 0.0245 - acc: 0.9908"
          ],
          "name": "stdout"
        },
        {
          "output_type": "stream",
          "text": [
            "W0824 06:56:36.660233 140464170198912 callbacks.py:989] Can save best model only with accuracy available, skipping.\n"
          ],
          "name": "stderr"
        },
        {
          "output_type": "stream",
          "text": [
            "60000/60000 [==============================] - 5s 88us/sample - loss: 0.0245 - acc: 0.9908 - val_loss: 0.3260 - val_acc: 0.9414\n",
            "\n",
            "Epoch 00098: LearningRateScheduler reducing learning rate to 0.00010000000474974513.\n",
            "Epoch 98/100\n",
            "59648/60000 [============================>.] - ETA: 0s - loss: 0.0264 - acc: 0.9907"
          ],
          "name": "stdout"
        },
        {
          "output_type": "stream",
          "text": [
            "W0824 06:56:41.939687 140464170198912 callbacks.py:989] Can save best model only with accuracy available, skipping.\n"
          ],
          "name": "stderr"
        },
        {
          "output_type": "stream",
          "text": [
            "60000/60000 [==============================] - 5s 88us/sample - loss: 0.0264 - acc: 0.9907 - val_loss: 0.3250 - val_acc: 0.9420\n",
            "\n",
            "Epoch 00099: LearningRateScheduler reducing learning rate to 0.00010000000474974513.\n",
            "Epoch 99/100\n",
            "59520/60000 [============================>.] - ETA: 0s - loss: 0.0270 - acc: 0.9904"
          ],
          "name": "stdout"
        },
        {
          "output_type": "stream",
          "text": [
            "W0824 06:56:47.222740 140464170198912 callbacks.py:989] Can save best model only with accuracy available, skipping.\n"
          ],
          "name": "stderr"
        },
        {
          "output_type": "stream",
          "text": [
            "60000/60000 [==============================] - 5s 88us/sample - loss: 0.0269 - acc: 0.9905 - val_loss: 0.3228 - val_acc: 0.9413\n",
            "\n",
            "Epoch 00100: LearningRateScheduler reducing learning rate to 0.00010000000474974513.\n",
            "Epoch 100/100\n",
            "59520/60000 [============================>.] - ETA: 0s - loss: 0.0252 - acc: 0.9912"
          ],
          "name": "stdout"
        },
        {
          "output_type": "stream",
          "text": [
            "W0824 06:56:52.487709 140464170198912 callbacks.py:989] Can save best model only with accuracy available, skipping.\n"
          ],
          "name": "stderr"
        },
        {
          "output_type": "stream",
          "text": [
            "\b\b\b\b\b\b\b\b\b\b\b\b\b\b\b\b\b\b\b\b\b\b\b\b\b\b\b\b\b\b\b\b\b\b\b\b\b\b\b\b\b\b\b\b\b\b\b\b\b\b\b\b\b\b\b\b\b\b\b\b\b\b\b\b\b\b\b\b\b\b\b\b\b\b\b\b\b\b\b\b\b\b\b\r60000/60000 [==============================] - 5s 88us/sample - loss: 0.0252 - acc: 0.9912 - val_loss: 0.3300 - val_acc: 0.9416\n"
          ],
          "name": "stdout"
        },
        {
          "output_type": "execute_result",
          "data": {
            "text/plain": [
              "<tensorflow.python.keras.callbacks.History at 0x7fbf1c9979e8>"
            ]
          },
          "metadata": {
            "tags": []
          },
          "execution_count": 39
        }
      ]
    },
    {
      "cell_type": "markdown",
      "metadata": {
        "id": "QR9WUYXxqtfR",
        "colab_type": "text"
      },
      "source": [
        "# **4. 모델 저장**"
      ]
    },
    {
      "cell_type": "code",
      "metadata": {
        "id": "Wi9yznz4qvzK",
        "colab_type": "code",
        "colab": {}
      },
      "source": [
        "save_path = '/content/'\n",
        "team_name = 'team01'\n",
        "\n",
        "# 모델의 weight 값만 저장합니다.\n",
        "model.save_weights(save_path + 'model_weight_' + data_type + '_' + team_name + '.h5')\n",
        "\n",
        "# 모델의 구조만을 저장합니다.\n",
        "model_json = model.to_json()\n",
        "with open(save_path + 'model_structure_' + data_type + '_' + team_name + '.json', 'w') as json_file : \n",
        "    json_file.write(model_json)\n",
        "\n",
        "# 트레이닝된 전체 모델을 저장합니다.\n",
        "model.save(save_path +  'model_entire_' + data_type + '_' + team_name + '.h5')"
      ],
      "execution_count": 0,
      "outputs": []
    },
    {
      "cell_type": "markdown",
      "metadata": {
        "id": "1B2BoRDZ7cFl",
        "colab_type": "text"
      },
      "source": [
        "# **5. 모델 로드 및 평가**"
      ]
    },
    {
      "cell_type": "code",
      "metadata": {
        "id": "SDBwxVUx7knQ",
        "colab_type": "code",
        "outputId": "7c441edf-975a-4cd2-86c2-7dce6e1c9e0c",
        "colab": {
          "base_uri": "https://localhost:8080/",
          "height": 52
        }
      },
      "source": [
        "save_path = '/content/'\n",
        "team_name = 'team01'\n",
        "\n",
        "model = keras.models.load_model(save_path + 'model_entire_' + data_type + '_' + team_name + '.h5')\n",
        "model.evaluate(x_test_after, y_test)"
      ],
      "execution_count": 41,
      "outputs": [
        {
          "output_type": "stream",
          "text": [
            "10000/10000 [==============================] - 1s 110us/sample - loss: 0.3300 - acc: 0.9416\n"
          ],
          "name": "stdout"
        },
        {
          "output_type": "execute_result",
          "data": {
            "text/plain": [
              "[0.3299661362133455, 0.9416]"
            ]
          },
          "metadata": {
            "tags": []
          },
          "execution_count": 41
        }
      ]
    }
  ]
}