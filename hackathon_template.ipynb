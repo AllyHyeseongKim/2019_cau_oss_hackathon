{
  "nbformat": 4,
  "nbformat_minor": 0,
  "metadata": {
    "colab": {
      "name": "hackathon_template",
      "version": "0.3.2",
      "provenance": [],
      "collapsed_sections": [],
      "toc_visible": true,
      "include_colab_link": true
    },
    "kernelspec": {
      "name": "python3",
      "display_name": "Python 3"
    },
    "accelerator": "GPU"
  },
  "cells": [
    {
      "cell_type": "markdown",
      "metadata": {
        "id": "view-in-github",
        "colab_type": "text"
      },
      "source": [
        "<a href=\"https://colab.research.google.com/github/cauosshackathonta/2019_cau_oss_hackathon/blob/master/hackathon_template.ipynb\" target=\"_parent\"><img src=\"https://colab.research.google.com/assets/colab-badge.svg\" alt=\"Open In Colab\"/></a>"
      ]
    },
    {
      "cell_type": "markdown",
      "metadata": {
        "id": "1AosAX9DXOlc",
        "colab_type": "text"
      },
      "source": [
        "# **0. 해커톤 진행 주의사항**\n",
        "\n",
        "**1)  개발 관련 주의사항**\n",
        "*   [1. 초기 환경 설정]은 절대 수정하지 말 것\n",
        " *  단, 사용할 데이터셋에 따라 is_mnist만 수정\n",
        "*   모든 구현은 [2. 데이터 전처리]와 [3. 모델 생성]에서만 진행\n",
        " *  데이터 전처리 후 트레이닝, 데이터 셋은 x_train_after, x_test_after 변수명을 유지해주세요.\n",
        " *  데이터셋이 달라져도 같은 모델 구조를 유지하여야함.\n",
        "*   [4. 모델 저장]과 [5. 모델 로드 및 평가]에서 team_name 변수 변경 (예.`team_name = 'team01'`)\n",
        " *  트레이닝 중간에 checkpoint를 활용하여 모델을 저장한 경우에도 파일 이름 양식 통일 필수\n",
        " *  team_name을 제외한 다른 부분은 수정하지 말 것\n",
        "*   Colab 사용중 실수로 데이터 손실이 발생할 수도 있으니 중간 결과값을 github에 업로드 \n",
        " *    \"런타임->모든 런타임 재설정\"은 절대 누르지 말 것 (저장한 모델 데이터가 모두 삭제됨)\n",
        "*   효율적인 구현 및 테스팅을 위해 GPU 가속 기능 활성화\n",
        " *    \"런타임 -> 런타임 유형변경 -> 하드웨어 가속기 -> GPU 설정\"\n",
        "*   주석을 최대한 자세히 작성\n",
        "*   Keras API 관련하여 [Keras Documentation](https://keras.io/) 참조\n",
        "\n",
        "**2) 제출 관련 주의사항**\n",
        "*  제출물\n",
        " *  소스코드 (hackathon_teamXX.ipynb)\n",
        " *  모델 구조 파일 (model_structure_teamXX.json)\n",
        " *  모델 weight 파일 (model_weight_teamXX.h5)\n",
        " *  컴파일된 모델 파일 (model_entire_teamXX.h5)\n",
        "* 제출 기한: **오후 6시**\n",
        "* 제출 방법: [GitHub README](https://github.com/cauosshackathonta/2019_cau_oss_hackathon/) 참조\n",
        "\n",
        " \n",
        "**3) 평가 관련 주의사항**\n",
        "*  모델 성능 = 테스트 데이터 셋 분류 정확도\n",
        " *  model.evaluate(x_test, y_test)\n",
        "*  제출된 모델들의 테스트 데이터 셋 분류 정확도를 기준으로 수상작 결정\n",
        "*  수상 후보들에 대해서는 소스코드를 기반으로 모델 재검증 \n",
        " \n",
        "**4) 수상 실격 사유**\n",
        "*  유사한 소스코드 or 알고리즘이 적발될 경우\n",
        "*  소스코드와 제출된 모델이 상이한 경우\n",
        "*  두 개의 데이터셋에 대해 다른 모델 구조를 사용한 경우\n",
        "*  개발 관련 주의사항을 지키지 않은 경우\n",
        " *  예: [초기 환경 설정]을 수정한 경우\n",
        "*  데이터 셋을 변조한 경우\n",
        " *  예. 테스트 데이터 셋을 트레이닝 데이터 셋에 포함하여 모델 생성 \n",
        "*  주석이 소스코드와 맞지 않거나 미비할 경우\n",
        "\n",
        "\n",
        "\n",
        "\n"
      ]
    },
    {
      "cell_type": "markdown",
      "metadata": {
        "id": "67lwEXhUqys1",
        "colab_type": "text"
      },
      "source": [
        "# **1. 초기 환경 설정**\n",
        "\n"
      ]
    },
    {
      "cell_type": "code",
      "metadata": {
        "id": "Ms5PBBJ1qSC6",
        "colab_type": "code",
        "colab": {
          "base_uri": "https://localhost:8080/",
          "height": 190
        },
        "outputId": "3817f608-6c8f-4d46-ba30-3b927fd77228"
      },
      "source": [
        "from __future__ import absolute_import, division, print_function, unicode_literals, unicode_literals\n",
        "\n",
        "# tensorflow와 tf.keras 및 관련 라이브러리 임포트\n",
        "import tensorflow as tf\n",
        "from tensorflow import keras\n",
        "from keras.utils import np_utils\n",
        "\n",
        "import numpy as np\n",
        "\n",
        "is_mnist = True;\n",
        "\n",
        "# 데이터셋 로드\n",
        "# x_train, y_train: 트레이닝 데이터 및 레이블\n",
        "# x_test, y_test: 테스트 데이터 및 레이블\n",
        "if is_mnist:\n",
        "  data_type = 'mnist'\n",
        "  (x_train, y_train), (x_test, y_test) = keras.datasets.fashion_mnist.load_data() # fashion MNIST 데이터셋인 경우,\n",
        "else:\n",
        "  data_type = 'cifar10'\n",
        "  (x_train, y_train), (x_test, y_test) = keras.datasets.cifar10.load_data() # cifar10 데이터셋인 경우,\n",
        "\n",
        "\n",
        "# 분류를 위해 클래스 벡터를 바이너리 매트릭스로 변환\n",
        "y_train = np_utils.to_categorical(y_train)\n",
        "y_test = np_utils.to_categorical(y_test)\n",
        "\n",
        "# 총 클래스 개수\n",
        "num_classes = y_test.shape[1]\n",
        "\n",
        "# 인풋 데이터 타입\n",
        "input_shape = x_test.shape[1:]"
      ],
      "execution_count": 1,
      "outputs": [
        {
          "output_type": "stream",
          "text": [
            "Downloading data from https://storage.googleapis.com/tensorflow/tf-keras-datasets/train-labels-idx1-ubyte.gz\n",
            "32768/29515 [=================================] - 0s 0us/step\n",
            "Downloading data from https://storage.googleapis.com/tensorflow/tf-keras-datasets/train-images-idx3-ubyte.gz\n",
            " 6209536/26421880 [======>.......................] - ETA: 0s"
          ],
          "name": "stdout"
        },
        {
          "output_type": "stream",
          "text": [
            "Using TensorFlow backend.\n"
          ],
          "name": "stderr"
        },
        {
          "output_type": "stream",
          "text": [
            "26427392/26421880 [==============================] - 0s 0us/step\n",
            "Downloading data from https://storage.googleapis.com/tensorflow/tf-keras-datasets/t10k-labels-idx1-ubyte.gz\n",
            "8192/5148 [===============================================] - 0s 0us/step\n",
            "Downloading data from https://storage.googleapis.com/tensorflow/tf-keras-datasets/t10k-images-idx3-ubyte.gz\n",
            "4423680/4422102 [==============================] - 0s 0us/step\n"
          ],
          "name": "stdout"
        }
      ]
    },
    {
      "cell_type": "markdown",
      "metadata": {
        "id": "p9c2KLDBIhNQ",
        "colab_type": "text"
      },
      "source": [
        "# **2. 데이터 전처리**\n"
      ]
    },
    {
      "cell_type": "code",
      "metadata": {
        "id": "zJNgjaHvIhSS",
        "colab_type": "code",
        "colab": {}
      },
      "source": [
        "# 데이터 전처리 (예: normalization)\n",
        "x_train_after = x_train / 255.0\n",
        "x_test_after = x_test / 255.0"
      ],
      "execution_count": 0,
      "outputs": []
    },
    {
      "cell_type": "markdown",
      "metadata": {
        "id": "A-YjppJpXBO9",
        "colab_type": "text"
      },
      "source": [
        "# **3. 모델 생성**\n",
        "\n"
      ]
    },
    {
      "cell_type": "code",
      "metadata": {
        "id": "DZP4eRmRqgRp",
        "colab_type": "code",
        "colab": {
          "base_uri": "https://localhost:8080/",
          "height": 1000
        },
        "outputId": "3bd04c29-b878-4007-85f1-5abfb5dd48d2"
      },
      "source": [
        "# 순차 모델 생성 (가장 기본구조)\n",
        "model = keras.Sequential()\n",
        "\n",
        "# Flatten layer: 28 x 28 x 1 image를 784개의 1D vector input으로 변환\n",
        "model.add(keras.layers.Flatten(input_shape=input_shape))\n",
        "\n",
        "# 1st hidden layer: fully-connected layer\n",
        "# (# of inputs = 784, # of outputs = 512, actication fuction = relu)\n",
        "model.add(keras.layers.Dense(512, activation=tf.nn.relu))\n",
        "\n",
        "# 2nd hidden layer: fully-connected layer \n",
        "# (# of inputs = 512, # of outputs = 256, actication fuction = relu)\n",
        "model.add(keras.layers.Dense(256, activation=tf.nn.relu))\n",
        "\n",
        "# 3rd hidden layer: fully-connected layer \n",
        "# (# of inputs = 256, # of outputs = 64, actication fuction = relu)\n",
        "model.add(keras.layers.Dense(64, activation=tf.nn.relu))\n",
        "\n",
        "# Output layer: fully-connected layer \n",
        "# (# of inputs = 64, # of outputs = 10, actication fuction = softmax)\n",
        "model.add(keras.layers.Dense(num_classes, activation=tf.nn.softmax))\n",
        "\n",
        "# 모델 컴파일\n",
        "# optimizer: 모델을 업데이트 하는 방식\n",
        "# loss: 모델의 정확도를 판단하는 방식\n",
        "# metrics: 트레이닝 및 테스팅 성능 모니터링을 위한 평가지표\n",
        "model.compile(loss='categorical_crossentropy', optimizer='adam', metrics=['accuracy'])\n",
        "\n",
        "# 모델 트레이닝\n",
        "# batch_size: 전체 데이터셋 중 몇개씩 학습시킬 것인지\n",
        "# epoch: 학습에 전체 데이터셋이 총 몇번 이용될 것인지\n",
        "# shuffle: 학습전에 트레이닝 데이터셋을 랜덤하게 섞을 것인지\n",
        "# validation_data: 중간 성능 검증에 사용할 data set\n",
        "model.fit(x_train_after, y_train, batch_size = 128, epochs = 30, shuffle=True, validation_data=[x_test_after, y_test])"
      ],
      "execution_count": 3,
      "outputs": [
        {
          "output_type": "stream",
          "text": [
            "WARNING: Logging before flag parsing goes to stderr.\n",
            "W0823 08:31:28.060621 140237583124352 deprecation.py:506] From /usr/local/lib/python3.6/dist-packages/tensorflow/python/ops/init_ops.py:1251: calling VarianceScaling.__init__ (from tensorflow.python.ops.init_ops) with dtype is deprecated and will be removed in a future version.\n",
            "Instructions for updating:\n",
            "Call initializer instance with the dtype argument instead of passing it to the constructor\n"
          ],
          "name": "stderr"
        },
        {
          "output_type": "stream",
          "text": [
            "Train on 60000 samples, validate on 10000 samples\n",
            "Epoch 1/30\n",
            "60000/60000 [==============================] - 3s 57us/sample - loss: 0.4947 - acc: 0.8237 - val_loss: 0.4337 - val_acc: 0.8422\n",
            "Epoch 2/30\n",
            "60000/60000 [==============================] - 3s 43us/sample - loss: 0.3576 - acc: 0.8688 - val_loss: 0.4073 - val_acc: 0.8525\n",
            "Epoch 3/30\n",
            "60000/60000 [==============================] - 3s 43us/sample - loss: 0.3256 - acc: 0.8805 - val_loss: 0.3633 - val_acc: 0.8688\n",
            "Epoch 4/30\n",
            "60000/60000 [==============================] - 3s 43us/sample - loss: 0.2980 - acc: 0.8886 - val_loss: 0.3646 - val_acc: 0.8702\n",
            "Epoch 5/30\n",
            "60000/60000 [==============================] - 3s 43us/sample - loss: 0.2815 - acc: 0.8942 - val_loss: 0.4056 - val_acc: 0.8612\n",
            "Epoch 6/30\n",
            "60000/60000 [==============================] - 3s 44us/sample - loss: 0.2645 - acc: 0.9005 - val_loss: 0.3381 - val_acc: 0.8749\n",
            "Epoch 7/30\n",
            "60000/60000 [==============================] - 3s 43us/sample - loss: 0.2515 - acc: 0.9061 - val_loss: 0.3249 - val_acc: 0.8816\n",
            "Epoch 8/30\n",
            "60000/60000 [==============================] - 3s 43us/sample - loss: 0.2406 - acc: 0.9098 - val_loss: 0.3213 - val_acc: 0.8875\n",
            "Epoch 9/30\n",
            "60000/60000 [==============================] - 3s 43us/sample - loss: 0.2295 - acc: 0.9133 - val_loss: 0.3248 - val_acc: 0.8840\n",
            "Epoch 10/30\n",
            "60000/60000 [==============================] - 3s 42us/sample - loss: 0.2223 - acc: 0.9166 - val_loss: 0.3244 - val_acc: 0.8890\n",
            "Epoch 11/30\n",
            "60000/60000 [==============================] - 3s 43us/sample - loss: 0.2098 - acc: 0.9199 - val_loss: 0.3455 - val_acc: 0.8891\n",
            "Epoch 12/30\n",
            "60000/60000 [==============================] - 3s 43us/sample - loss: 0.2026 - acc: 0.9227 - val_loss: 0.3341 - val_acc: 0.8883\n",
            "Epoch 13/30\n",
            "60000/60000 [==============================] - 3s 43us/sample - loss: 0.1951 - acc: 0.9247 - val_loss: 0.3422 - val_acc: 0.8877\n",
            "Epoch 14/30\n",
            "60000/60000 [==============================] - 3s 43us/sample - loss: 0.1897 - acc: 0.9281 - val_loss: 0.3711 - val_acc: 0.8849\n",
            "Epoch 15/30\n",
            "60000/60000 [==============================] - 3s 43us/sample - loss: 0.1807 - acc: 0.9305 - val_loss: 0.3398 - val_acc: 0.8887\n",
            "Epoch 16/30\n",
            "60000/60000 [==============================] - 3s 43us/sample - loss: 0.1734 - acc: 0.9334 - val_loss: 0.3382 - val_acc: 0.8938\n",
            "Epoch 17/30\n",
            "60000/60000 [==============================] - 3s 43us/sample - loss: 0.1680 - acc: 0.9352 - val_loss: 0.3435 - val_acc: 0.8910\n",
            "Epoch 18/30\n",
            "60000/60000 [==============================] - 3s 43us/sample - loss: 0.1655 - acc: 0.9362 - val_loss: 0.3277 - val_acc: 0.8941\n",
            "Epoch 19/30\n",
            "60000/60000 [==============================] - 3s 42us/sample - loss: 0.1575 - acc: 0.9391 - val_loss: 0.3547 - val_acc: 0.8918\n",
            "Epoch 20/30\n",
            "60000/60000 [==============================] - 3s 43us/sample - loss: 0.1500 - acc: 0.9428 - val_loss: 0.3592 - val_acc: 0.8958\n",
            "Epoch 21/30\n",
            "60000/60000 [==============================] - 3s 43us/sample - loss: 0.1447 - acc: 0.9441 - val_loss: 0.3670 - val_acc: 0.8963\n",
            "Epoch 22/30\n",
            "60000/60000 [==============================] - 3s 42us/sample - loss: 0.1418 - acc: 0.9462 - val_loss: 0.3585 - val_acc: 0.8961\n",
            "Epoch 23/30\n",
            "60000/60000 [==============================] - 3s 43us/sample - loss: 0.1355 - acc: 0.9478 - val_loss: 0.3570 - val_acc: 0.8892\n",
            "Epoch 24/30\n",
            "60000/60000 [==============================] - 3s 43us/sample - loss: 0.1315 - acc: 0.9488 - val_loss: 0.3668 - val_acc: 0.8937\n",
            "Epoch 25/30\n",
            "60000/60000 [==============================] - 3s 43us/sample - loss: 0.1262 - acc: 0.9517 - val_loss: 0.3763 - val_acc: 0.8942\n",
            "Epoch 26/30\n",
            "60000/60000 [==============================] - 3s 43us/sample - loss: 0.1211 - acc: 0.9540 - val_loss: 0.3925 - val_acc: 0.8974\n",
            "Epoch 27/30\n",
            "60000/60000 [==============================] - 3s 42us/sample - loss: 0.1174 - acc: 0.9546 - val_loss: 0.3770 - val_acc: 0.9011\n",
            "Epoch 28/30\n",
            "60000/60000 [==============================] - 3s 43us/sample - loss: 0.1190 - acc: 0.9553 - val_loss: 0.3849 - val_acc: 0.8993\n",
            "Epoch 29/30\n",
            "60000/60000 [==============================] - 3s 45us/sample - loss: 0.1085 - acc: 0.9576 - val_loss: 0.4146 - val_acc: 0.8955\n",
            "Epoch 30/30\n",
            "60000/60000 [==============================] - 3s 46us/sample - loss: 0.1084 - acc: 0.9576 - val_loss: 0.4040 - val_acc: 0.8943\n"
          ],
          "name": "stdout"
        },
        {
          "output_type": "execute_result",
          "data": {
            "text/plain": [
              "<tensorflow.python.keras.callbacks.History at 0x7f8b4fec5518>"
            ]
          },
          "metadata": {
            "tags": []
          },
          "execution_count": 3
        }
      ]
    },
    {
      "cell_type": "markdown",
      "metadata": {
        "id": "QR9WUYXxqtfR",
        "colab_type": "text"
      },
      "source": [
        "# **4. 모델 저장**"
      ]
    },
    {
      "cell_type": "code",
      "metadata": {
        "id": "Wi9yznz4qvzK",
        "colab_type": "code",
        "colab": {}
      },
      "source": [
        "save_path = '/content/'\n",
        "team_name = 'teamXX'\n",
        "\n",
        "# 모델의 weight 값만 저장합니다.\n",
        "model.save_weights(save_path + 'model_weight_' + data_type + '_' + team_name + '.h5')\n",
        "\n",
        "# 모델의 구조만을 저장합니다.\n",
        "model_json = model.to_json()\n",
        "with open(save_path + 'model_structure_' + data_type + '_' + team_name + '.json', 'w') as json_file : \n",
        "    json_file.write(model_json)\n",
        "\n",
        "# 트레이닝된 전체 모델을 저장합니다.\n",
        "model.save(save_path +  'model_entire_' + data_type + '_' + team_name + '.h5')"
      ],
      "execution_count": 0,
      "outputs": []
    },
    {
      "cell_type": "markdown",
      "metadata": {
        "id": "1B2BoRDZ7cFl",
        "colab_type": "text"
      },
      "source": [
        "# **5. 모델 로드 및 평가**"
      ]
    },
    {
      "cell_type": "code",
      "metadata": {
        "id": "SDBwxVUx7knQ",
        "colab_type": "code",
        "colab": {
          "base_uri": "https://localhost:8080/",
          "height": 173
        },
        "outputId": "b6162818-aa00-415e-b8cd-4777d35e7c77"
      },
      "source": [
        "save_path = '/content/'\n",
        "team_name = 'teamXX'\n",
        "\n",
        "model = keras.models.load_model(save_path + 'model_entire_' + data_type + '_' + team_name + '.h5')\n",
        "model.evaluate(x_test_after, y_test)"
      ],
      "execution_count": 6,
      "outputs": [
        {
          "output_type": "stream",
          "text": [
            "W0823 08:36:01.294656 140237583124352 deprecation.py:506] From /usr/local/lib/python3.6/dist-packages/tensorflow/python/ops/init_ops.py:97: calling GlorotUniform.__init__ (from tensorflow.python.ops.init_ops) with dtype is deprecated and will be removed in a future version.\n",
            "Instructions for updating:\n",
            "Call initializer instance with the dtype argument instead of passing it to the constructor\n",
            "W0823 08:36:01.298159 140237583124352 deprecation.py:506] From /usr/local/lib/python3.6/dist-packages/tensorflow/python/ops/init_ops.py:97: calling Zeros.__init__ (from tensorflow.python.ops.init_ops) with dtype is deprecated and will be removed in a future version.\n",
            "Instructions for updating:\n",
            "Call initializer instance with the dtype argument instead of passing it to the constructor\n"
          ],
          "name": "stderr"
        },
        {
          "output_type": "stream",
          "text": [
            "10000/10000 [==============================] - 1s 86us/sample - loss: 0.4040 - acc: 0.8943\n"
          ],
          "name": "stdout"
        },
        {
          "output_type": "execute_result",
          "data": {
            "text/plain": [
              "[0.40397824568748475, 0.8943]"
            ]
          },
          "metadata": {
            "tags": []
          },
          "execution_count": 6
        }
      ]
    },
    {
      "cell_type": "code",
      "metadata": {
        "id": "oSgqEQ13mgG2",
        "colab_type": "code",
        "colab": {}
      },
      "source": [
        ""
      ],
      "execution_count": 0,
      "outputs": []
    }
  ]
}